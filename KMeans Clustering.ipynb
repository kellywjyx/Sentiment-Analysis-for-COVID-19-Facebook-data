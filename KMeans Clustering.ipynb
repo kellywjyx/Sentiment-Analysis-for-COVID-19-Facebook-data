{
 "cells": [
  {
   "cell_type": "code",
   "execution_count": 1,
   "id": "headed-comparative",
   "metadata": {},
   "outputs": [],
   "source": [
    "import pandas as pd\n",
    "import numpy as np\n",
    "from gensim.models import Word2Vec\n",
    "from sklearn.cluster import KMeans"
   ]
  },
  {
   "cell_type": "code",
   "execution_count": 2,
   "id": "overhead-community",
   "metadata": {},
   "outputs": [],
   "source": [
    "word_vectors = Word2Vec.load(\"word2vec.model\").wv"
   ]
  },
  {
   "cell_type": "code",
   "execution_count": 10,
   "id": "informal-print",
   "metadata": {},
   "outputs": [],
   "source": [
    "word_vectors = Word2Vec.load(\"word2vec5.model\").wv"
   ]
  },
  {
   "cell_type": "code",
   "execution_count": 18,
   "id": "consistent-camel",
   "metadata": {},
   "outputs": [],
   "source": [
    "word_vectors = Word2Vec.load(\"word2vec6.model\").wv"
   ]
  },
  {
   "cell_type": "code",
   "execution_count": 19,
   "id": "adapted-japan",
   "metadata": {},
   "outputs": [],
   "source": [
    "model = KMeans(n_clusters=2, max_iter=1000, random_state=True, n_init=50).fit(X=word_vectors.vectors.astype('double'))"
   ]
  },
  {
   "cell_type": "code",
   "execution_count": 20,
   "id": "eastern-swedish",
   "metadata": {},
   "outputs": [
    {
     "data": {
      "text/plain": [
       "[('shn_arrival', 0.9997286796569824),\n",
       " ('nationality', 0.9996926784515381),\n",
       " ('allow_enter', 0.9993972778320312),\n",
       " ('work_pas', 0.9991375207901001),\n",
       " ('ica', 0.9989737272262573),\n",
       " ('employment_pass', 0.9989451169967651),\n",
       " ('allow_entry', 0.9987016916275024),\n",
       " ('spouse', 0.9985339641571045),\n",
       " ('dp', 0.9985276460647583),\n",
       " ('indonesia', 0.9979780316352844)]"
      ]
     },
     "execution_count": 20,
     "metadata": {},
     "output_type": "execute_result"
    }
   ],
   "source": [
    "word_vectors.similar_by_vector(model.cluster_centers_[1], topn=10, restrict_vocab=None)"
   ]
  },
  {
   "cell_type": "code",
   "execution_count": 21,
   "id": "engaging-fourth",
   "metadata": {},
   "outputs": [],
   "source": [
    "positive_cluster_index = 1\n",
    "positive_cluster_center = model.cluster_centers_[positive_cluster_index]\n",
    "negative_cluster_center = model.cluster_centers_[1-positive_cluster_index]"
   ]
  },
  {
   "cell_type": "code",
   "execution_count": 22,
   "id": "animated-interest",
   "metadata": {},
   "outputs": [],
   "source": [
    "words = pd.DataFrame(word_vectors.vocab.keys())\n",
    "words.columns = ['words']\n",
    "words['vectors'] = words.words.apply(lambda x: word_vectors[f'{x}'])\n",
    "words['cluster'] = words.vectors.apply(lambda x: model.predict([np.array(x)]))\n",
    "words.cluster = words.cluster.apply(lambda x: x[0])"
   ]
  },
  {
   "cell_type": "code",
   "execution_count": 23,
   "id": "mathematical-cherry",
   "metadata": {},
   "outputs": [],
   "source": [
    "words['cluster_value'] = [1 if i==positive_cluster_index else -1 for i in words.cluster]\n",
    "words['closeness_score'] = words.apply(lambda x: 1/(model.transform([x.vectors]).min()), axis=1)\n",
    "words['sentiment_coeff'] = words.closeness_score * words.cluster_value"
   ]
  },
  {
   "cell_type": "code",
   "execution_count": 24,
   "id": "sitting-access",
   "metadata": {},
   "outputs": [
    {
     "data": {
      "text/html": [
       "<div>\n",
       "<style scoped>\n",
       "    .dataframe tbody tr th:only-of-type {\n",
       "        vertical-align: middle;\n",
       "    }\n",
       "\n",
       "    .dataframe tbody tr th {\n",
       "        vertical-align: top;\n",
       "    }\n",
       "\n",
       "    .dataframe thead th {\n",
       "        text-align: right;\n",
       "    }\n",
       "</style>\n",
       "<table border=\"1\" class=\"dataframe\">\n",
       "  <thead>\n",
       "    <tr style=\"text-align: right;\">\n",
       "      <th></th>\n",
       "      <th>words</th>\n",
       "      <th>vectors</th>\n",
       "      <th>cluster</th>\n",
       "      <th>cluster_value</th>\n",
       "      <th>closeness_score</th>\n",
       "      <th>sentiment_coeff</th>\n",
       "    </tr>\n",
       "  </thead>\n",
       "  <tbody>\n",
       "    <tr>\n",
       "      <th>0</th>\n",
       "      <td>bad_news</td>\n",
       "      <td>[-0.033518843, -0.058300525, 0.014068982, 0.05...</td>\n",
       "      <td>0</td>\n",
       "      <td>-1</td>\n",
       "      <td>13.562574</td>\n",
       "      <td>-13.562574</td>\n",
       "    </tr>\n",
       "    <tr>\n",
       "      <th>1</th>\n",
       "      <td>will</td>\n",
       "      <td>[-0.03354157, -0.07019191, 0.0071687284, 0.046...</td>\n",
       "      <td>0</td>\n",
       "      <td>-1</td>\n",
       "      <td>10.149953</td>\n",
       "      <td>-10.149953</td>\n",
       "    </tr>\n",
       "    <tr>\n",
       "      <th>2</th>\n",
       "      <td>know</td>\n",
       "      <td>[-0.0020536194, -0.073126964, 0.002065256, 0.0...</td>\n",
       "      <td>0</td>\n",
       "      <td>-1</td>\n",
       "      <td>3.670131</td>\n",
       "      <td>-3.670131</td>\n",
       "    </tr>\n",
       "    <tr>\n",
       "      <th>3</th>\n",
       "      <td>test</td>\n",
       "      <td>[0.012101652, -0.053751227, 0.018134886, 0.035...</td>\n",
       "      <td>1</td>\n",
       "      <td>1</td>\n",
       "      <td>2.988921</td>\n",
       "      <td>2.988921</td>\n",
       "    </tr>\n",
       "    <tr>\n",
       "      <th>4</th>\n",
       "      <td>people</td>\n",
       "      <td>[-0.044620186, -0.06866997, 0.0009213653, 0.04...</td>\n",
       "      <td>0</td>\n",
       "      <td>-1</td>\n",
       "      <td>3.059425</td>\n",
       "      <td>-3.059425</td>\n",
       "    </tr>\n",
       "    <tr>\n",
       "      <th>5</th>\n",
       "      <td>complacent</td>\n",
       "      <td>[-0.01572066, -0.07914429, 0.005962723, 0.0479...</td>\n",
       "      <td>0</td>\n",
       "      <td>-1</td>\n",
       "      <td>7.699755</td>\n",
       "      <td>-7.699755</td>\n",
       "    </tr>\n",
       "    <tr>\n",
       "      <th>6</th>\n",
       "      <td>feel</td>\n",
       "      <td>[-0.052871615, -0.049261257, 0.016977314, 0.03...</td>\n",
       "      <td>0</td>\n",
       "      <td>-1</td>\n",
       "      <td>3.698023</td>\n",
       "      <td>-3.698023</td>\n",
       "    </tr>\n",
       "    <tr>\n",
       "      <th>7</th>\n",
       "      <td>despite_have</td>\n",
       "      <td>[-0.032295678, -0.069487624, 0.006857781, 0.03...</td>\n",
       "      <td>0</td>\n",
       "      <td>-1</td>\n",
       "      <td>10.987894</td>\n",
       "      <td>-10.987894</td>\n",
       "    </tr>\n",
       "    <tr>\n",
       "      <th>8</th>\n",
       "      <td>positive</td>\n",
       "      <td>[-0.008257556, -0.053641304, 0.018816374, 0.05...</td>\n",
       "      <td>1</td>\n",
       "      <td>1</td>\n",
       "      <td>4.611333</td>\n",
       "      <td>4.611333</td>\n",
       "    </tr>\n",
       "    <tr>\n",
       "      <th>9</th>\n",
       "      <td>test_result</td>\n",
       "      <td>[-0.023797367, -0.04827305, 0.02366066, 0.0643...</td>\n",
       "      <td>1</td>\n",
       "      <td>1</td>\n",
       "      <td>5.285563</td>\n",
       "      <td>5.285563</td>\n",
       "    </tr>\n",
       "  </tbody>\n",
       "</table>\n",
       "</div>"
      ],
      "text/plain": [
       "          words                                            vectors  cluster  \\\n",
       "0      bad_news  [-0.033518843, -0.058300525, 0.014068982, 0.05...        0   \n",
       "1          will  [-0.03354157, -0.07019191, 0.0071687284, 0.046...        0   \n",
       "2          know  [-0.0020536194, -0.073126964, 0.002065256, 0.0...        0   \n",
       "3          test  [0.012101652, -0.053751227, 0.018134886, 0.035...        1   \n",
       "4        people  [-0.044620186, -0.06866997, 0.0009213653, 0.04...        0   \n",
       "5    complacent  [-0.01572066, -0.07914429, 0.005962723, 0.0479...        0   \n",
       "6          feel  [-0.052871615, -0.049261257, 0.016977314, 0.03...        0   \n",
       "7  despite_have  [-0.032295678, -0.069487624, 0.006857781, 0.03...        0   \n",
       "8      positive  [-0.008257556, -0.053641304, 0.018816374, 0.05...        1   \n",
       "9   test_result  [-0.023797367, -0.04827305, 0.02366066, 0.0643...        1   \n",
       "\n",
       "   cluster_value  closeness_score  sentiment_coeff  \n",
       "0             -1        13.562574       -13.562574  \n",
       "1             -1        10.149953       -10.149953  \n",
       "2             -1         3.670131        -3.670131  \n",
       "3              1         2.988921         2.988921  \n",
       "4             -1         3.059425        -3.059425  \n",
       "5             -1         7.699755        -7.699755  \n",
       "6             -1         3.698023        -3.698023  \n",
       "7             -1        10.987894       -10.987894  \n",
       "8              1         4.611333         4.611333  \n",
       "9              1         5.285563         5.285563  "
      ]
     },
     "execution_count": 24,
     "metadata": {},
     "output_type": "execute_result"
    }
   ],
   "source": [
    "words.head(10)"
   ]
  },
  {
   "cell_type": "code",
   "execution_count": 9,
   "id": "wanted-compensation",
   "metadata": {},
   "outputs": [],
   "source": [
    "words[['words', 'sentiment_coeff']].to_csv('sentiment_dictionary1.csv', index=False)"
   ]
  },
  {
   "cell_type": "code",
   "execution_count": 17,
   "id": "described-liability",
   "metadata": {},
   "outputs": [],
   "source": [
    "words[['words', 'sentiment_coeff']].to_csv('sentiment_dictionary5.csv', index=False)"
   ]
  },
  {
   "cell_type": "code",
   "execution_count": 25,
   "id": "distinguished-hungarian",
   "metadata": {},
   "outputs": [],
   "source": [
    "words[['words', 'sentiment_coeff']].to_csv('sentiment_dictionary6.csv', index=False)"
   ]
  },
  {
   "cell_type": "code",
   "execution_count": null,
   "id": "dated-profile",
   "metadata": {},
   "outputs": [],
   "source": []
  }
 ],
 "metadata": {
  "kernelspec": {
   "display_name": "Python 3",
   "language": "python",
   "name": "python3"
  },
  "language_info": {
   "codemirror_mode": {
    "name": "ipython",
    "version": 3
   },
   "file_extension": ".py",
   "mimetype": "text/x-python",
   "name": "python",
   "nbconvert_exporter": "python",
   "pygments_lexer": "ipython3",
   "version": "3.8.5"
  }
 },
 "nbformat": 4,
 "nbformat_minor": 5
}

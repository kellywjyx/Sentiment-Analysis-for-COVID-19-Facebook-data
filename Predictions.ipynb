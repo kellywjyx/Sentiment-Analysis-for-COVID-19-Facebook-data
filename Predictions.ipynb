{
 "cells": [
  {
   "cell_type": "code",
   "execution_count": 1,
   "id": "thermal-movie",
   "metadata": {},
   "outputs": [],
   "source": [
    "import pandas as pd\n",
    "import numpy as np\n",
    "from sklearn.feature_extraction.text import TfidfVectorizer\n",
    "from sklearn.metrics import accuracy_score, confusion_matrix, precision_score, recall_score, f1_score\n",
    "from IPython.display import display"
   ]
  },
  {
   "cell_type": "code",
   "execution_count": 2,
   "id": "finnish-leadership",
   "metadata": {},
   "outputs": [],
   "source": [
    "final_file = pd.read_csv('cleaned_dataset4.csv')"
   ]
  },
  {
   "cell_type": "code",
   "execution_count": 24,
   "id": "circular-antigua",
   "metadata": {},
   "outputs": [],
   "source": [
    "final_file = pd.read_csv('cleaned_dataset5.csv')"
   ]
  },
  {
   "cell_type": "code",
   "execution_count": 3,
   "id": "marine-morgan",
   "metadata": {},
   "outputs": [],
   "source": [
    "sentiment_map = pd.read_csv('sentiment_dictionary1.csv')\n",
    "sentiment_dict = dict(zip(sentiment_map.words.values, sentiment_map.sentiment_coeff.values))"
   ]
  },
  {
   "cell_type": "code",
   "execution_count": 25,
   "id": "dress-exclusive",
   "metadata": {},
   "outputs": [],
   "source": [
    "sentiment_map = pd.read_csv('sentiment_dictionary5.csv')\n",
    "sentiment_dict = dict(zip(sentiment_map.words.values, sentiment_map.sentiment_coeff.values))"
   ]
  },
  {
   "cell_type": "code",
   "execution_count": 37,
   "id": "danish-standard",
   "metadata": {},
   "outputs": [],
   "source": [
    "sentiment_map = pd.read_csv('sentiment_dictionary6.csv')\n",
    "sentiment_dict = dict(zip(sentiment_map.words.values, sentiment_map.sentiment_coeff.values))"
   ]
  },
  {
   "cell_type": "code",
   "execution_count": 38,
   "id": "guided-sacramento",
   "metadata": {},
   "outputs": [],
   "source": [
    "#Getting tfidf scores of words in every sentence, and replacing them with their associated tfidf weights:\n",
    "file_weighting = final_file.copy()"
   ]
  },
  {
   "cell_type": "code",
   "execution_count": 39,
   "id": "affecting-windows",
   "metadata": {},
   "outputs": [
    {
     "data": {
      "text/html": [
       "<div>\n",
       "<style scoped>\n",
       "    .dataframe tbody tr th:only-of-type {\n",
       "        vertical-align: middle;\n",
       "    }\n",
       "\n",
       "    .dataframe tbody tr th {\n",
       "        vertical-align: top;\n",
       "    }\n",
       "\n",
       "    .dataframe thead th {\n",
       "        text-align: right;\n",
       "    }\n",
       "</style>\n",
       "<table border=\"1\" class=\"dataframe\">\n",
       "  <thead>\n",
       "    <tr style=\"text-align: right;\">\n",
       "      <th></th>\n",
       "      <th>text</th>\n",
       "      <th>created_at</th>\n",
       "      <th>old_text</th>\n",
       "    </tr>\n",
       "  </thead>\n",
       "  <tbody>\n",
       "    <tr>\n",
       "      <th>0</th>\n",
       "      <td>and the bad_news you won't know if you have it...</td>\n",
       "      <td>2021-09-04T08:15:55+0000</td>\n",
       "      <td>and the bad news you won't know if you have it...</td>\n",
       "    </tr>\n",
       "    <tr>\n",
       "      <th>1</th>\n",
       "      <td>if people are expressing_concerns then it is a...</td>\n",
       "      <td>2021-09-04T08:11:13+0000</td>\n",
       "      <td>if people are expressing concerns then it is a...</td>\n",
       "    </tr>\n",
       "    <tr>\n",
       "      <th>2</th>\n",
       "      <td>how_about our kids_under 12 ? they got no prot...</td>\n",
       "      <td>2021-09-04T08:00:19+0000</td>\n",
       "      <td>how about our kids under 12 ? they got no prot...</td>\n",
       "    </tr>\n",
       "    <tr>\n",
       "      <th>3</th>\n",
       "      <td>my past reading n understanding is that now ou...</td>\n",
       "      <td>2021-09-04T08:22:41+0000</td>\n",
       "      <td>my past reading n understanding is that now ou...</td>\n",
       "    </tr>\n",
       "    <tr>\n",
       "      <th>4</th>\n",
       "      <td>protect below_12 year_olds don't sign them up ...</td>\n",
       "      <td>2021-09-04T09:57:54+0000</td>\n",
       "      <td>protect below 12 year olds don't sign them up ...</td>\n",
       "    </tr>\n",
       "  </tbody>\n",
       "</table>\n",
       "</div>"
      ],
      "text/plain": [
       "                                                text  \\\n",
       "0  and the bad_news you won't know if you have it...   \n",
       "1  if people are expressing_concerns then it is a...   \n",
       "2  how_about our kids_under 12 ? they got no prot...   \n",
       "3  my past reading n understanding is that now ou...   \n",
       "4  protect below_12 year_olds don't sign them up ...   \n",
       "\n",
       "                 created_at                                           old_text  \n",
       "0  2021-09-04T08:15:55+0000  and the bad news you won't know if you have it...  \n",
       "1  2021-09-04T08:11:13+0000  if people are expressing concerns then it is a...  \n",
       "2  2021-09-04T08:00:19+0000  how about our kids under 12 ? they got no prot...  \n",
       "3  2021-09-04T08:22:41+0000  my past reading n understanding is that now ou...  \n",
       "4  2021-09-04T09:57:54+0000  protect below 12 year olds don't sign them up ...  "
      ]
     },
     "execution_count": 39,
     "metadata": {},
     "output_type": "execute_result"
    }
   ],
   "source": [
    "file_weighting.head()"
   ]
  },
  {
   "cell_type": "code",
   "execution_count": 40,
   "id": "closing-period",
   "metadata": {},
   "outputs": [
    {
     "name": "stderr",
     "output_type": "stream",
     "text": [
      "/Users/kellywong/opt/anaconda3/lib/python3.8/site-packages/sklearn/feature_extraction/text.py:489: UserWarning:\n",
      "\n",
      "The parameter 'token_pattern' will not be used since 'tokenizer' is not None'\n",
      "\n"
     ]
    }
   ],
   "source": [
    "tfidf = TfidfVectorizer(tokenizer=lambda y: y.split(), norm=None)\n",
    "tfidf.fit(file_weighting.text)\n",
    "features = pd.Series(tfidf.get_feature_names())\n",
    "transformed = tfidf.transform(file_weighting.text)"
   ]
  },
  {
   "cell_type": "code",
   "execution_count": 41,
   "id": "attractive-cameroon",
   "metadata": {},
   "outputs": [],
   "source": [
    "#Replacing words in sentences with their tfidf scores\n",
    "def create_tfidf_dictionary(x, transformed_file, features):\n",
    "    '''\n",
    "    create dictionary for each input sentence x, where each word has assigned its tfidf score\n",
    "    \n",
    "    inspired  by function from this wonderful article: \n",
    "    https://medium.com/analytics-vidhya/automated-keyword-extraction-from-articles-using-nlp-bfd864f41b34\n",
    "    \n",
    "    x - row of dataframe, containing sentences, and their indexes,\n",
    "    transformed_file - all sentences transformed with TfidfVectorizer\n",
    "    features - names of all words in corpus used in TfidfVectorizer\n",
    "\n",
    "    '''\n",
    "    vector_coo = transformed_file[x.name].tocoo()\n",
    "    vector_coo.col = features.iloc[vector_coo.col].values\n",
    "    dict_from_coo = dict(zip(vector_coo.col, vector_coo.data))\n",
    "    return dict_from_coo\n",
    "\n",
    "def replace_tfidf_words(x, transformed_file, features):\n",
    "    '''\n",
    "    replacing each word with it's calculated tfidf dictionary with scores of each word\n",
    "    x - row of dataframe, containing sentences, and their indexes,\n",
    "    transformed_file - all sentences transformed with TfidfVectorizer\n",
    "    features - names of all words in corpus used in TfidfVectorizer\n",
    "    '''\n",
    "    dictionary = create_tfidf_dictionary(x, transformed_file, features)   \n",
    "    return list(map(lambda y:dictionary[f'{y}'], x.text.split()))"
   ]
  },
  {
   "cell_type": "code",
   "execution_count": 42,
   "id": "round-therapist",
   "metadata": {},
   "outputs": [
    {
     "name": "stdout",
     "output_type": "stream",
     "text": [
      "CPU times: user 12.9 s, sys: 464 ms, total: 13.4 s\n",
      "Wall time: 13.6 s\n"
     ]
    }
   ],
   "source": [
    "%%time\n",
    "replaced_tfidf_scores = file_weighting.apply(lambda x: replace_tfidf_words(x, transformed, features), axis=1)#this step takes around 3-4 minutes minutes to calculate"
   ]
  },
  {
   "cell_type": "code",
   "execution_count": 43,
   "id": "suitable-opinion",
   "metadata": {},
   "outputs": [],
   "source": [
    "#Replacing words in sentences with their sentiment score\n",
    "def replace_sentiment_words(word, sentiment_dict):\n",
    "    '''\n",
    "    replacing each word with its associated sentiment score from sentiment dict\n",
    "    '''\n",
    "    try:\n",
    "        out = sentiment_dict[word]\n",
    "    except KeyError:\n",
    "        out = 0\n",
    "    return out"
   ]
  },
  {
   "cell_type": "code",
   "execution_count": 44,
   "id": "marked-purpose",
   "metadata": {},
   "outputs": [],
   "source": [
    "replaced_closeness_scores = file_weighting.text.apply(lambda x: list(map(lambda y: replace_sentiment_words(y, sentiment_dict), x.split())))"
   ]
  },
  {
   "cell_type": "code",
   "execution_count": 45,
   "id": "charged-mount",
   "metadata": {},
   "outputs": [],
   "source": [
    "#Merging both previous steps and getting the predictions:\n",
    "replacement_df = pd.DataFrame(data=[replaced_closeness_scores, replaced_tfidf_scores, file_weighting.text, file_weighting.created_at]).T\n",
    "replacement_df.columns = ['sentiment_coeff', 'tfidf_scores', 'sentence', 'created_at']\n",
    "replacement_df['sentiment_rate'] = replacement_df.apply(lambda x: np.array(x.loc['sentiment_coeff']) @ np.array(x.loc['tfidf_scores']), axis=1)\n",
    "replacement_df['prediction'] = (replacement_df.sentiment_rate>0).astype('int8')"
   ]
  },
  {
   "cell_type": "code",
   "execution_count": 46,
   "id": "assumed-gamma",
   "metadata": {},
   "outputs": [
    {
     "data": {
      "text/html": [
       "<div>\n",
       "<style scoped>\n",
       "    .dataframe tbody tr th:only-of-type {\n",
       "        vertical-align: middle;\n",
       "    }\n",
       "\n",
       "    .dataframe tbody tr th {\n",
       "        vertical-align: top;\n",
       "    }\n",
       "\n",
       "    .dataframe thead th {\n",
       "        text-align: right;\n",
       "    }\n",
       "</style>\n",
       "<table border=\"1\" class=\"dataframe\">\n",
       "  <thead>\n",
       "    <tr style=\"text-align: right;\">\n",
       "      <th></th>\n",
       "      <th>sentiment_coeff</th>\n",
       "      <th>tfidf_scores</th>\n",
       "      <th>sentence</th>\n",
       "      <th>created_at</th>\n",
       "      <th>sentiment_rate</th>\n",
       "      <th>prediction</th>\n",
       "    </tr>\n",
       "  </thead>\n",
       "  <tbody>\n",
       "    <tr>\n",
       "      <th>0</th>\n",
       "      <td>[0, 0, -13.5625742119864, 0, 0, -3.67013075601...</td>\n",
       "      <td>[2.1432231398633523, 1.770209841682183, 8.4119...</td>\n",
       "      <td>and the bad_news you won't know if you have it...</td>\n",
       "      <td>2021-09-04T08:15:55+0000</td>\n",
       "      <td>-538.216660</td>\n",
       "      <td>0</td>\n",
       "    </tr>\n",
       "    <tr>\n",
       "      <th>1</th>\n",
       "      <td>[0, -3.059424520648905, 0, 0, 0, 0, 0, 0, 0, 0...</td>\n",
       "      <td>[3.242783216632407, 3.3068756079387995, 2.5457...</td>\n",
       "      <td>if people are expressing_concerns then it is a...</td>\n",
       "      <td>2021-09-04T08:11:13+0000</td>\n",
       "      <td>-10.117136</td>\n",
       "      <td>0</td>\n",
       "    </tr>\n",
       "    <tr>\n",
       "      <th>2</th>\n",
       "      <td>[0, 0, 0, 0, 0, 0, -16.107718432142182, 0, -7....</td>\n",
       "      <td>[5.9319367838433275, 3.6042986962500847, 9.047...</td>\n",
       "      <td>how_about our kids_under 12 ? they got no prot...</td>\n",
       "      <td>2021-09-04T08:00:19+0000</td>\n",
       "      <td>-972.153520</td>\n",
       "      <td>0</td>\n",
       "    </tr>\n",
       "    <tr>\n",
       "      <th>3</th>\n",
       "      <td>[0, -11.324734853405168, -32.09323671862448, -...</td>\n",
       "      <td>[4.521911464252132, 6.354793634663361, 7.53157...</td>\n",
       "      <td>my past reading n understanding is that now ou...</td>\n",
       "      <td>2021-09-04T08:22:41+0000</td>\n",
       "      <td>-1345.810819</td>\n",
       "      <td>0</td>\n",
       "    </tr>\n",
       "    <tr>\n",
       "      <th>4</th>\n",
       "      <td>[-5.244494913154813, 0, 0, 0, -9.3218929868911...</td>\n",
       "      <td>[5.869864355200949, 8.680193405423577, 9.45338...</td>\n",
       "      <td>protect below_12 year_olds don't sign them up ...</td>\n",
       "      <td>2021-09-04T09:57:54+0000</td>\n",
       "      <td>-213.095443</td>\n",
       "      <td>0</td>\n",
       "    </tr>\n",
       "    <tr>\n",
       "      <th>...</th>\n",
       "      <td>...</td>\n",
       "      <td>...</td>\n",
       "      <td>...</td>\n",
       "      <td>...</td>\n",
       "      <td>...</td>\n",
       "      <td>...</td>\n",
       "    </tr>\n",
       "    <tr>\n",
       "      <th>56285</th>\n",
       "      <td>[-5.066872859082645, 0, 0, 0, 0, -7.0448758653...</td>\n",
       "      <td>[7.063092620243908, 7.373941751977224, 2.41248...</td>\n",
       "      <td>enforce 40 of the drinks offer at vending_mach...</td>\n",
       "      <td>2019-01-20T11:54:46+0000</td>\n",
       "      <td>-687.247724</td>\n",
       "      <td>0</td>\n",
       "    </tr>\n",
       "    <tr>\n",
       "      <th>56286</th>\n",
       "      <td>[0, -11.9387828321299, 0, -14.247202155948887,...</td>\n",
       "      <td>[4.4584258122800335, 9.299232613829801, 1.7702...</td>\n",
       "      <td>1 skip the sweet sauce for popiah it is tasty ...</td>\n",
       "      <td>2019-01-20T11:34:10+0000</td>\n",
       "      <td>-4355.816618</td>\n",
       "      <td>0</td>\n",
       "    </tr>\n",
       "    <tr>\n",
       "      <th>56287</th>\n",
       "      <td>[0, -6.221026331200389, 0, -11.152110846560342...</td>\n",
       "      <td>[4.021482452507456, 7.7041834388478, 1.7702098...</td>\n",
       "      <td>also educate the true source of health hazards...</td>\n",
       "      <td>2019-01-24T23:36:28+0000</td>\n",
       "      <td>-265.986915</td>\n",
       "      <td>0</td>\n",
       "    </tr>\n",
       "    <tr>\n",
       "      <th>56288</th>\n",
       "      <td>[-7.639219386652212, 0, 0, 0, 0, -14.137342387...</td>\n",
       "      <td>[6.30350034027581, 3.896555231957522, 5.455182...</td>\n",
       "      <td>fine how much ? or jus warning shiok_shiok only</td>\n",
       "      <td>2019-01-01T13:58:27+0000</td>\n",
       "      <td>-645.866981</td>\n",
       "      <td>0</td>\n",
       "    </tr>\n",
       "    <tr>\n",
       "      <th>56289</th>\n",
       "      <td>[0, 0, -3.72055867108792, -46.67443176615979, ...</td>\n",
       "      <td>[3.3927036775276047, 2.7544989067024135, 8.327...</td>\n",
       "      <td>still a drug addict but contributes to tax rev...</td>\n",
       "      <td>2019-01-01T09:06:57+0000</td>\n",
       "      <td>-819.735906</td>\n",
       "      <td>0</td>\n",
       "    </tr>\n",
       "  </tbody>\n",
       "</table>\n",
       "<p>56290 rows × 6 columns</p>\n",
       "</div>"
      ],
      "text/plain": [
       "                                         sentiment_coeff  \\\n",
       "0      [0, 0, -13.5625742119864, 0, 0, -3.67013075601...   \n",
       "1      [0, -3.059424520648905, 0, 0, 0, 0, 0, 0, 0, 0...   \n",
       "2      [0, 0, 0, 0, 0, 0, -16.107718432142182, 0, -7....   \n",
       "3      [0, -11.324734853405168, -32.09323671862448, -...   \n",
       "4      [-5.244494913154813, 0, 0, 0, -9.3218929868911...   \n",
       "...                                                  ...   \n",
       "56285  [-5.066872859082645, 0, 0, 0, 0, -7.0448758653...   \n",
       "56286  [0, -11.9387828321299, 0, -14.247202155948887,...   \n",
       "56287  [0, -6.221026331200389, 0, -11.152110846560342...   \n",
       "56288  [-7.639219386652212, 0, 0, 0, 0, -14.137342387...   \n",
       "56289  [0, 0, -3.72055867108792, -46.67443176615979, ...   \n",
       "\n",
       "                                            tfidf_scores  \\\n",
       "0      [2.1432231398633523, 1.770209841682183, 8.4119...   \n",
       "1      [3.242783216632407, 3.3068756079387995, 2.5457...   \n",
       "2      [5.9319367838433275, 3.6042986962500847, 9.047...   \n",
       "3      [4.521911464252132, 6.354793634663361, 7.53157...   \n",
       "4      [5.869864355200949, 8.680193405423577, 9.45338...   \n",
       "...                                                  ...   \n",
       "56285  [7.063092620243908, 7.373941751977224, 2.41248...   \n",
       "56286  [4.4584258122800335, 9.299232613829801, 1.7702...   \n",
       "56287  [4.021482452507456, 7.7041834388478, 1.7702098...   \n",
       "56288  [6.30350034027581, 3.896555231957522, 5.455182...   \n",
       "56289  [3.3927036775276047, 2.7544989067024135, 8.327...   \n",
       "\n",
       "                                                sentence  \\\n",
       "0      and the bad_news you won't know if you have it...   \n",
       "1      if people are expressing_concerns then it is a...   \n",
       "2      how_about our kids_under 12 ? they got no prot...   \n",
       "3      my past reading n understanding is that now ou...   \n",
       "4      protect below_12 year_olds don't sign them up ...   \n",
       "...                                                  ...   \n",
       "56285  enforce 40 of the drinks offer at vending_mach...   \n",
       "56286  1 skip the sweet sauce for popiah it is tasty ...   \n",
       "56287  also educate the true source of health hazards...   \n",
       "56288    fine how much ? or jus warning shiok_shiok only   \n",
       "56289  still a drug addict but contributes to tax rev...   \n",
       "\n",
       "                     created_at  sentiment_rate  prediction  \n",
       "0      2021-09-04T08:15:55+0000     -538.216660           0  \n",
       "1      2021-09-04T08:11:13+0000      -10.117136           0  \n",
       "2      2021-09-04T08:00:19+0000     -972.153520           0  \n",
       "3      2021-09-04T08:22:41+0000    -1345.810819           0  \n",
       "4      2021-09-04T09:57:54+0000     -213.095443           0  \n",
       "...                         ...             ...         ...  \n",
       "56285  2019-01-20T11:54:46+0000     -687.247724           0  \n",
       "56286  2019-01-20T11:34:10+0000    -4355.816618           0  \n",
       "56287  2019-01-24T23:36:28+0000     -265.986915           0  \n",
       "56288  2019-01-01T13:58:27+0000     -645.866981           0  \n",
       "56289  2019-01-01T09:06:57+0000     -819.735906           0  \n",
       "\n",
       "[56290 rows x 6 columns]"
      ]
     },
     "execution_count": 46,
     "metadata": {},
     "output_type": "execute_result"
    }
   ],
   "source": [
    "replacement_df"
   ]
  },
  {
   "cell_type": "code",
   "execution_count": 63,
   "id": "distinguished-season",
   "metadata": {},
   "outputs": [
    {
     "name": "stdout",
     "output_type": "stream",
     "text": [
      "as of 3rd september 580 are warded_in the hospitals why no breakdown of the 3 groups for a clearer_picture ?\n"
     ]
    }
   ],
   "source": [
    "print(replacement_df['sentence'][29])"
   ]
  },
  {
   "cell_type": "code",
   "execution_count": 65,
   "id": "suspected-frank",
   "metadata": {},
   "outputs": [],
   "source": [
    "pos = []\n",
    "for i in range (len(replacement_df)):    \n",
    "    if replacement_df['prediction'][i] == 1:\n",
    "        pos.append(replacement_df['sentence'][i])"
   ]
  },
  {
   "cell_type": "code",
   "execution_count": 66,
   "id": "natural-reference",
   "metadata": {},
   "outputs": [
    {
     "data": {
      "text/plain": [
       "['as of 3rd september 580 are warded_in the hospitals why no breakdown of the 3 groups for a clearer_picture ?',\n",
       " 'here are the seriously_ill numbers over the past_14 days up to yesterday seriously_ill numbers 21_aug 29 22_aug 29 23_aug 28 24_aug 27 25 aug_26 26_aug 24 27_aug 19 28_aug 22 29_aug 20_30 aug_24 31_aug 24 1 sep 27 2 sep 32 3 sep 25',\n",
       " \"don't import more_dangerous one\",\n",
       " 'singaporeans become_white rats',\n",
       " \"that's_why dine_in ban should never lifted\",\n",
       " \"what if the household_members don't_want to be on quarantine and would rather their family_member go to a community care facility ?\",\n",
       " 'hii i_am from_india ep_holder after fully vaccination any_chance to allow_entry in singapore ? thank_you',\n",
       " 'i_am work_pass holder i get full_vaccination from my country any_chance to allow_entry in singapore ?',\n",
       " 'uk had little over 26k cases on_monday august 31 slight_drop from 30k reported on august 30 both singapore and uk have high vaccination_rate compare these figures with singapore if adjusted for population it is like singapore having 4k to 5k cases everyday',\n",
       " 'me after work stay at_home',\n",
       " 'more to come',\n",
       " '29 are currently_unlinked or 52 ?',\n",
       " 'covid_19 has just gotten its pr status in sg',\n",
       " 'why the local case keeping rising then ?',\n",
       " 'what_about bangladesh',\n",
       " 'we gots ours thank_u singapore',\n",
       " 'why still so_many new cases',\n",
       " 'why government approved more high_risk countries visitor/labors to come in even they are vaccinated ?',\n",
       " 'cases requiring_oxygen and in_icu are going_down thats the number to look_at not positive cases',\n",
       " 'stay_safe and stay_home',\n",
       " 'never_mind just open_up already i cant_wait for the non_vaccinated short_term visit_pass to come in our country',\n",
       " 'are the numbers of new cases in the active_clusters up to date ? if it is updated as new daily cases are updated then it doesn_t tally when we add_up the new cases in this chart it_s not the number of daily new cases reported why is this so ? where are the remaining cases ? were they individual cases with no links to each_other ? as many as 50 over such individuals daily ?',\n",
       " 'to travel into singapore ok',\n",
       " 'holding ltvp and travel or transit from myanmar is banned so if i go to thailand and stay there 21days then can i apply for entry to singapore ?',\n",
       " 'what_about indonesia to singapura ?',\n",
       " 'what_about india to sg',\n",
       " 'darrick lee first category',\n",
       " 'i waiting_for india vaccine',\n",
       " 'come on what is going on ?',\n",
       " 'total are 111_4 unvaccinated 107_vaccinated',\n",
       " 'hong_kong report 3 imported_cases only',\n",
       " '32 new cases from 0 70yo ?',\n",
       " 'singapore locked_down only dormitory people',\n",
       " 'how to take 2nd vaccine in sg 1st vaccine i took in malaysia',\n",
       " 'please open the dormitory stay worker to go any where',\n",
       " 'here we go again new rules whatever',\n",
       " 'thank_u so_much singapore',\n",
       " 'why dine_in still ban ? ? ?',\n",
       " 'why so_desperate to travel',\n",
       " 'happy day',\n",
       " \"my vaccine is totaly_done 1st/and 2nd thank mom i'm ok\",\n",
       " 'how_many new cases were_fully vaccinated ?',\n",
       " 'how much of these are singaporeans and foreigners ?',\n",
       " 'well_done our country has_been further divided well_done',\n",
       " '13 august people playing_badminton but they had to leave for those new_comer at 36_toa payoh',\n",
       " 'hearts go to the malaysia reports 21 688 new covid_19 cases and front_liners dealing_with the situation',\n",
       " 'improving daily',\n",
       " 'yet to come',\n",
       " 'how_about migrant_workers they are still looked in dormitory ?',\n",
       " 'thank_you for keeping_us updated daily with your statistics really_appreciate it',\n",
       " 'happy secession day !',\n",
       " 'is 1_metre distance still remain ?',\n",
       " \"what ? ! ? ! ? ? we haven't lifted the restrictions here in our_own country we are lifting_restrictions to people from other_countries ? ! ? really ? ! ? !\",\n",
       " 'if other nationality travel via taiwan route to sg ? will we just like let_them in ?',\n",
       " 'taiwan ever vigilant_against the virus',\n",
       " 'should let_them stay at_home notice should let_them stay at govt facility for notice',\n",
       " 'happening_everywhere in singapore every_day',\n",
       " 'report to us for what ? do_something !',\n",
       " \"what's that to quarantine just messing_up things\",\n",
       " 'but those from china no need shn now china also got many cases',\n",
       " 'when will the novovax vaccine arrive ?',\n",
       " 'does a work_pass holder belongs to the long_term pass_holders ?',\n",
       " 'what s long_term pass_holder ? ?',\n",
       " 'what_about the the short_term visitors who stacked in singapore since the virus emerged ?',\n",
       " 'now people will starts to travel to their_hometown even after divorcing their_hometown and happy happy return to sg',\n",
       " 'how come the ica didnt recognise and allow social_visit for lots_of vietnamese who work as hostess',\n",
       " 'what if the person serology is positive without vaccinations due to past_infections',\n",
       " \"happy_nurse's day\",\n",
       " \"happy_nurses's day\",\n",
       " 'singapore vaccination_rate is so fast compared to malaysia malaysia useless',\n",
       " 'how_about border with',\n",
       " 'just wonder which_country is the import case seem_like never report which_country of import now ? ?',\n",
       " 'no case in dormitory ?',\n",
       " 'covid is here to stay',\n",
       " 'is the dormitory cases 0 or 3 ?',\n",
       " 'ministry_of health_singapore malaysia has_stopped for vaccination for age_12 17',\n",
       " 'open to border la border close also very mamy case',\n",
       " 'how_about this report ? ? ?',\n",
       " 'what_about seniors with drug_allergies who were rejected to take the pfizer/moderna ? what are the plans for them ? what is the percentage_of those under such category ?',\n",
       " 'are there any studies on the long_term side_effects of covid infection even with vaccination ?',\n",
       " 'heard total cluster of jurongfishport is about 700_plus ?',\n",
       " 'still more_than 100 cases daily',\n",
       " 'if you stop_letting in social and dependent_passes',\n",
       " 'lhany lhany dami new case',\n",
       " 'today how_many new case ?',\n",
       " 'where the imported_cases come from ?',\n",
       " 'hundreds of unlinked_cases in community',\n",
       " 'i tell my_friends and relatives not to come visit me',\n",
       " 'well_done more to come',\n",
       " '4 unvaccinated_seniors so the remaining 175 individuals are vaccinated i_guess',\n",
       " \"stay_home and don't go_out\",\n",
       " 'punitha kannan aatha must stay_home',\n",
       " \"is this what it call 'the new normal' ?\",\n",
       " 'when boomers realised the dine_in ban',\n",
       " 'sg government are you trying to catching_up malaysia ?',\n",
       " 'i_thought we would stop focusing_on cases and only report vaccincations ? singapore',\n",
       " 'they should stop_issuing social visiting pass',\n",
       " 'come on the cause of infection from border which convert to community what measure make then ?',\n",
       " 'it_s a biggest jumpy july cases',\n",
       " '88 local !_! ! ? ? ? 17_unlinked !_! ! ? ? ? ?',\n",
       " 'test here test there trying to avoid a full_lockdown',\n",
       " 'i_thought is 68 how come 60 only',\n",
       " \"'when' did these hostesses 'arrived' in sg\",\n",
       " 'be_transparent pls moh ica etc',\n",
       " 'just ban men in public',\n",
       " 'why let short_term pass come in !_! !_! why why why',\n",
       " 'ica please stop extend those social_visits pass 30_days stay is more_than enough',\n",
       " 'maybe is time for short_term pass to go_back to their country',\n",
       " 'why allow so_many short_term visitors in ?',\n",
       " 'better_than indonesia',\n",
       " 'how come getting_worse',\n",
       " 'stop_import let_us have a piece_of mind',\n",
       " 'so this hostesses are here on what pass ? just asking',\n",
       " 'i_thought no social visitor for vietnam ? ? ?',\n",
       " 'oh_my god how come',\n",
       " 'philippines no travel long_time already helper_cannot go for holiday if we go we cannot come anymore but still other_country srill travel travel covid still not settle must close_borders anywhere',\n",
       " 'hong_kong has zero cases why are there still restrictions ?',\n",
       " 'south_asia less_severe then myanmar ?',\n",
       " 'next south_korea',\n",
       " 'import and import now you have foreign_girls spreading to men',\n",
       " 'cases increases on the 1st day of phase_3',\n",
       " 'how_long is the shn for vaccinated foreigners ?',\n",
       " 'thank_you pap for re_opening the border to high_risk countries again',\n",
       " 'than u still import ? ?',\n",
       " 'next one south_korea',\n",
       " 'today only 0 new',\n",
       " 'will moh give the transparent breakdown of imported_cases nationality and to also breakdown the type such_as are they fdw visit_pass tourist etc',\n",
       " 'for how_long are we keep_accepting imported_cases which were_detected on arrival there are lapsed or bribery at the departure and the imported_cases are much more_than the community_cases we are trying very_hard to control and contain the virus in the community but in the other_hand keep_accepting more imported_cases what s going on !_! !_! !_!',\n",
       " 'why detect_upon arrival in import_cases increase daily ?',\n",
       " 'imported_cases every_day from where and what nationality ?',\n",
       " 'on what date they fly out of sg and why need to fly_into sg today ? where the imported_cases come from ? if singaporean /_pr why are they not in sg in the first_place ?',\n",
       " '28_june to 4 july_2021 total local_community cases 4 plus 5 plus 5 plus 4 plus 3 plus 4 plus 1 26_26 / 7_days 3 71 and today 5 july 6 cases !',\n",
       " 'ministry_of health_singapore is this allow in singapore ?',\n",
       " 'thank_you for taking_care singapore',\n",
       " 'import import import every_day got import',\n",
       " \"after fully_vaccinated still can't travel travel still need to be quarantine upon_arriving in singapore\",\n",
       " 'become imported_cases within a 5 hours flight ?',\n",
       " 'singapore are we there yet',\n",
       " 'increased to 10 on 2 july',\n",
       " 'full_vaccination is 2_doses why is total_doses administered is 5419355 but not 3316337 plus 2103218x2 7522773 ?',\n",
       " 'no report of adverse_effects',\n",
       " 'we done now local case under_control time to import more case to sg well_done task_force',\n",
       " '12 year_old paralyzed after pfizer 2nd_jab',\n",
       " 'next_month gonna go sky_high once import starts such desparation',\n",
       " 'how_about india_indonesia philippines ? ? ?',\n",
       " \"how_about breakdown of those_who are and aren't vaccinated ?\",\n",
       " 'where s the imported_cases',\n",
       " 'what_about travellers_from bangladesh ?',\n",
       " 'could the unlink_cases from daily imported_cases ?',\n",
       " 'pr why come_back now your country need you now',\n",
       " 'good_improvement daily',\n",
       " 'stay_home stay_safe',\n",
       " 'pls stop the import case b4 is too_late',\n",
       " 'hong_kong here we go !',\n",
       " \"the uk is about to allow quarantine free travel for vaccinated travellers why_can't we have the same in singapore ?\",\n",
       " 'import import import never stop stop spreading your legs like a hooker !_! !',\n",
       " \"why the 6 linked weren't_put on quarantine ?\",\n",
       " 'come to cb again ?',\n",
       " '10 local 3 import total 13',\n",
       " 'so_far any such cases reported in sg ?',\n",
       " 'still the imported_cases are positive',\n",
       " 'only for citizen ? !',\n",
       " 'singapore extend the lockdown ?',\n",
       " \"the remaining 3 are currently_unlinked that's high\",\n",
       " 'now i know why sg keep_failing',\n",
       " 'we welcome vietnam virus to our_shore',\n",
       " '9 import from where ? anyone_knows ?',\n",
       " 'how to stop imported_cases ?',\n",
       " 'any_updates for traval ban ? ?',\n",
       " 'when did the 6 imported singaporeans or prs return ? they return before or after the restrictions ?',\n",
       " 'i only care about the imported_cases those so_called returned singaporeans from that country how clean they are',\n",
       " 'at_least in spore they tell u the breakdown of plus kvd figures but in malaysia',\n",
       " 'may i knows_how many people re in quarantine in total till_now ?',\n",
       " '35 is a_lot and 45 in total',\n",
       " 'please_explain about 63957 the long_term visit_pass from_india !',\n",
       " 'why did you let the indians come in that is what singapore is asking b1617 would not have happened otherwise',\n",
       " 'returning_singaporean pr',\n",
       " \"more to come don't_worry\",\n",
       " 'the remaining 7 are currently_unlinked !',\n",
       " 'what_about the data analytic of imported_case of returned sg local sg pr sg converted from south_asia ?',\n",
       " 'three cheers for singapore',\n",
       " \"we singaporean already doing our_part seen last_year is you government didn't hear from singaporean stop_import ceca n close the bother so who is start the problem and put our singaporean live on rise we singaporean still remember_someone early last_year told us singaporean dont need to put_on mask too until now didn't apologize to all singaporean also only protect_themselves n blame singaporean\",\n",
       " 'is this available for long_term pass and special_pass',\n",
       " \"sir i hope very_soon open flight so_many worker now bangladesh want to in singapore pls don't throw bangladesh_worker many worker unemployed in bangladesh we love singapore thank_you\",\n",
       " 'yet another new hybrid virus variant discovered in vietnam which spreads_quickly by air',\n",
       " 'so total is how_many today ?',\n",
       " 'vietnam spotted new combined variant of uk and india',\n",
       " 'check in myanmar',\n",
       " '8 returning remaining ? ?',\n",
       " '15_imported cases 8 are singaporean or pr the balance_7 ? ? ? where_did the 7 of them come from ? ? ?',\n",
       " 'yesss another day of 15',\n",
       " 'just close the border laa',\n",
       " 'what_about new indian applications',\n",
       " 'when going allow travellers_from bangladesh to enter_sg ?',\n",
       " 'be_careful ! some travellers might transit from other_country then to singapore',\n",
       " 'aus_media report it as india b1617_variant',\n",
       " 'stop the flight please stop the flight from south_asia',\n",
       " 'indians bless every one',\n",
       " 'praying_for singapore',\n",
       " 'pre_departure covid test for passengers to sg must be from authorised clinics/hospitals',\n",
       " 'when will sg border allow travellers_from bangladesh to enter_sg ?',\n",
       " 'still allow haisss',\n",
       " 'here comes in the dorm',\n",
       " 'today 5pm 30 new cases at_12pm there were 21 new cases 12 to 5pm detected 9 new cases wow',\n",
       " 'what_about the other 6 imported_cases ? who are they since only 3 are pr_/ singaporeans ?',\n",
       " '9 imported_cases 3 singaporean and pr then what are the other 6 ? visit_pass dependant again ? never_ending !',\n",
       " \"'in_addition there are 9 imported_cases who have already been_placed on stay_home notice_upon arrival in singapore of these 3 are returning_singaporeans or singapore_permanent residents_' so who are the 6 ? tourists dependents or visitors ? ? ? is this essential ? stop harming the residents and ban them\",\n",
       " 'case 63657 arrived_from the philippines to visit_her family_member who is a singapore_permanent resident',\n",
       " 'for the import_cases including citizens/pr are they from the same_flight routes as previous import_cases ? might want to have 2 test teams per sample there to avoid cases where is negative_before flight but positive after flight',\n",
       " 'should the dorm being_isolated also ? if one get into the dorm',\n",
       " 'import more pls waiting_for whole of sg to get_infected',\n",
       " '2_unliked case again',\n",
       " \"i though all changi_airport terminal close why still import indian if not_enought worker try import indonesia worker don't always indian\",\n",
       " \"i'm always stay at_home\",\n",
       " 'i_think singaporean and pr who chose to travel to high_risk countries should be advised not to travel otherwise they should not be permitted to re enter_singapore afterwards',\n",
       " 'no_deadline still for returning_sc and prs puttung whole_nation at risk',\n",
       " 'always stay at_home',\n",
       " 'imported_cases include 2 prs among the three imported_cases two are singapore_permanent residents who_returned from_india one is a work_permit holder_who arrived_from malaysia',\n",
       " 'why still have non singaporean import from south_asia ?',\n",
       " 'always stay_safe stay at_home',\n",
       " 'quarantine the few_blocks',\n",
       " '1 case 63576 is a singapore_permanent resident who_returned from_india and the philippines',\n",
       " 'just stop the flights_coming into singapore !',\n",
       " 'where_did the imported_cases come from / via which_country ?',\n",
       " '7 imported_cases come from which_country ?',\n",
       " '7 imported 3 singaporeans pr so what s the other 4 ?',\n",
       " 'stay_home stay_safe',\n",
       " 'annex show 19/5 confirmed but case 63517 is a 30 year_old female philippines national who is a foreign_domestic worker she is a household_contact of case 63392 14 and was_placed on quarantine on 17 may she_developed a fever_sore throat and body_aches on 18 may night and was tested for covid_19 on 19 may during quarantine her test_result came_back positive for covid_19 infection on 20 may her_serology test_result is pending',\n",
       " 'my_heart breaks even more with every case from now on',\n",
       " '3 cases 63512 63525 and 63550 are singaporeans and 5 cases 63529 63531 63552 63555 and 63556 are singapore_permanent residents who_returned from_india indonesia and the us 2 cases 63532 and 63540 are work_permit holders who_arrived from indonesia and the philippines both of whom are foreign_domestic workers they had all already been_placed on shn_upon arrival in singapore and were_tested while_serving shn what a_joke',\n",
       " 'what is the difference_between shn and quarantine ?',\n",
       " 'well_done and keep_moving sg !_!',\n",
       " 'stay_safe is most_important stay at_home',\n",
       " 'need to stop unlinked_cases',\n",
       " 'stay_home stay_safe cases are rising every_day',\n",
       " 'they are 10 imported_cases 8 are returning_singaporean s or pr how_about the other 2 ? thanks',\n",
       " 'why we still have import from_nepal wp n sri_lanka dp yesterday we ban this country from coming in on 23_april except pr n sc its more_than the 21_days for shn from yesterday we should not be see this group of import atvthis time unless we are still letting_them in',\n",
       " 'geez that high_risk country again',\n",
       " \"till_now still got import_cases still don't close_border wait_till like india than come and close_border too_late\",\n",
       " '10 are singaporean and prs the other 4 is ?',\n",
       " 'where the import from ? ? ? ? ? pr from where ? ? ? ? stop !_! !_! !',\n",
       " 'how_many community ?',\n",
       " 'stop welcoming the ceca people with open_arms',\n",
       " 'remain high',\n",
       " 'how to contact to extend for 2 dose',\n",
       " 'please_explain why flight from_india still open ?',\n",
       " \"still_haven't explained why you keep_importing from high_risk nations\",\n",
       " 'are these returning_singaporeans n pr what are described_as having commitment to singapore n singaporeans when they must go_back visit their country of_origin',\n",
       " 'close the border close the border close the border',\n",
       " 'past 2years already stay at_home now again stay at_home no chance for me to take off stay at_home till i go_back to my country',\n",
       " 'well_done sg another 5 from_india',\n",
       " 'prayers in singapore',\n",
       " 'how come the virus becomes more stronger and stronger ? now how_many times_stronger ?',\n",
       " \"here is a quick_summary not_exhaustive still our fault ? 1 case_59514 is a short_term visit_pass holder_who arrived_from india to visit_her child who is a singapore_permanent resident 3 cases_59568 59579_and 59580_are short_term visit_pass holders cases_59579 and_59580 arrived_from india to visit their children who are singapore_permanent residents 1 case_59527 is a short_term visit_pass holder_who arrived_from india to visit_her family_member who is a singapore_permanent resident_59471 and_59472 are short_term visit_pass holders cases_59471 and_59472 arrived_from india to visit their singaporean_relatives 4 cases_59622 59624_59625 and 59626_are short_term visit_pass holders who_arrived from_india to visit their relatives who are singaporeans or singapore_permanent residents cases_60003 and 60014_arrived from_india to visit their family_members who are singaporeans or singapore_permanent residents 1 case_60139 is a short_term visit_pass holder_who arrived_from india to visit_his family_member who is a singapore_permanent resident cases_60246 60247 and 60251_arrived from_india and nigeria to visit family_members who are singaporeans or singapore_permanent residents 4 cases_61317 61318_61325 and 61329_are short_term visit_pass holders cases_61317 and 61318_arrived from_india to visit their family_members who are singaporeans or singapore_permanent residents 2 cases_61596 and 61597 are short_term visit_pass holders case_61596 arrived_from india to visit family_members who are singapore_permanent residents and case_61597 arrived_from india for a work_project in singapore 2 cases_61770 and 61782_are dependant_s pass_holders who_arrived from_india 2 cases_61819 and 61823_are dependant's_pass holders who_arrived from_india 4 cases_61885 61886_61891 and 61894_are student's_pass holders who_arrived from_india 3 cases_61882 61883_are short_term visit_pass holders who_arrived from_india to visit their family_members who are singaporeans 2 cases_61887 and 61888_are singapore_permanent residents who_returned from_india 1 case_61947 is a short_term visit_pass holder_who arrived_from india to visit_his family_member who is a singapore_permanent resident 1 case_61972 is a dependant_s pass_holder who_arrived from_india 1 case_61991 is a long_term visit_pass holder_who arrived_from india case_62049 arrived_from india to visit_his family_member who is a singapore_permanent resident 5 cases_62108 62119_62134 62135 and 62136_are singapore_permanent residents who_returned from_india 1 case_62109 is a long_term visit_pass holder_who arrived_from india 1 case_62159 is a long_term visit_pass holder_who arrived_from india 1 case_62155 is a short_term visit_pass holder_who arrived_from india to visit_her family_member who is a singaporean 1 case_62177 is a short_term visit_pass holder_who arrived_from india to visit_her family_member who is a singaporean 1 case_62198 is a short_term visit_pass holder_who arrived_from india to visit_his family_member who is a singaporean 2 cases_62196 and 62207_are singapore_permanent residents who_returned from_india 1 case_62287 is a short_term visit_pass holder_who arrived_from india to visit_his family_member who is a singaporean 1 case_62371 is a singapore_permanent resident who_returned from_india 4 cases_62383 62385_62394 and 62401_are dependant_s pass_holders who_arrived from_india and nepal_8 cases_62457 62467_62468 62469_62470 62474_62477 and 62483_are singaporeans and 5 cases_62447 62471_62472 62473 and 62476_are singapore_permanent residents who_returned from_india and indonesia 4 cases_62433 62448_62459 and 62460_are dependant_s pass_holders who_arrived from_india and nepal 3 cases_62520 62521 and 62524_arrived from_india to visit their family_members who are singaporeans or singapore_permanent residents 2 cases_62658 and 62659_are singaporeans and 2 cases_62657 and 62660_are singapore_permanent residents who_returned from_india 3 cases_62623 62655 and 62656_are dependant_s pass_holders who_arrived from_india and nepal_2 cases_62763 and 62766_are singaporeans and 8 cases_62736 62747_62758 62759_62762 62764_62765 and 62768_are singapore_permanent residents who_returned from_india 4 cases_62712 62741_62749 and 62756_are dependant_s pass_holders who_arrived from_nepal 7 cases_62862 62866_62875 62876_62878 62879_and 62880_are singapore_permanent residents who_returned from_india 1 case_62871 is a dependant_s pass_holder who_arrived from_nepal 1 case_62904 is a short_term visit_pass holder_who arrived_from india for her_upcoming marriage to her singaporean_fiance 4 cases_62896 62914_62929 and_62931 are singaporeans and 11 cases_62899 62900_62901 62902_62907 62909_62915 62916_62917 62918_and 62930_are singapore_permanent residents who_returned from_india 1 case_63137 is a singaporean and 2 cases_63130 and 63134_are singapore_permanent residents who_returned from_india 1 case_63143 is a dependant_s pass_holder who_arrived from_nepal 2 cases_63144 and 63145_are student_s pass_holders who_arrived from_india 2 cases_63116 and 63142_are work_pass holders who_arrived from_nepal and sri_lanka 2 cases_63123 and 63124_are short_term visit_pass holders case_63123 arrived_from india to visit a family_member who is a singapore_permanent resident total 122_cases all these indians seems_like not here to built our bto or repairing the roads as what lawrence_wong claims many thanks to pap !\",\n",
       " 'denger stop others country come singapore',\n",
       " 'close the border',\n",
       " 'please invite_more covid indians',\n",
       " 'show us the import_cases by statistics breakdown on how_many ep dependent_pass pr and student_pass are from construction_industry ?',\n",
       " 'stay at_home stay save n stay_healthy',\n",
       " 'taiwan less_than 2000 cases and tighten_border measures with taiwan when india had over_100k over cases you_guys still allow them to enter daily well_done !_! ! come i clap for you',\n",
       " 'your taiwan cases from the same group trying via taiwan',\n",
       " 'you should tighthen with india !',\n",
       " 'almost_every flight has positive cases from_india and indonesia you_guys only stopped it when things_gets out of hand',\n",
       " \"there's a country called south_asia ?\",\n",
       " 'which_country or countries is or are south_asia ?',\n",
       " 'and how_many sequenced in sg ? glaring omission',\n",
       " 'south_asia is referring to india in this specific case ?',\n",
       " 'why shn why not quarantine ?',\n",
       " 'flight coming in from chennai on 15 may and 17 may why ?',\n",
       " 'this was written in on 15th april by a arrival passenger leaks already noted by him then',\n",
       " 'that s a_lot of words for i screwed_up',\n",
       " 'import some more',\n",
       " 'of the 12 imported_cases 7 are returning_singaporeans or pr what_about the other 5 where are they from ?',\n",
       " 'oooow why so_many imports case',\n",
       " 'any new locations',\n",
       " \"here is a quick_summary not_exhaustive still our fault ? 1 case_59514 is a short_term visit_pass holder_who arrived_from india to visit_her child who is a singapore_permanent resident 3 cases_59568 59579_and 59580_are short_term visit_pass holders cases_59579 and_59580 arrived_from india to visit their children who are singapore_permanent residents 1 case_59527 is a short_term visit_pass holder_who arrived_from india to visit_her family_member who is a singapore_permanent resident_59471 and_59472 are short_term visit_pass holders cases_59471 and_59472 arrived_from india to visit their singaporean_relatives 4 cases_59622 59624_59625 and 59626_are short_term visit_pass holders who_arrived from_india to visit their relatives who are singaporeans or singapore_permanent residents cases_60003 and 60014_arrived from_india to visit their family_members who are singaporeans or singapore_permanent residents 1 case_60139 is a short_term visit_pass holder_who arrived_from india to visit_his family_member who is a singapore_permanent resident cases_60246 60247 and 60251_arrived from_india and nigeria to visit family_members who are singaporeans or singapore_permanent residents 4 cases_61317 61318_61325 and 61329_are short_term visit_pass holders cases_61317 and 61318_arrived from_india to visit their family_members who are singaporeans or singapore_permanent residents 2 cases_61596 and 61597 are short_term visit_pass holders case_61596 arrived_from india to visit family_members who are singapore_permanent residents and case_61597 arrived_from india for a work_project in singapore 2 cases_61770 and 61782_are dependant_s pass_holders who_arrived from_india 2 cases_61819 and 61823_are dependant's_pass holders who_arrived from_india 4 cases_61885 61886_61891 and 61894_are student's_pass holders who_arrived from_india 3 cases_61882 61883_are short_term visit_pass holders who_arrived from_india to visit their family_members who are singaporeans 2 cases_61887 and 61888_are singapore_permanent residents who_returned from_india 1 case_61947 is a short_term visit_pass holder_who arrived_from india to visit_his family_member who is a singapore_permanent resident 1 case_61972 is a dependant_s pass_holder who_arrived from_india 1 case_61991 is a long_term visit_pass holder_who arrived_from india case_62049 arrived_from india to visit_his family_member who is a singapore_permanent resident 5 cases_62108 62119_62134 62135 and 62136_are singapore_permanent residents who_returned from_india 1 case_62109 is a long_term visit_pass holder_who arrived_from india 1 case_62159 is a long_term visit_pass holder_who arrived_from india 1 case_62155 is a short_term visit_pass holder_who arrived_from india to visit_her family_member who is a singaporean 1 case_62177 is a short_term visit_pass holder_who arrived_from india to visit_her family_member who is a singaporean 1 case_62198 is a short_term visit_pass holder_who arrived_from india to visit_his family_member who is a singaporean 2 cases_62196 and 62207_are singapore_permanent residents who_returned from_india 1 case_62287 is a short_term visit_pass holder_who arrived_from india to visit_his family_member who is a singaporean 1 case_62371 is a singapore_permanent resident who_returned from_india 4 cases_62383 62385_62394 and 62401_are dependant_s pass_holders who_arrived from_india and nepal_8 cases_62457 62467_62468 62469_62470 62474_62477 and 62483_are singaporeans and 5 cases_62447 62471_62472 62473 and 62476_are singapore_permanent residents who_returned from_india and indonesia 4 cases_62433 62448_62459 and 62460_are dependant_s pass_holders who_arrived from_india and nepal 3 cases_62520 62521 and 62524_arrived from_india to visit their family_members who are singaporeans or singapore_permanent residents 2 cases_62658 and 62659_are singaporeans and 2 cases_62657 and 62660_are singapore_permanent residents who_returned from_india 3 cases_62623 62655 and 62656_are dependant_s pass_holders who_arrived from_india and nepal_2 cases_62763 and 62766_are singaporeans and 8 cases_62736 62747_62758 62759_62762 62764_62765 and 62768_are singapore_permanent residents who_returned from_india 4 cases_62712 62741_62749 and 62756_are dependant_s pass_holders who_arrived from_nepal 7 cases_62862 62866_62875 62876_62878 62879_and 62880_are singapore_permanent residents who_returned from_india 1 case_62871 is a dependant_s pass_holder who_arrived from_nepal 1 case_62904 is a short_term visit_pass holder_who arrived_from india for her_upcoming marriage to her singaporean_fiance 4 cases_62896 62914_62929 and_62931 are singaporeans and 11 cases_62899 62900_62901 62902_62907 62909_62915 62916_62917 62918_and 62930_are singapore_permanent residents who_returned from_india 1 case_63137 is a singaporean and 2 cases_63130 and 63134_are singapore_permanent residents who_returned from_india 1 case_63143 is a dependant_s pass_holder who_arrived from_nepal 2 cases_63144 and 63145_are student_s pass_holders who_arrived from_india 2 cases_63116 and 63142_are work_pass holders who_arrived from_nepal and sri_lanka 2 cases_63123 and 63124_are short_term visit_pass holders case_63123 arrived_from india to visit a family_member who is a singapore_permanent resident what's all these got to do with construction labor shortage ? ? all these folks are not essential_workers\",\n",
       " 'enough of the import already !_! !',\n",
       " \"and of_course we don't need to know their point of departure ?\",\n",
       " 'how_many imported_cases from high_risk countries arrive every_day ?',\n",
       " '28 imported 19 are returning_singaporeans and pr who are the remaining 9 ?',\n",
       " 'might as_well ban all flights_from india right highly_infected country but still allow flights_from india to singapore',\n",
       " 'this is what_happen when there s open_borders',\n",
       " 'shn is not a cure i rather close_border for those high_risk country from coming_back',\n",
       " 'still no ban from high_risk countries ? ? ? well_done ? ? ?',\n",
       " \"don't_understand how come those import_cases come to spore all tested_positive should not be allow to come in test positive b4 this pple reach spore\",\n",
       " 'india has so_many infected yet you are still letting_them in what does vietnam cases count ?',\n",
       " 'thailand as_well thanks',\n",
       " \"tell_me why tell_me why tell_me why my fault ? ? ? ? 1 case_59514 is a short_term visit_pass holder_who arrived_from india to visit_her child who is a singapore_permanent resident 3 cases_59568 59579_and 59580_are short_term visit_pass holders cases_59579 and_59580 arrived_from india to visit their children who are singapore_permanent residents 1 case_59527 is a short_term visit_pass holder_who arrived_from india to visit_her family_member who is a singapore_permanent resident_59471 and_59472 are short_term visit_pass holders cases_59471 and_59472 arrived_from india to visit their singaporean_relatives 4 cases_59622 59624_59625 and 59626_are short_term visit_pass holders who_arrived from_india to visit their relatives who are singaporeans or singapore_permanent residents cases_60003 and 60014_arrived from_india to visit their family_members who are singaporeans or singapore_permanent residents 1 case_60139 is a short_term visit_pass holder_who arrived_from india to visit_his family_member who is a singapore_permanent resident cases_60246 60247 and 60251_arrived from_india and nigeria to visit family_members who are singaporeans or singapore_permanent residents 4 cases_61317 61318_61325 and 61329_are short_term visit_pass holders cases_61317 and 61318_arrived from_india to visit their family_members who are singaporeans or singapore_permanent residents 2 cases_61596 and 61597 are short_term visit_pass holders case_61596 arrived_from india to visit family_members who are singapore_permanent residents and case_61597 arrived_from india for a work_project in singapore 2 cases_61770 and 61782_are dependant_s pass_holders who_arrived from_india 2 cases_61819 and 61823_are dependant's_pass holders who_arrived from_india 4 cases_61885 61886_61891 and 61894_are student's_pass holders who_arrived from_india 3 cases_61882 61883_are short_term visit_pass holders who_arrived from_india to visit their family_members who are singaporeans 2 cases_61887 and 61888_are singapore_permanent residents who_returned from_india 1 case_61947 is a short_term visit_pass holder_who arrived_from india to visit_his family_member who is a singapore_permanent resident 1 case_61972 is a dependant_s pass_holder who_arrived from_india 1 case_61991 is a long_term visit_pass holder_who arrived_from india case_62049 arrived_from india to visit_his family_member who is a singapore_permanent resident 5 cases_62108 62119_62134 62135 and 62136_are singapore_permanent residents who_returned from_india 1 case_62109 is a long_term visit_pass holder_who arrived_from india 1 case_62159 is a long_term visit_pass holder_who arrived_from india 1 case_62155 is a short_term visit_pass holder_who arrived_from india to visit_her family_member who is a singaporean 1 case_62177 is a short_term visit_pass holder_who arrived_from india to visit_her family_member who is a singaporean 1 case_62198 is a short_term visit_pass holder_who arrived_from india to visit_his family_member who is a singaporean 2 cases_62196 and 62207_are singapore_permanent residents who_returned from_india 1 case_62287 is a short_term visit_pass holder_who arrived_from india to visit_his family_member who is a singaporean 1 case_62371 is a singapore_permanent resident who_returned from_india 4 cases_62383 62385_62394 and 62401_are dependant_s pass_holders who_arrived from_india and nepal_8 cases_62457 62467_62468 62469_62470 62474_62477 and 62483_are singaporeans and 5 cases_62447 62471_62472 62473 and 62476_are singapore_permanent residents who_returned from_india and indonesia 4 cases_62433 62448_62459 and 62460_are dependant_s pass_holders who_arrived from_india and nepal 3 cases_62520 62521 and 62524_arrived from_india to visit their family_members who are singaporeans or singapore_permanent residents 2 cases_62658 and 62659_are singaporeans and 2 cases_62657 and 62660_are singapore_permanent residents who_returned from_india 3 cases_62623 62655 and 62656_are dependant_s pass_holders who_arrived from_india and nepal_2 cases_62763 and 62766_are singaporeans and 8 cases_62736 62747_62758 62759_62762 62764_62765 and 62768_are singapore_permanent residents who_returned from_india 4 cases_62712 62741_62749 and 62756_are dependant_s pass_holders who_arrived from_nepal 7 cases_62862 62866_62875 62876_62878 62879_and 62880_are singapore_permanent residents who_returned from_india 1 case_62871 is a dependant_s pass_holder who_arrived from_nepal 1 case_62904 is a short_term visit_pass holder_who arrived_from india for her_upcoming marriage to her singaporean_fiance 4 cases_62896 62914_62929 and_62931 are singaporeans and 11 cases_62899 62900_62901 62902_62907 62909_62915 62916_62917 62918_and 62930_are singapore_permanent residents who_returned from_india 1 case_63137 is a singaporean and 2 cases_63130 and 63134_are singapore_permanent residents who_returned from_india 1 case_63143 is a dependant_s pass_holder who_arrived from_nepal 2 cases_63144 and 63145_are student_s pass_holders who_arrived from_india 2 cases_63116 and 63142_are work_pass holders who_arrived from_nepal and sri_lanka 2 cases_63123 and 63124_are short_term visit_pass holders case_63123 arrived_from india to visit a family_member who is a singapore_permanent resident\",\n",
       " 'the domatrities are safer_than the community',\n",
       " 'thank_you mom for the importees',\n",
       " 'it_s too_late for import phobic',\n",
       " 'still have import ?',\n",
       " 'for sg and pr any control leaving for high_risk countries ?',\n",
       " 'everyday new cases',\n",
       " 'local cases more_than import',\n",
       " 'why are they still_allowing people from_india to come into sg ? ?',\n",
       " \"continue to see infected sc_pr and work_permit holders from_india it is a very_tricky situation as we can't stop sc from coming_back and we need foreign_workers for essential_sectors or projects\",\n",
       " \"on 10 may we had 4 cases of citizens who had travel_history to india 2 cases of india_nationals on dependent's_pass who had travel_history to uae nepal respectively and 1 case of indian_national on special_pass who had travel_history to japan so we continue to see infected indian_nationals entering_s'pore from other_countries eg japan uae and nepal\",\n",
       " 'just stop anyone who had_visited or had stayed india to enter_singapore',\n",
       " '1 case 63016 is a singaporean and 10 cases 62996 62999 63000 63001 63003 63004 63017 63019 63020 and 63021 are singapore_permanent residents who_returned from_india indonesia and yemen the pr coming in from_india continues moreover the indian_variant is already in the community',\n",
       " 'why still allow imported_case into singapore be_considerate to our_healthcare staff',\n",
       " '10 new locally_transmitted covid_19 !',\n",
       " \"malaysia said they're ban_india early after then our gov said ban_india 23april already then who can tell_us where's this indian virus travel from malaysia to singapore ? his nationality is indian and holding_short term_visit pass to here next question how short is that short_term for this fellow if really quarantined 21_days already then left how_many our ica is approved his stay in singapore continues to extend ? ? please ask_him go_back if the short_term visit_pass is expired or go_back to malaysia because his from malaysia to here even that's indian_nationality\",\n",
       " \"indian can't come in why everyday still got flight from_india ? or the planes no passengers just one pilots only\",\n",
       " 'before april import_cases one day more_than 5 0 cases welcome_indian to in_gapore after april community_cases less_than 50 cases ban singaporean visitors more_than 5 and ask you stay_safe stay_home stay your head',\n",
       " 'today our imported_cases are 4 cases_62896 62914_62929 and_62931 are singaporeans and 11 cases_62899 62900_62901 62902_62907 62909_62915 62916_62917 62918_and 62930_are singapore_permanent residents who_returned from_india 1 case_62904 is a short_term visit_pass holder_who arrived_from india for her_upcoming marriage to her singaporean_fianc we continue to see imports from_india',\n",
       " 'i_thought short_term or long_term visit_pass from_india is not allow to transit or fly to singaporr ? how come case_62904 get short_term visit_pass approve for coming to singapore for marriage ? ? ? what if she spread the virus to all her wedding guest ? ? ?',\n",
       " \"from_23april to now 8may_totally 16 days already if quarantine 21_days indian virus should be no stop at another 5_days if still have many india virus to bring in that mean they're play_cheat to come singapore never ban them from 23_april let's track together ica doing what job everyday we feel like indian coming associates ica\",\n",
       " 'really ? non from dormitory ? karel julianus amir kja ?',\n",
       " 'still got so_many singaporeans and prs_returning new citizens and new prs ?',\n",
       " 'and at the same keep_importing ceca',\n",
       " '7 pr from_india still',\n",
       " 'ministry_of health_singapore has there no report on covid_arm ?',\n",
       " 'now many sg ppl no work in sg',\n",
       " 'and i_thought no more visitors from_india c imported_cases 15 amongst the 15_imported cases 5 cases 62821 62825 62827 62828 and 62838 are singaporeans and 2 cases 62822 and 62830 are singapore_permanent residents who_returned from_india indonesia_thailand the uk and us 1 case 62826 is a dependant_s pass_holder who_arrived from_india and who has a singaporean family_member 2 cases 62829 and 62831 are student_s pass_holders who_arrived from_india and myanmar they were already studying in singapore before and had returned to their home country or had_been emplaced_on their course earlier',\n",
       " '15_imported cases from which_country and nationality ? please be more_transparent',\n",
       " 'our border front_line staff working_hard facing all types_of nationality coming to singapore high_risk to for the contagious viruses what benefits does the government had rendered to them',\n",
       " 'don_t be too happy this case is not linked to any trash or ica case it_s more_dangerous than those local_community infections linked to ttsh or ica',\n",
       " \"employ_singaporeans rather_than rely_on overseas we won't have these situations now we must_learn to live_with it\",\n",
       " 'what are their nationality please ?',\n",
       " 'then why ban the third country if you say that it is low_risk ? it is too_late to ban those third country now that indian_variant is here in singapore already',\n",
       " 'have to clean s n clear s n wash s everyday s',\n",
       " 'routine s check s everyday s',\n",
       " 'close the fking border to the indians problem_solved !',\n",
       " 'we are still_allowing short_term visit_pass from_india ? ? ? come on please wake_up !_! !',\n",
       " 'case 62785 female 63 is a short_term visit_pass holder_who arrived_from india to visit a family_member who is a singapore_permanent resident another social visitor from_india with covid virus why approve such family visit trip ? the pandemic is over ? or taskforce let their guard_down ?',\n",
       " '10 cases more more to come',\n",
       " 'till_now singapore still_allows indians_coming in from_india whereas most countries already ban their entry',\n",
       " 'need to banned_flights from indonesia and philipines too when will the govt learnt_from their mistakes ?',\n",
       " 'stop !_! !_! !_! getting more each_day !',\n",
       " \"linked to case_62541 what's this case ?\",\n",
       " 'first china now india what a pests !',\n",
       " 'pr from where',\n",
       " 'so_sad plz_stop import',\n",
       " 'case 62685 is a 19 year_old female singapore_permanent resident who is a student at singapore management university smu she has_been attending classes virtually except for a physical visit to smu on 21_april she_arrived from_india on 28 december_2020 and served_shn at a dedicated_facility while she_was serving_shn she_had been_identified as a close_contact of case 58784during their flight to singapore and was_placed on quarantine from 29 december to 11 january_2021 her test taken on 8 january during quarantine was negative for covid_19 etc',\n",
       " 'why are dp holder still allowed into singapore when it was announced that ltvp stvp and dp_holders are banned weeks_ago ?',\n",
       " 'why still allow india dependent_pass come in ?',\n",
       " 'pr student imported_case good keep on import',\n",
       " 'any new measures on mrt and buses ?',\n",
       " 'why still have imported_case when most flight from_india is banned',\n",
       " 'close the border to india',\n",
       " 'at this time still import',\n",
       " 'why only bangladesh sri_lanka nepal and pakistan what_about india ? is govt gonna to tighten our border measures for travelers_from india ? ? ?',\n",
       " '75 to return to work place',\n",
       " 'import some more ? ? ?',\n",
       " 'govt keep_letting virus countries come in then we citizens have to bear the consequences !_! ! puiz',\n",
       " 'why no_mention of india',\n",
       " 'hong_kong banned nepal nepal banned india',\n",
       " 'if every_single person has to take pcr_test before flight to sg how come the number of positive import_cases every_single day is very_high ! ?',\n",
       " 'import more n open more border singapore',\n",
       " 'foreign import is singapore s_weakest link',\n",
       " 'does the serological_test differentiate_between vaccinated people and infection ? if the doctor s serological_test was negative does it mean he did_not sero convert after his vaccination earlier this year ? if so what does this mean for the efficacy of the vaccine ?',\n",
       " '16 in community 7 family_members 8 are linked then the other 1 ?',\n",
       " 'those_who booked their flight to hk on 26 may must be fuming right_now',\n",
       " 'the only one unlinked case from which nationality ?',\n",
       " 'why are short_term visitors from_india allow to come into singapore on 28 4 2021 ?',\n",
       " 'import case how_many ?',\n",
       " 'i_thought govt already ban_india ?',\n",
       " 'the twenty shn must be indians from_india ?',\n",
       " 'they may get the virus while_travelling even they are negative when they leaved their countries',\n",
       " 'why still_accepting imported virus from_india another case is a dependant_s pass_holder who_arrived from_nepal five others are work_pass holders who_arrived from_india japan the maldives_nepal and uzbekistan six cases are work_permit holders who_arrived from bangladesh india_indonesia mexico and the philippines of whom two are foreign_domestic workers yahoo_news',\n",
       " 'very suan everyday import import import',\n",
       " \"hello_i'm from indonesia\",\n",
       " 'where does the corvid_19 come from into singapore ? m_o h please stop them from coming_into singapore the corvid_19 are getting more more into singapore those_who bring into singapore are not wellcome',\n",
       " 'why are we still_accepting travellers_from india ? i_thought the ban was in effect from 23_apr 21 ?',\n",
       " 'what is the total local now which is in quarantine',\n",
       " 'the ban like no ban at all more imported even after the ban good_job !',\n",
       " 'where_did they come from',\n",
       " 'should start to ban nepal and maldives',\n",
       " 'more to come india troops',\n",
       " 'pr still citizens of india also',\n",
       " 'all indians are trying to escape_from high_risky infection country to enter_singapore',\n",
       " 'can we ban ppl on nationality to stop them from traveling to third country and coming_into singapore just a thought',\n",
       " 'stop non singaporeans from coming in now',\n",
       " 'why still allow_dependent pass and social_visit from_india to sg ?',\n",
       " 'stay_home notice for those imported_case ?',\n",
       " 'singapore pap_loves india india india with high_risky infection why ? ? ? ? ?',\n",
       " 'india india india india is what pap_loves',\n",
       " 'yanny_ong new_discoveries new rules',\n",
       " 'what_happen to the 11 cases in dormitory ? why not included ?',\n",
       " 'too many import_cases although shn 14_days may not detect virus and bring into community',\n",
       " 'why dorm cases not included ? ? ?',\n",
       " \"where's the dorm cases ? ? why isn't_it reported ? ? ? ?\",\n",
       " 'good_luck to our country',\n",
       " '11 cases in dormitory not local cases ?',\n",
       " 'sure no case in dormitory ? !',\n",
       " 'where these local get infection ?',\n",
       " 'for timebing gov should bans indians india to singapore until further_notice',\n",
       " 'only 1 local case ? ? ?',\n",
       " 'another indian pr infected where_did he/she get it ? from imports ?',\n",
       " 'singaporeans must be_blamed for sure',\n",
       " 'should ban not reduce ! hkg ban but spore still allow_entry',\n",
       " 'should ban visitor from_india',\n",
       " 'must ban_india from coming',\n",
       " \"at_least 49_passengers on india flight to hong_kong test positive for covid_19 gan it's time you get your act_together\",\n",
       " 'thank_you pap and moh for the action_taken to increase another 7_days for travelers_from india and not to allow non singaporean non_pr indian to come in singapore !',\n",
       " 'stop the flights_from india for now !_! wake_up moh !',\n",
       " 'ban_india immediately',\n",
       " 'maybe foreign lives_matters in sg but not singaporeans',\n",
       " \"if the indian_national was only exposed to an infected on the flight here then naturally he wouldn't test positive for it during the shn\",\n",
       " 'import to spread covid19',\n",
       " 'how come two community_cases',\n",
       " 'so total 4 community_cases',\n",
       " 'india allows many travellers to go to singapore to spread covid_19 to local_community in singapore',\n",
       " 'playing_with the life of singaporean',\n",
       " 'is there a way to stop imported_cases to come into singapore ?',\n",
       " 'thanks_god hope also in my_beloved country philippine',\n",
       " '1 new case where by transmitted with covid_19 person from which_country ?',\n",
       " \"singapore covid_19 cases don't come from china but india virus not china virus\",\n",
       " 'india virus every where',\n",
       " 'please stop the import of covid_19 cases especially from those countries with daily high covid_19 cases most countries have already ban them from entry',\n",
       " 'why are singapore still_accepting imported_cases from_india',\n",
       " 'stop playing_with our_lives',\n",
       " 'everyday 1 new case community_spread',\n",
       " '39_years old student_pass holder from_india ?',\n",
       " 'short_term visitor',\n",
       " 'case 61733 work_pass holder from uk ? thought we had barred all non_citizens from uk since 23_dec',\n",
       " 'for now no local cases',\n",
       " 'how come community',\n",
       " 'another myanmar case who is serologically positive and shedding_minute fragments ?',\n",
       " 'well_done to my_homeland singapore',\n",
       " \"i don't_understand why we keep allowing imported_cases especially from_india we should allow singapore to return without paying the any cost_incurred during the 2_weeks if the test is negative why still need shn for 2_weeks\",\n",
       " '25 fdws ! we are too reliant_on them !',\n",
       " 'more and more imported_cases the gov just cannot stop indians from flying here',\n",
       " 'what_happen to singapore ?',\n",
       " 'pap has failed singapore and singaporeans !_! !_!',\n",
       " 'no local case but still import everyday',\n",
       " 'well_done any latest_updates on entry to singapore for vaccinated and unvaccinated people from malaysia ?',\n",
       " 'more import will infect the local_community',\n",
       " 'there s a_couple of negatives then positive i_wonder if these swab_tests are effective',\n",
       " 'waaaah ! import like no 2moro',\n",
       " 'why does a pr/food packer needs to travel ?',\n",
       " 'what does this tell_us about shn of 14_days ?',\n",
       " 'there are now imported_cases community_cases dormitory cases what else next ? ? ?',\n",
       " 'i_believe those imported_cases are not visitors they are our citizens or pr',\n",
       " 'what_about traveling ? and shn ?',\n",
       " 'but what_about the worker who live in dorm why that cannot go_out if that are no cases here',\n",
       " 'if covid sufferer_had visited_several local places in community why grouped into imported_case ?',\n",
       " 'well_done ! continues import',\n",
       " 'ministry_of health_singapore could i know when ep and dp can get vaccination ?',\n",
       " '8th straight_days no local_transmitted case',\n",
       " 'may i know why sg keep_importing cases with covid_19 ?',\n",
       " 'just_curious does the airport from where they embarked does checks before_letting people fly ?',\n",
       " 'no local cases imported_cases goes_up again ? ?',\n",
       " 'ceca natives ?',\n",
       " 'hooray_! ! travel soon',\n",
       " 'how_many are india imports ?',\n",
       " 'indian and indian no_ending',\n",
       " 'i_thought we just reached over_60k of cases but in the annexes it says the cases numbers are 60807 60666 plus other numbers',\n",
       " 'home of imports from sports to citizenship to covid_19',\n",
       " \"even for a very_low number of 6 india is still a majority 'donor/contributor' thank_you india\",\n",
       " \"why test 50 a day ? why not try test 5k a day ? if the results stay the same then we're safe\",\n",
       " 'it is for foreign_workers or singaporean ?',\n",
       " 'how come no more of those places_visited report ?',\n",
       " 'singapore a covid import country ?',\n",
       " '64_year old_male singaporean has_passed away_from complications_due to covid_19 infection on 26_february 2021',\n",
       " 'taiwan today still zero local_community and imported_cases',\n",
       " 'what_happened to foreign people who_wants to travel singapore and already have_been vaccinated',\n",
       " \"it's great since no more new cases in community local\",\n",
       " 'where is the local case from ?',\n",
       " 'congratulations good_news no new cases reported in locals',\n",
       " 'now trying to cut_down plus import numbers',\n",
       " 'happyy new years',\n",
       " 'happy new',\n",
       " \"wth is going on with our government still_allowing short_term visitor fm_india no indian comes singapore can't survive\",\n",
       " 'import will never stop covid_19 also never stop sg also never change keep on supporting import',\n",
       " 'we ban short_term travellers_from vietnam but so_many imported_cases from_india on short_term visit_pass genius',\n",
       " 'mmt why is india india india india inda india not included !_! !_! !_! !_! !_! every_day we are getting cases from_india !',\n",
       " 'i_thought vietnam control the virus very well',\n",
       " \"what's_wrong with our country ?\",\n",
       " 'whilst the country cannot stop sg residents work_pass holders from coming_into the country at_least with these positive cases the local cases are still very_low thanks to front_line people and everybody for safe_management practices sg is dependent with foreign employees in certain_sectors others also need to travel /in /out of sg for family reasons we have to put ourselves in their_shoes too some have not seen family_members for months',\n",
       " 'why this indian_national went india in november_last year came_back in jan and now going again in feb ? a very valid_reason for her to travel in and out so frequently to india ? are we allowing such frequent traveling for the same person ? case 59935 is a 35_year old_female indian_national who is a long_term visit_pass holder she_travelled to india from 30 november_2020 and returned to singapore on 6 january_2021 her pre_departure test taken in india on 4 january before her flight was negative for covid_19 upon her return she served_shn at a dedicated_facility until 20_january her swab done on 17_january during_shn was negative for covid_19 quote she is asymptomatic and was_detected when she_took a covid_19 pre_departure test on 2 february in preparation_for another trip to india',\n",
       " 'how come pfizer is 16 and above and this is 18 ?',\n",
       " \"it's very good that zero_0 case in sg community for 3rd_straight day today\",\n",
       " 'where is today new cases ?',\n",
       " 'nobdifference still a case',\n",
       " 'import import import when we export ?',\n",
       " 'anyone_know ? daily how_many foreigners and singaporeans arrival into singapore ?',\n",
       " 'import import import sg not enough people is it must import everyday ? ?',\n",
       " 'so at_least 122_cases in the last_week are likely_past infections',\n",
       " 'stop the countries with a_lot of cases from_entering singapore !_!',\n",
       " 'foreign imports is singapore s_weakest link',\n",
       " 'is really_sickening everyday there are new imported_case and the number are getting_higher',\n",
       " 'from which_country import this covid_19 please stop the flight with that country',\n",
       " 'no local new case why import new cases everyday ?',\n",
       " 'sg like to import virus why i_wonder why',\n",
       " 'why allow foreigners into singapore',\n",
       " 'import every_day import why dont sg stop the import',\n",
       " 'import more virus some more import from_india and they are second in the world in covid19 infections well_done !',\n",
       " 'people come to singapore to get vaccine and stay_safe that why more import from_oversea',\n",
       " 'to allow people enter_singapore without quarantine is being_foolhardy',\n",
       " 'mom and ica pls stop invite domestic_workers and foreign_workers into singapore',\n",
       " 'they should do_something about these imported_cases why with low or no local cases singaporeans have to bear the brunt ? ?',\n",
       " 'who n what nationalities are d remaining 38 ?',\n",
       " 'has singapore become a covid19 treatment_center ?',\n",
       " 'thank_you for import more and more',\n",
       " 'import sumore lahh !_! we like !_!',\n",
       " 'we are singapore singaporean',\n",
       " 'why allowing_short term_visits from high_risk countries ?',\n",
       " '34 imported_case of these 33 shn and what_happens to the other 1 ?',\n",
       " 'not 2k new people in now3k',\n",
       " 'covid_19 virus is very serious very_unacceptable if many new imported_cases arrive singapore singapore mom government you want us to die right ? ? ? ? why you let many imported_cases into singapore ? ? ?',\n",
       " 'this company has quite a number of work_permit holders they have so_many quotas for wp ?',\n",
       " 'so_many imported_cases why are we still letting people come in',\n",
       " 'we need to import more',\n",
       " 'i dont think local_transmitted cases are link to those imported_cases i_noticed some cases their serological_test result showed positive this indicates a likely_past infection',\n",
       " 'due for the import case and now our community',\n",
       " 'good_news for dormitory',\n",
       " 'we re more interested_in where these community and dorm cases got_infected rather_than statistics',\n",
       " \"lots_of imported_cases from_india indonesia ! why never ban both from_entering s'pore ? ? ?\",\n",
       " 'if certain_countries can ban singaporeans from_entering their countries why singapore cannot ban those from us india_indonesia and philippines from_entering into our country look_at their infection_rates per_day',\n",
       " 'close the border b4 there requires another_cb',\n",
       " 'why ! still import ?',\n",
       " 'new_wave from dormitory soon new import from bangladesh is increasing_each day',\n",
       " 'i_thought those_who want to fly need to test 72hours before so cannot_understand why still so_many imported_cases',\n",
       " 'imported_cases re getting more and more in day to day',\n",
       " 'define_long term resident ltvp ? ep ? dp ?',\n",
       " 'no new cases in the community',\n",
       " \"why singapore government don't allow china_vistors to enter_singapore ? china is safe as_long as many vistors have negative covid_19 but why import many high positive covid_19 people from infected countries like usa india_indonesia philippines ? ? very_irritating sick\",\n",
       " 'why allow short_term visit from high_risk countries ?',\n",
       " \"what's to infection control ? how come no immuniser wear_gloves ?\",\n",
       " \"stop_bringing in family_members dependant_pass of employment_pass holders if they can't leave their family then they better stay in their_own country to find_jobs don't let in unnecessary people to risk our citizens !\",\n",
       " 'pap_loves india',\n",
       " '25 cases from_india alone !_! isn_t it about time we close our_borders to these highly_infectious countries ? ? stop playing_with our_lives ! so_many restrictions for us but the imported_cases increasing everyday !',\n",
       " 'is getting_worse as u allow imported_cases to come in 9 1 29 1 from uk thought uk s banned ? 10 1 42 public health is more_important than fdws for the industries ?',\n",
       " 'stay_home and safe',\n",
       " \"starting to see more and more cases whereby foreigners' pre_departure test in their countries done before coming to singapore is negative stay_home notice test done in singapore is negative but pre_departure test in singapore before going back to their countries is positive there might_be many_undetected positive cases in the community unknown to us please continue to stay_safe and stay_vigilant\",\n",
       " 'single_day high from 1st_oct till_todate indonesia 10 617 8/1 pakistan 3795 7/12 philippine 3471 12/10 japan 6076 7/1 nepal 3309 4/11 china 53 8/1 spore 35 3/1 malaysia 3027 7/1 south_korea 1237 25/12 myanmar 2158 10/10 hong_kong 112 10/12 thailand 745 4/1 vietnam 26 11/11 taiwan 24 16/10 mongolia 57 23/12 brunei 15 3/1 7 countries high in jan',\n",
       " 'should ban all traveller',\n",
       " 'no news of india maybe india no more covid_19 cases how india done that',\n",
       " 'lucky_today no new cases',\n",
       " 'everyday 2 new case ?',\n",
       " 'almost these few_days 2 local_community cases',\n",
       " 'everyday 2 new local cases',\n",
       " 'how_many today from the foreign maid_contingent ?',\n",
       " 'be_prepared cb2_0 plus',\n",
       " 'more more to come',\n",
       " 'ministry_of health_singapore one_thing quite puzzle why the nurse never wear_gloves ?',\n",
       " 'we are eagerly_waiting for vaccine in bangladesh',\n",
       " 'define_long term residents those on ltvp or dp ?',\n",
       " 'hope mom not to approve those foreigners to enter in singapore',\n",
       " 'pls close the border to non singaporeans government should prioritize_our citizens first by the way who is bearing all the treatment_costs for the non singaporeans especially_those who left for countries with hig_covid cases then return when they think is dangerous to stay there',\n",
       " '7 plus 12 19 what are the profiles of the other 14 ?',\n",
       " 'the covid_19 foreign maid_contingent',\n",
       " 'when indonesia shut_down their doors to foreigners sg kept transporting from indonesia',\n",
       " 'new protocols instead_of 14_days should quarantine 21_days from now happened now in many countries',\n",
       " 'even my country facing the same problems like india',\n",
       " 'why still allow people to come in ?',\n",
       " 'who s paying for all this pr dependants_pass and long_term visits pass ?',\n",
       " 'why keep_importing dependant_s pass_holders ? ?',\n",
       " 'why still so_many indian come',\n",
       " '35 imported_cases including 7 foreign_domestic workers more and more imported_cases and already 55 foreign_domestic workers_involve for the last seven_days and today',\n",
       " '6 of them are singaporean or singapore_permanent residents so is it singaporeans or permanent_residents ? ?',\n",
       " 'good no new cases in the community',\n",
       " 'singapore government and mom still welcome to let travellers_from us uk india to enter_singapore very stupid singapore',\n",
       " 'hope ceca is not the reason_why our_borders remain_open to',\n",
       " \"second day of 2021 local cases 0 import_cases 33 people have 15 cases is from_india that's 45 45 cases in single_day from_india 8 cases from indonesia 24 24 from indonesia the rest 30 from myanmar us philippines egypt bangladesh that's the big_trouble from_india and indonesia gov ban uk and south_africa but how_about india ? or indonesia ? any special vip from this two trouble ?\",\n",
       " 'spore not only import foreign_talent but also import covid19 virus well_done',\n",
       " 'why are imported_cases turning positive during_shn ?',\n",
       " 'why those domestic_workers didnt tested_positive at their_own country b4_entering sg ? fake_certification ?',\n",
       " 'ayoo p3 jiust open and there are still new cases',\n",
       " 'more to come with many becoming_complacent',\n",
       " 'more to come',\n",
       " 'and from_india myanmar and indonesia',\n",
       " \"gov already ban all uk foreigners visitors pass and dependent even south_africa now but why not us and india ? the world's ranked_top 2 countries in risk\",\n",
       " 'wow ! singaporeans are very_proud of their intolerance !',\n",
       " 'we should stop those highly_infected countries from_entering',\n",
       " '1pilot plus 7 s/pr plus 6 domestic total 13 where is the other 12 ?',\n",
       " 'how come no gloves on ? ?',\n",
       " 'are they singaporean ?',\n",
       " 'congratulations singapore best_wishes',\n",
       " 'good new thank_you',\n",
       " 'thank_u so_much sg health_care worker',\n",
       " 'thank_you so_much singapore',\n",
       " 'thank_you very_much for health worker god_bless',\n",
       " 'i thinks that taiwan is much more safer_than singapore',\n",
       " 'why they wait phase_3 then announced 1 local_community cases ? this local_community cases is before phase_3 gets_infected',\n",
       " 'who are you in community ?',\n",
       " 'same_story imported_cases everyday what else is new ? ? more of them ?',\n",
       " 'will sg and malaysia borders_open on 1st_jan 2021 ?',\n",
       " 'case going_down',\n",
       " 'could you tell_us how_many accumulated imported_cases there are so_far and the breakdown of place of birth not nationality',\n",
       " 'our county and gov like to import and import',\n",
       " 'how is stay_home notice enforced',\n",
       " 'stay_home notice at ?',\n",
       " 'when open the dormitory ?',\n",
       " '8 plus_9 only 17 what_happen to the remaining 4 ? ? ? animals ?',\n",
       " 'don_t understand_why mom still_accepting foreign_worker from high_risk countries',\n",
       " 'imagine those_who comes from high_risk countries during the 14days_quarantine shows negative but are positive after they are released into the public',\n",
       " 'god_blessed you singapore',\n",
       " '29 import case too high',\n",
       " 'thank_you so_much singapore front_liners you are the first',\n",
       " 'congratulations to singapore',\n",
       " 'well_done singapore thank_you singapore government',\n",
       " 'thinks to much for singapore',\n",
       " 'thank_you so_much for singapore',\n",
       " 'meanwhile in the philippines',\n",
       " 'but thailand is still',\n",
       " 'of this vaccine really_works why the number in us still increased ?',\n",
       " 'thank_you singapore lv my country',\n",
       " 'congratulations to singapore',\n",
       " 'congratulations to singapore',\n",
       " \"ballwattanakorn in the meanwhile what's our country doin now\",\n",
       " 'thank_you sg government',\n",
       " 'congratulations to sg government and l_am so_proud of your country',\n",
       " 'congratulations of sg government',\n",
       " 'i_think singapore should shut_down the borders if imported_cases keep_rising',\n",
       " 'what_about that one patient who came_back from indonesia and is now intubated how come its not in the icu count ?',\n",
       " '17 imported_cases what is the breakdown country of_origin ? ? ? ? ? ? ? ?',\n",
       " 'well_done 0 local case',\n",
       " 'the numbers returning from indonesia',\n",
       " 'my_goodness why so_much import today huhu',\n",
       " 'if singaporean say so no need singaporeans or singapore_permanent residents',\n",
       " 'oh_my how come there is 1 from dormitory ?',\n",
       " 'only singaporeans and longterm only how_about permanent_resident',\n",
       " 'congratulations sg government',\n",
       " 'what_about traveling to the philippines ?',\n",
       " 'really pushing it when there is no_concrete positive results',\n",
       " 'how_about fdw going to our home in philippines if come_back in sg is it still have quarantine ?',\n",
       " 'thanks you so mom moh n sg government really were proud of you god_bless to sg',\n",
       " 'how_many singaporeans have_been given test ?',\n",
       " 'again dormitory one case',\n",
       " 'indonesia now scary',\n",
       " 'the number of cases in singapore is too low that we need to import it',\n",
       " 'the situation report for dec 5th link downloaded dec 4th instead',\n",
       " 'safe sg thank_you',\n",
       " 'great_job singaporean thumb_up stay_safe singaporean',\n",
       " 'positive stay_home ? ? ? ?',\n",
       " '10 new cases in singapore singapore still never test singaporeans in the community what are the government waiting_for ?',\n",
       " 'case 58425 is a short_term visit_pass holder_who was allowed_entry into singapore to visit_his family_members who are singaporeans he is asymptomatic and was_detected when he went for a covid_19 pre_departure test on 28 november before a scheduled trip to the us he_was conveyed to the hospital when his test came_back positive for covid_19 infection on 29 november his_serological test_result is also positive which_indicates likely_past infection he had arrived in singapore from_nepal on 1_november and was_placed on 14_day shn at a dedicated_facility upon_arrival in singapore from 1_november to 15 november he_was tested_negative for covid_19 infection on 11 november while_serving shn he_subsequently stayed_at a friend s flat at_bishan street 22 and visited his_family staying_at yishun_avenue 6',\n",
       " 'more to come',\n",
       " 'i community_case today after 15_days of no new cases of locally_transmitted covid_19 infection but lucky_today only 4 imported_cases',\n",
       " 'even no cases what s the new',\n",
       " 'when open the dormitory',\n",
       " 'import case why still so high',\n",
       " 'must stop those ppl come in',\n",
       " 'god_bless sg thank_you god',\n",
       " 'only goons believed in their report',\n",
       " 'hong_kong also new cases surging',\n",
       " 'does this applies to singapore pr ?',\n",
       " 'with the new_wave in hong_kong singapore should_reconsider opening_up to hong_kong travellers without quarantine',\n",
       " 'when are you going to open for taiwan !_!',\n",
       " 'hong_kong also the same',\n",
       " 'mom cen woeking 2 home',\n",
       " '6 straight_days no local_transmitted case',\n",
       " 'thumb_up for singapore',\n",
       " 'haaizzz thank_you singapore',\n",
       " 'well_done fws and singaporeans',\n",
       " 'well_done fws and singaporeans',\n",
       " 'what is the percentage_of positive to total arrivals ?',\n",
       " 'stay is more safe in sg',\n",
       " 'stay_home notice ! just put them under_quarantine in a controlled_environment there are so_many cases of those_who breached the shn notice',\n",
       " 'the import never_ends',\n",
       " 'every_day there is a number of imported_cases are they placed_under home stay or at_designated facilities ?',\n",
       " 'how did the imports became_positive after arrival ?',\n",
       " '16 or 18 new cases today ? ? ? ? ? ?',\n",
       " '18 importeds 2prs 14workpasses 10domesticworkers 26 total ? ? ? i_thought 18 importedcases i dont get it where does the others came_from',\n",
       " 'there are 8 imported_cases who had already been_placed on stay_home notice or isolated_upon arrival in singapore so how_about those just arrive and no need quarantine ?',\n",
       " 'another from uae !',\n",
       " 'import from where ?',\n",
       " 'thanks you mom',\n",
       " 'imported_cases include returning_singaporean citizens',\n",
       " \"that's my country\",\n",
       " 'sg is safe now',\n",
       " 'how_about those imported_cases from the uae ?',\n",
       " 'covid also import singapore import everythings',\n",
       " 'tourists come in x10 that number',\n",
       " \"india has the most today it's has exceeded 50_000 plus new cases we must close our doors to them\",\n",
       " \"singapore don't_forget those security_officers they also in the front_line\",\n",
       " 'alhamdulilla_thanks singapore',\n",
       " 'very great 1 new import case for very first time in singapore',\n",
       " 'zero_case in community but they also report places_visited by the covid cases it_s very_blur',\n",
       " 'now ppl start to complain about indonesia instead_of india ? never stop ?',\n",
       " 'if import_cases were put_on stay_home notice with their family_members or their lodge during their arrival / return family_members might_be infected and further_spread i_think return travellers should continue quarantine for appropriate period of time then return to reunite_with their_families and friends no_prejudice just some personal_opinions',\n",
       " 'imported_cases are mainly',\n",
       " 'how_many total positives in singapore ?',\n",
       " 'well_done singapore well_done our front_line heroes we are behind you',\n",
       " 'other_countries imported returning_citizens only singapore special import non_citizen mainly',\n",
       " 'so_boring to stay_home',\n",
       " 'ban ban ban ban every_day got import_cases shn should go to stay hotel notice not home let hotel have income since they want to come',\n",
       " 'any imported_case from china ?',\n",
       " 'ceca brings in virus which singapore welcomes',\n",
       " 'well_done good new sg',\n",
       " 'i_think this is lowest case so_far',\n",
       " 'if there no more cases here why still keep_importing them import more fruits and vegetables not virus',\n",
       " 'this is my first time i_beg singapore mom government to stop_import cases anymore from now on',\n",
       " \"good work singapore ! in my country malaysia the cases of covid_19 are always increasing to 3_digits between 700_800 before that it's only 1_digit\",\n",
       " 'those females from phillippines myanmar n indonesia i beleive are fdw',\n",
       " 'no case but import is high',\n",
       " 'but 3 import case from singapore in malaysia today',\n",
       " 'that s more like it',\n",
       " 'why 2 case only',\n",
       " \"it's great that both community and dormitory have zero_0 case today no new case thanks to singapore very_much\",\n",
       " 'well_done sg and everyone_involved',\n",
       " 'if singapore allow more imported_cases then singapore may increase more cases to 60_000 cases to 100_000 cases',\n",
       " 'i would_like to rephrase the announced covid_19 cases i like to report like this there are 0 cases in the community only 1 case in the dormitory and 8 imported_cases',\n",
       " 'now singaporean people happy worker not come out worker',\n",
       " 'who is the one case of local_community case ?',\n",
       " 'please change stay_home notice to stay confined_notice',\n",
       " 'import must be from_india philippines or indonesia ? ? ?',\n",
       " 'singapore so_proud of you !_! !',\n",
       " 'so_proud of my_homeland singapore',\n",
       " 'zero_case in dorm and community',\n",
       " 'alhamdulillah_good new',\n",
       " 'why is india not included ?',\n",
       " 'how_long is the shn now ? still 14_days ?',\n",
       " 'so how_many singaporean and how_many work_permit holder ? ? ? ?',\n",
       " 'why are you appeared in one new case for community ? ? ? ? ? who are you ? ? ?',\n",
       " 'glad_that we re residing_in singapore',\n",
       " 'god_blessed you singapore',\n",
       " 'come on phrase_3',\n",
       " 'where_did that 1 case in_icu come from ? is it an imported_case or local_community transmission ?',\n",
       " 'why allow imported_case',\n",
       " 'imported_cases let_me guess from_india from philippines from indonesia',\n",
       " 'stay_home in community ?',\n",
       " 'will taiwan change their shn policy for singaporeans that travel to their country only need to serve 7_days shn instead_of 14_days shn',\n",
       " 'india has more_than 6_7 million infected people singapore government should ban_india',\n",
       " 'how_many being_tested in the community daily ? please_provide us the figures for that',\n",
       " '1 community local or wp_holder ? ? ? ?',\n",
       " 'total is 7 or 6 ?',\n",
       " 'total 7',\n",
       " 'they allow others into singapore some more',\n",
       " 'why allow import case ?',\n",
       " 'well_done our singapore',\n",
       " 'imported_cases more_than cases in the community !',\n",
       " 'a imported_cases 15 3 singaporeans 2 permanent_residents 2 work_pass holders 1 work_permit holder 2 student_s pass_holders 1 short_term visit_pass holder 4 special_pass holders amongst the 15_imported cases 3 cases 57914 57926 and 57927 are singaporeans and 2 cases 57920 and 57928 are singapore_permanent residents who_returned to singapore from indonesia on 19 september and india on 17_september and 19 september 3 cases 57929 57930 and 57931 are work_pass/ work_permit holders currently_employed in singapore who_arrived from france on 20 september the philippines on 18 september and india on 19 september 2 cases 57912 and 57913 are student_s pass_holders who_arrived from_india on 19 september another case case 57921 is a short_term visit_pass holder_who arrived_from india on 28 september he_was allowed_entry into singapore as he_was already receiving medical care in singapore and had returned for further treatment',\n",
       " \"it's good that there is 3 new lowest cases for foreign_workers but too_bad why so high 15 new imported_cases from_india ? ?\",\n",
       " '15 import case is from where don_t tell_me is india again',\n",
       " \"if sg continue to bring india to sg i rather goes taiwan quarantine for 14_days then after 14_days i don't wants to come_back to sg i will stay at taiwan for few_mths\",\n",
       " 'thank_you garhamment of sg',\n",
       " 'pls stop the indians they should remain in their country',\n",
       " 'so_much of new citizens n pr are fm_india indiapore_now',\n",
       " 'expect more imported_cases opened new border',\n",
       " 'these pretentious indian expats',\n",
       " 'why still allow those visitors from countries with high cases',\n",
       " 'hi for returning singapore citizen need to check requirements is it to call ica thanks',\n",
       " 'alhamdulillah_today also not so_much case dorm case only 7 i expect to god soon no more dorm case and singapore soon no more covid_19 infection case thanks singapore moh',\n",
       " 'japan hv open their borders to singaporeans will taiwan open_up their borders to singaporeans ?',\n",
       " 'stop the imports and close_borders from countries like india n philippines',\n",
       " '5 import case from where ?',\n",
       " 'thank_you lord and thank_you to the singapore government_officials for looking after the whole community',\n",
       " 'many imported_cases are from_india regardless_whether they are already a spr_sc or work_permit holders',\n",
       " 'why import from_india ? ? stop_import from_india',\n",
       " 'thank_you government sg',\n",
       " 'we prayed for singapore',\n",
       " 'alhamdulillah_thanks god still community',\n",
       " 'new cases 21 discharge_patients 21',\n",
       " 'how come india flight can come in everyday from_india i_thought all flight suspended ?',\n",
       " 'too many import case',\n",
       " 'imported_cases never_ending yet we still allow them in',\n",
       " \"to day not' but\",\n",
       " \"there are still daily imported_cases how come gov still don't ban those from high_risk countries\",\n",
       " \"what is the different in community_case but is counted towards work_pass holder ? isn't work_pass holder is technically in dorm ?\",\n",
       " 'when no more quarantine in singapore ?',\n",
       " 'how_many tests_done in community i hope its the same here in dormitory',\n",
       " \"most_importantly is the vaccine and don't allow_ft come into spore\",\n",
       " 'singapore more_than 85 covid_19 cases is come from_india',\n",
       " 'want to ban which_country first ?',\n",
       " 'again the only country with such a high number of imported_cases',\n",
       " 'why still high numbers cases in the dormitory',\n",
       " 'after so_many months spore is only now taking steps ?',\n",
       " \"proberbly they get it in transits or flight by passanggers that denied they're infected\",\n",
       " 'why you never test people entering_spore ?',\n",
       " 'wake_up moh ! 14 import !',\n",
       " 'only 1 imported_case 0 in the community how is it 98 ?',\n",
       " 'why gov still_allows others country fly to spore',\n",
       " 'good new for the increased',\n",
       " 'singapore mom love india very_much',\n",
       " 'what_about the new_clusters in the dormitory ? these numbers accounted_for them ?',\n",
       " \"what's the diff_between work_pass holder and singaporean in the community\",\n",
       " 'why import so_many from_india ? ? ?',\n",
       " 'stop_import anymore please please learn_from malaysia malaysia ban all import from high covid_19 countries from now on till_31 dec but how_about singapore ? ? ? ? ? why singapore allow infected people to import ? ? ? ? so stupid',\n",
       " 'why was case 57082 not tested_positive in singapore b4 he travelled to malaysia ?',\n",
       " 'why got 2 imported_cases that is singaporeans where_did these 2 singaporeans travel to ?',\n",
       " 'i want to travel hurry_up open_borders',\n",
       " \"why is short_term visit_pass holder allow to come in whereby there is no green_lane yet with india ? what's_happening ? case no 57057\",\n",
       " 'health_minister gan just reported non singaporean arrivals_from india accounted_for 63 of the imported_cases from april to august other numbers are 46 from phillipines 15 indonesia 56 pr 110 wp 99 ltvp 27 stvp wow',\n",
       " '40 from where ? dormitory or ?',\n",
       " 'when stop this virus',\n",
       " 'why let permit_holder which test positive come to singapore',\n",
       " 'how_long test and screened singapore government',\n",
       " 'so no more dormitory case ?',\n",
       " 'why are sg letting imports from infected countries ?',\n",
       " 'why always import from_india ? ? ? ? ? stop_import india',\n",
       " 'why moh never_mention where the import from and still let_them import virus and all of us know from where the import from',\n",
       " 'why always import from_india ? ? ? ? ? ?',\n",
       " \"more more to come don't_underestimate covid_19\",\n",
       " 'more_than 200 countries reported with covid_19 and a_handful still have thousands cases reported daily dont think it is that difficult to identify those high_risks countries but sg is still_allowing those from india/ pakistan/ philippines and indonesia to enter ? why !_! !',\n",
       " \"i_think that most of people are singapore pr or work_pass holders coming_back from_india not visitors from_india singapore don't allow visitors from_india to enter_singapore\",\n",
       " 'local cases increasing weekends must stay_home already',\n",
       " 'the imports are from returnees already in quarantine morons !',\n",
       " 'stay at_home and stay_safe',\n",
       " 'where to take the test ?',\n",
       " 'this is a good new for singaporean',\n",
       " \"when cases are singaporeans it's clear_cut singaporeans but when it's prs it will always be 7_singaporeans/permanent residents don't_know paying_taxes to serve prs or fellow_singaporeans up till_today we still have dph who is accountable mom or immigration sucks don't_blame singaporeans if it's pr said so community_cases 4 singaporeans singaporeans are not idiots\",\n",
       " 'why always from_india ? ? ? india ? ? ? india ? ? ?',\n",
       " 'stop_import most are not singapore or pr',\n",
       " 'no new deaths since phase_2 started is quite good already',\n",
       " 'so from now to 29th ? no need to shn ? what are the measures_taken now ?',\n",
       " 'who_wants to travel now ? who_wants to go to south_korea ?',\n",
       " 'how_about those from_india and indonesia ?',\n",
       " 'good_job mom',\n",
       " 'congratulations to singapore !',\n",
       " 'the virus is made in china',\n",
       " 'i hope coming_soon zoro sg',\n",
       " 'still stay at phase_2 next_month ? ? ?',\n",
       " 'why import from_india everyday ?',\n",
       " 'how_many more fw still in quarantine ?',\n",
       " 'my_question why singapore still need to import a foreign_worker dnt_tell me not enough man_power ?',\n",
       " 'well_done just 68 new covid_19 cases in singapore no community_cases only two imported_cases',\n",
       " 'community_case are still_ongoing sg is also adding new imported_case ? so stay_safe',\n",
       " 'why still dont show the number of tests_conducted in community ? the of positive over total test cases is far more_important than just the positive number alone',\n",
       " 'when when when ? ? ? until when i_m stay at_home so_boring already',\n",
       " 'aiyoo ! 1 singaporean ! why are you inflected',\n",
       " 'if singaporean 1 singaporean no pr been say if pr infected 2 singaporean/pr next time if pr infected just straight_answer pr no need /',\n",
       " 'why should we import so_many ? no end ? why should we allow the worker s family to come at this_pandemic time ?',\n",
       " 'without_any local_community being_tested new case are popping_out of nowhere now adding on new imported_cases too so stay_safe ?',\n",
       " 'test at origin and proven_negative before_allowing them to enter ! it is that difficult to enforce this ? at_least for high_risks country like_india/ philippines and indonesia !',\n",
       " 'go phase_3 import so_many cases',\n",
       " 'no cases in the community',\n",
       " \"what's a special_pass holder ?\",\n",
       " 'still infection ? ?',\n",
       " 'mostly bangladesh in india',\n",
       " 'pray to ica instead_of god ask them to stop_approving entry of people from high_risk country like_india/ indonesia and philippines',\n",
       " '3 import case in malaysia is from singapore i_think we have cases in community but no_symptom',\n",
       " 'singaporean new citizens ?',\n",
       " 'go_ahead singapore',\n",
       " 'for first time 2_digits below_60 new cases in singapore',\n",
       " 'gung_ho to the health worker frontliners god_bless you_guys',\n",
       " 'no logic that ica allows infected foreigners to enter_singapore even_though they may be work_pass/permit holders should not allow_entry',\n",
       " 'happy notional day singapore',\n",
       " 'happy 55national day singapore',\n",
       " 'where the new cases from ? still from dorm worker ?',\n",
       " '55k positive patients for 55th_birthday',\n",
       " 'why are we still having cases from dependent s_pass holders when some countries are restricting the return of their citizens from heavily_infected countries ?',\n",
       " 'total casrs 55k already ?',\n",
       " 'please ban those indian from flying in',\n",
       " 'singaporean jia_you',\n",
       " 'big_thank you so_much sg',\n",
       " 'why allow short or long_term dependent_pass holders from_india to come into singapore ? ? escape_from india is it ?',\n",
       " 'next test is those came_back from malaysia',\n",
       " 'singaporeans have super_powers ! cannot get_infected one !',\n",
       " 'import until syiok',\n",
       " 'ban all flight to spore or lockdown the country',\n",
       " 'amongst the 5 imported_cases 2 cases 52303 and 52352 are work_pass holders who are currently_employed in singapore and had arrived_from the philippines on 29_july and india on 20_july another 2 cases 52321 and 52353 are dependant_s pass_holders who_arrived from_india on 19 july and 20_july the remaining_case case 52299 is a long_term visit_pass holder_who arrived_from china on 20_july all of them had_been placed_on 14_day stay_home notice_shn upon_arrival in singapore and were_tested while_serving their shn would be even more_transparent to state whether they are fdws and whether these imported_cases were asymptomatic or false_declarations and whether their shn were at_dedicated facilities ? lastly at whose cost ?',\n",
       " \"happy_nurse's day !_! !\",\n",
       " \"happy_nurse's day !\",\n",
       " 'so malaysia is still ok ?',\n",
       " 'stay_safe singapore regards from your_neighbour malaysia',\n",
       " 'singaporean stay_safe',\n",
       " 'i_heard some ppl on shn still go_out',\n",
       " 'hope that gov should stop all china flight to spore',\n",
       " 'both imported_cases arrived in singapore from_india on 12_july and 13_july case 51007 is a work_pass holder_who is currently_employed in singapore and case 50946 is a dependant_s pass_holder both of them had_been placed_on 14_day stay_home notice_shn upon_arrival in singapore and had_been tested while_serving their shn arrived 12_13 july now then report they are infected ? takes so long for test or test_results to come out ?',\n",
       " 'imported_case come from where india_philippines or china',\n",
       " 'one 1 year_old singaporean child and one pr from indonesia family 2 from the philipines',\n",
       " 'so ? ? more prs !_! ! coming_back ? ? ? may i know why ? ? ? ? ?',\n",
       " 'this country has_gone to the dogs',\n",
       " 'why let peoples import the virus into sg',\n",
       " 'stay_healthy and stay_home',\n",
       " 'same in malaysia bringing flights_from india perhaps we should stop temporarily opening_doors to high_risk countries',\n",
       " 'cant they be test before they board_flight ? so_many imported_cases are from_india these few_days',\n",
       " 'singaporeans are not safe as_long as fw are highly_infectious',\n",
       " 'may_allah bless our country spore amin',\n",
       " 'amongst the imported_cases 3 cases 48551 48552 and 48821 are singaporeans/permanent_residents who_returned to singapore from_india on 12_july and from kazakhstan on 10_july the remaining 3 cases 48535 48579 and 48820 are work_pass holders who are currently_employed in singapore they arrived in singapore from the philippines on 8 july and 10_july all of them had_been placed_on 14_day stay_home notice_shn upon_arrival in singapore and had_been tested while_serving their shn',\n",
       " 'what_kind of work_permit holders are they ?',\n",
       " 'that is a new high !',\n",
       " 'why are the dormitory cases not abating ?',\n",
       " \"why don't they just not include the dorm numbers and just the local_community and bought in cases\",\n",
       " 'love you singapore for no pr',\n",
       " 'which countries those foreigners come from ?',\n",
       " 'why singapore not in highly critical_state with an_average of 300_plus cases daily for few_months when hong_kong government declared hong_kong in critical_state with 100_plus cases a day only recently ? !',\n",
       " 'again most imported_cases still from indian !_! !_!',\n",
       " 'where are the import from ?',\n",
       " \"shouldn't allow_dependent pass and long_term pass_holders to come_back now\",\n",
       " 'why still allow_ft and dependant in from other_countries ?',\n",
       " 'why never include india ? ? ? ? ? ?',\n",
       " 'are singaporeans and pr now the same ? why the need to put singaporeans/permanent_residents ? so how_many singaporeans caught the virus and how_many prs caught the virus ? yes it matters',\n",
       " \"foreign_workers in malaysia very_high case but malaysia don't include_fw cases unlike singapore include_fw for what ? ?\",\n",
       " 'malaysia has high cases of foreign_workers 20_000 case but malaysia show community only 8_000 cases',\n",
       " '2 dependant_pass how very verysad',\n",
       " 'why so_many work_pass outside no stop them to go_out',\n",
       " 'it was just over 45 000 before_ge its now just over 47_000 in total today',\n",
       " 'where the short_term pass_holder from ?',\n",
       " 'south_korea is getting us to have covid_19 tests before_leaving us for south_korea why is singapore still_allowing indian prs to come without covid_19 tests endangering airport_staff in india and singapore and especially air_crew and passengers on_board ? thank_you',\n",
       " 'imported_case from china is it',\n",
       " 'how come so_many import case ?',\n",
       " 'what is the fatality_rates in singapore right_now ?',\n",
       " 'how_long stay in room dormitory ?',\n",
       " 'why dormitory cases never_end even after 3_months cb ?',\n",
       " 'i_am waiting_for 2nd_wave to come',\n",
       " 'looked why is it only no of new cases announced but not on how_many cases were screened from the migrant_workers ? is there an agenda_behind it ?',\n",
       " 'where is 13th july cases ?',\n",
       " 'how_many pr is still outside the country ?',\n",
       " 'where is the today s report ?',\n",
       " 'what_sort of reporting ? was always 2 categories singaporean/prs and wph in community is it targeting singaporeans to divert from wph in the community based_on our_investigations so_far there is 1 case in the community who is a singaporean then lets separate between singaporeans and prs',\n",
       " 'thank_u community is 1 only',\n",
       " 'well_done tomorrow_0 local case ?',\n",
       " 'stay at_home',\n",
       " 'phase_2 local case_pattern 1 2 9 1 3 7 5 6 11_11 6 6 10 10 11 9 18_23 20 9 21 16 24',\n",
       " 'again work_pass holders',\n",
       " \"it doesn't_matter it is work_permit holders or singaporeans as_long as in singapore it is inevitable to stop 100 the spread from wp_holders to singaporeans and vice_versa stay_safe\",\n",
       " 'anyone_know where come those imported_case',\n",
       " '20 of the total',\n",
       " 'work_pass holder 17 ? !',\n",
       " 'why community infection is increasing ? ? ? ? ? ?',\n",
       " 'thanks to china',\n",
       " 'phase_2 local case_pattern 1 2 9 1 3 7 5 6 11_11 6 6 10 10 11 9 18_23 20',\n",
       " 'now 20 in community !_! !',\n",
       " 'community are getting more and more 20 now',\n",
       " 'you_guys really outdo yourself day after day cheers to 100k soon',\n",
       " 'work_permit holders in the community ? domestic_helpers ?',\n",
       " 'who are the work_pass holders ?',\n",
       " 'cannot going phase_2 stop it !',\n",
       " 'cases are rising day by day',\n",
       " 'phase_2 local case_pattern 1 2 9 1 3 7 5 6 11_11 6 6 10 10 11 9 18_23',\n",
       " 'what is the difference_between work_pass holders and work_permit holders ?',\n",
       " 'why are we allowing those abroading coming_back to spore again ?',\n",
       " \"i'm baffled_by the work_pass holders is it the front_line ?\",\n",
       " 'praised_god god_blessed singapore',\n",
       " 'phase_2 local case_pattern 1 2 9 1 3 7 5 6 11_11 6 6 10 10',\n",
       " 'thank_you mom',\n",
       " 'why no test at their_respective countries before approve the entry ?',\n",
       " 'i see most are wp ! and pr !_! how_many are they ? ? ?',\n",
       " 'phase_2 local cases day 1 1 day 2 2 day 3 9 day 4 1 day 5 3 day 6_7 day 7 5 day 8 6 day 9_11 day 10 11 day 11_6 day 12 6 day 13 10',\n",
       " 'why still so_many singaporeans',\n",
       " 'why singaporean s don_t need take test ?',\n",
       " 'waiting_for 1 july number of cases',\n",
       " 'why still have singaporean ?',\n",
       " 'stay_safe singapore from malaysia',\n",
       " 'why still not_posting total infected cases ? what s the problem_ministry of health_singapore ?',\n",
       " 'phase_2 local case_pattern 1 2 9 1 3 7 5 6 11_11 6',\n",
       " '11 cases in the community for second_consecutive day ?',\n",
       " 'covid_19 is at everywhere no_point to travel',\n",
       " \"when lockdown there's_hardly any community infection now almost_everyday we have community infections and its_raising\",\n",
       " 'how come always 3_digits ?',\n",
       " \"can't differentiate_between a singaporean and pr ?\",\n",
       " 'getting more and more community infections',\n",
       " \"when lockdown there's_hardly any community infection now almost_everyday we have community infections and its_raising\",\n",
       " 'phase_2 local cases day 1 1 day 2 2 day 3 9 day 4 1 day 5 3 day 6_7 day 7 5 day 8 6',\n",
       " 'then which place they visit ?',\n",
       " 'my_question is malaysia has open the border so when is singapore going to open the border we have a family staying_at malaysia so when can we open the border ?',\n",
       " 'see why so_many work_pass infection ? they just entered_singapore ?',\n",
       " 'medica india',\n",
       " \"sometimes i'm_wondering community_cases is it a matter_whether they are locals or work_pass as_long is in the community they are being_exposed\",\n",
       " 'seem singaporeans and prs have super_powers ! cannot get_infected !',\n",
       " 'who_knows the 1 case in the community_case is from where ?',\n",
       " 'phase_2 local cases day 1 1 day 2 2 day 3 9',\n",
       " \"might as_well don't report\",\n",
       " 'work_permit holders ?',\n",
       " 'how did prison_inmate return with social_visit pass ? ? ?',\n",
       " 'prison_inmate on social_visit pass pls_explain',\n",
       " 'which_means mom has_been letting in more work_permit holders !',\n",
       " 'today s new cases is slightly_higher than_yesterday s new cases',\n",
       " 'today s new cases is slightly_higher than_yesterday s new cases stay_safe guys',\n",
       " 'hope indian government should learn_from you ?',\n",
       " 'sep like me already made my application almost a month no replies there is so_much of work that there is no replies so_many ? ? ? ? ? ? ? in the societies of the sep not properly getting the sep to understand more on getting help so the support_grants for what ? ? ?',\n",
       " 'where is malaysia ? its safer_than china now !_! !',\n",
       " 'china has lots_of new cases why are we letting_them in again ?',\n",
       " 'malaysia claimed 3 imported_cases from sg please_explain',\n",
       " 'japan and south_korea still record quite a number of positive covid_19 cases daily why ? ? ? ? ?',\n",
       " 'i hope travellers_from china japan and korea would still served 14_day quarantine',\n",
       " 'why they never report the imported_case ?',\n",
       " 'work_pass holders always higher_than singaporean why is that so ?',\n",
       " 'good_job singapore from malaysian',\n",
       " 'how_many fw in spore ?',\n",
       " '5000 tested_347 positive or 400 tested_347 positive ? how_many cases in the community were_tested ?',\n",
       " 'why work_pass holder always more_than community',\n",
       " 'when phase_2 come a ?',\n",
       " 'more test more case no test no case ?',\n",
       " 'it_seems like work_pass holder always more_than singaporean',\n",
       " 'so cases are now 227 plus 421',\n",
       " 'i_feel that there is more foreigner than singaporean or singaporean obey the rule but not foreigner therefore more foreigner get covid ?',\n",
       " 'how come still so high ?',\n",
       " 'how come dorm never_finish',\n",
       " 'how_many tests were carried_out in the fw_dormitories and how_many among singaporens or prs ?',\n",
       " 'stay_strong singapore prayers from malaysia for you',\n",
       " 'malaysia only 2 cases today',\n",
       " 'how come no_mention of total infected cases so_far ? what s the problem ?',\n",
       " 'stay_safe to all singaporeans ! greetings_from malaysia',\n",
       " \"spore still got many students and teacher's from china come to spore for work and study\",\n",
       " 'stay a home best_medicine',\n",
       " \"there is still many students and teacher's_come from china\",\n",
       " 'why is the 01 pr stay at dormitory tested_positive considered_as outside_dormitories ?',\n",
       " 'many countries has open_up and sg ? ? ?',\n",
       " 'the work_permit holder and work_pass holder are infecting the community 6 sg/pr against 5 wp/h yesterday was 2 pr 6 w pass_holder 7 w_permit holder this is very serious work_permit/pass holder infecting sg/pr have to keep a very_strict check on these workers before they start infecting the whole community !_! !_! !',\n",
       " 'these number are meaninglessness now it depends_on the number of test_conducted no test no case more test number goes_up less test number goes down',\n",
       " 'its like there are more foreigner than singaporean in singapore',\n",
       " '13 cases of work_pass holders return_back from china',\n",
       " \"many work_pass holders from china are waiting to return_back to spore for work now that's_why changi_airport are open flight to china\",\n",
       " 'why no_mention of total infected cases ?',\n",
       " 'how_many tests_conducted in the community ?',\n",
       " 'too_bad so_sad singapore must jia_you',\n",
       " 'why are there so_many community work_pass holders getting_infected ?',\n",
       " 'that good number 5697 come buy_4d',\n",
       " 'community infection is rising_again',\n",
       " 'so what s new ? ? ? ? ?',\n",
       " 'why never_mention the total infected cases ?',\n",
       " 'prayers for singapore',\n",
       " 'praying_for singapore',\n",
       " 'there are still many s_pass prc_workers came_back from china to spore for work',\n",
       " ...]"
      ]
     },
     "execution_count": 66,
     "metadata": {},
     "output_type": "execute_result"
    }
   ],
   "source": [
    "pos"
   ]
  },
  {
   "cell_type": "code",
   "execution_count": 69,
   "id": "forward-landing",
   "metadata": {},
   "outputs": [],
   "source": [
    "neg = []\n",
    "for i in range (len(replacement_df)):    \n",
    "    if replacement_df['prediction'][i] == 0:\n",
    "        neg.append(replacement_df['sentence'][i])"
   ]
  },
  {
   "cell_type": "code",
   "execution_count": 70,
   "id": "peripheral-summer",
   "metadata": {},
   "outputs": [
    {
     "data": {
      "text/plain": [
       "[\"and the bad_news you won't know if you have it unless you get tested people can get complacent if they feel well despite_having it also if you have a positive test_result you can't travel etc\",\n",
       " 'if people are expressing_concerns then it is an_indication to look_into it deeper',\n",
       " 'how_about our kids_under 12 ? they got no protection but only the masks how to ensure their safety esp when they go school and daily life ? mild_symptoms not means won_t suffer from other lung and heart infection keep opening is very_risky to those unvaccinated kids adults should provide a safe environment for them to grow_up',\n",
       " 'my past reading n understanding is that now our 98_9 infected individuals reported here as with no symptoms or are asymptomatic cases are actually not captured in their statistics elsewhere as covid19 infection if not wrong thanks for updates so we all continue to stay_safe !_!',\n",
       " \"protect below_12 year_olds don't sign them up for preschools\",\n",
       " \"brilliant stat to be sharing big message here get your vaccine and avoid serious_illness and ensure we can get open and get on with living i don't_know about you but i'm_ready to get my life back let's go singapore !_!\",\n",
       " \"i'm only concerned y are we still not easing all those_foolish restrictions these clowns_inside the task_force can talk_talk but we are still stuck at the current_situation since its already an_endemic open_up get things going\",\n",
       " 'it_s a good development moh is expressing their focus_on icu s instead_of the hysterical daily cases rate that cause_unnecessary chaos we all do our best with the information we have it hands from science and medical_experts and take decisions from there which unfortunately will always include some risks people yelling that long_term effects are not proven are absolutely_right but find themself in a deadlock as nobody_knows for sure so it_s pointless getting your vaccine is in fact expressing trust in medical boards experts and science besides protecting_yourself against_severe illness now that we established the icu as a primary_kpi it_s time to relax measures while monitoring a pressure on healthcare_system and b ongoing monitoring of side_effects on health',\n",
       " \"awesome ! that's right ! i hope those anti_vaxx knew_about the benefits of being vaccinated now ! being vaccinated is a must ! don't ever argued_with a childish statement that aiya ! fully_vaccinated also can get_infected bla_bla bla !\",\n",
       " 'this_morning i happened to be at shunfu market to grab lunch i_saw a group of cyclist about 5 7 of them men and women gathered_at their parked bicycles to chit_chat laughing_loudly with no masks not even pull_down masks they are young and from their_bicycles can tell they are working_adults and can afford those bikes so really no excuse at all for them to talk and laugh so loudly',\n",
       " \"i'm concern_about the mu_variant still a_lot of uncertainties please watch closely and open_up slowly\",\n",
       " \"been waiting_for the sms from moh to take alternate vaccine for 1_mth no_reply from emails and can't contact moh thru phone when is sinopharm/sinovac/novavax going to be made_available for ppl who can't take_pfizer/moderna why focus_on ppl who don't_want to be vax than to provide alternatives for ppl who_wants to be vax\",\n",
       " 'can there be explanation if the symptoms r mild for the majority y_r the hospitalised cases increasing with the surge ?',\n",
       " \"what's the point of getting vaccinated and still caught it mild or serious still kana just the recent current bus_drivers\",\n",
       " 'please_explain mild as i know mild is not as simple as abit of flu abit of cough mild may make you lost your taste your smell_etc just that maybe no oxygen required if you classified that as mild',\n",
       " 'kid and baby they have own power to auto recover they are stronger enough',\n",
       " 'so 580 cases are currently_warded in hospital is not a concern ? ? ?',\n",
       " 'you all force to believe the vaccine',\n",
       " 'we are concerned with children who are below_12 ! so what good_news are u referring to ? !',\n",
       " 'got 3kids below 12yrs_old they are not vaccinated how moh can ensure mine other kids are safe with public_transportation infected cases on the rise',\n",
       " 'i dont believe it is it just to make the citizen feel_safe ?',\n",
       " 'can you reveal how_many is serving_quarantine orders ? if endemic why need to quarantine and put_on hold the next opening_up phase',\n",
       " 'like it_s mention it_s airborne dining_out with no mask eating_drinking chatting over 1 2 hours is actually dangerous as the air_circulation is still within the premises pax of 2 3 is advisable not more many eateries do not do proper checking too',\n",
       " 'then can explain_why is there sudden_spike in community_cases and deaths ?',\n",
       " 'i have children_below 12_years old u call that good_news ? come on la be materialistic high rate mean high rate wa_lau eh',\n",
       " 'it_s time for moh to stop resorting to deceptive usage of statistics rrr figure and start reporting on number of arr and nnt !',\n",
       " 'ah complacent again',\n",
       " 'don_t think the concern is being addressed at all surge in cases is a result of complacency after high vaccinations',\n",
       " 'unvaccinated_uv fully_vaccinated fv_comparing data based_on the last_14 days from moh data 1 all age_groups show the unvaccinated infections_decreasing slightly except for the 61 to 70 group 2 the overall percentage_of fv infected on 3_sept is creeping_closer to the percentage_of the 2_doses completed as of 3_sept including those for the age_12 to 18 as_well but then there were only 23 cases too small to begin_with 3 on 23_august 336_were warded_in hospital as of 3 september it has_risen to 580 but no breakdown of the groups are given age_12 18_86 2_doses completed_30 august_37 0_uv 47_0 fv_1 sept_30 0_uv 60 0_fv 2_sept 25 0_uv 75_0 fv_3 sept_13 0_uv 82 6 fv_age 19_39 86_2 doses_completed 30_august 10 9_uv 77_8 fv_1 sept_9 0_uv 81_0 fv_2 sept_8 5_uv 82_7 fv_3 sept_8 7 uv_82 9_fv age_40 60_90 2_doses completed_30 august_9 1 uv_81 4_fv 1_sept 8 0_uv 83_7 fv_2 sept_8 3_uv 85_0 fv_3 sept_7 5_uv 85 9_fv age_61 70_90 2_doses completed_30 august_10 0_uv 85_0 fv_1 sept_9 6_uv 86_9 fv_2 sept_9 5_uv 87_8 fv_3 sept_9 9_uv 87 3 fv_age 70_plus 83 2_doses completed_30 august 19 3_uv 70 1 fv_1 sept_14 3_uv 77_4 fv_2 sept_15 5_uv 77 3 fv_3 sept_13 9_uv 78 2 fv',\n",
       " 'i don_t think the sentence protect your family is right how does it protect your family ? if vaccinated folks usually no or mild_symptoms you still can spread to others_unknowingly which also means there re many asymptomatic_spreaders in community hence the surge in unlinked_cases',\n",
       " \"no one can_guarantee you and your_family's safety during a pandemic if you can find such a country let_me know and i'll think_twice about going there ! sg is doing very well\",\n",
       " \"i'm laughing !_! dont_know where they get all the information from ? how not to worry when everyday unlink_cases so_many ?\",\n",
       " 'it just like someone asking question a but u answer it with b',\n",
       " 'why moh don_t explain natural_immunity ?',\n",
       " 'thank_you very_much for infornation',\n",
       " 'how_about children and baby that couldn_t take vaccine ? does the virus won_t spread to them ? how to avoid ? is the any solution ?',\n",
       " 'like that can the unvaccinated person go_out and join their friend to dine_in together ?',\n",
       " 'more description for mild please',\n",
       " \"that's because you are not infected !\",\n",
       " 'raymond ng you like stats',\n",
       " 'unless its endorsed_by vasilis_sam',\n",
       " 'we should go for a virus free environment rather_than be_contented to live_with mild_flu epidemics',\n",
       " 'not worried lah we got ong_ye kung and the experts to solve the spike don_t think they are also worried when the new_strains come onshore here',\n",
       " 'sooner it will become ordinary flu that s how vax_works people confusing they still want inside the hospital to be_treated rather_than inside the house thank_you moh',\n",
       " \"the comments are so funny think of it as ur flu vaccine u take flu vaccine does that mean u are immune to ppl ard u having_flu ? if u can answer this question u've got ur answer to the covid vaccine point is don't think so_much there's other things in life more_important than this here\",\n",
       " 'include_sinovac into national_vaccination programme and parents can bring their kids to get vaccinated',\n",
       " 'if so why do you not allow foreign_workers to move about and still restrict their_movement like caged animals ?',\n",
       " 'mild/no symptoms means the infected won_t suffer from long covid ? wait are these asymptomatic people also moving_around in the community ? possible reason for the spike ?',\n",
       " 'i_am ok with those_who have mild_symptom but asymptomatic remain concern unless they are not further developing to serious_illness or sudden_death happening_thus our community remains safe to enter endemic zone',\n",
       " 'covid_19 mu_variant vaccine no_longer effective',\n",
       " 'please let_us know daily how_many plus_ve cases are vax and how_many unvax too yea',\n",
       " 'now not dead not_counted ah ?',\n",
       " 'why not full_disclosure ? fell_seriously ill unvaccinated 8 2 vaccinated 2 100 98 below mild or no symptoms unvaccinated 91_8 100 8 2 vaccinated 98_9 not seriously_ill after infection 91_8 100 8 2 ? vaccinated 98',\n",
       " 'uk got brain to be more_cautious',\n",
       " 'non_mrna vaccines always no stock how to vaccinate',\n",
       " 'lolx how it protects my_family if i get vax leh ? it will still spread to them isnt_it ? can moh be sure that a vax wont spread the virus so moh is also implying_that getting aids is ok too as aids dun eliminate someone instantly_just after a_few years_later before they go ?',\n",
       " 'my_son is depressed and suffering in quarantine in a disgusting hotel with no hope for redress or support help',\n",
       " 'could we have updates on list of schools with cases ? parents mention about recent cases at nanhua pri and nus_high around clementi bus_interchange could only find the news in chinese_media so parents could take_precautions and make alternative commuting arrangements to keep the kids safe church of the holy cross at_clementi next to nus_high was closed till aug 14 due to cases earlier and open again recently',\n",
       " \"why don't give a picture on vaccination is also a main_cause of spread ? the number is telling that what does it mean by the unlinked case of 109 over 216 local cases ? where we have nearly 80_vaccinated ?\",\n",
       " 'old_folks must explain in dialects and they r ignorance only know how to say yes',\n",
       " 'beta_gamma delta c12 and now mu counting_down on the mutation',\n",
       " \"my boomer relative but the science isn't proven\",\n",
       " 'thank_you very_much !',\n",
       " 'just make_sure audits to check nato',\n",
       " 'this_guy still be_trusted ?',\n",
       " 'dear_moh rather please review this presentation by dr khadar vali a steroid scientist and tell_us if he is an_idiot or fake what havoc drugs and vaccines are causing',\n",
       " 'do not use analogies to distract us do you or your expert_panel know what are the ingredients in those vaccine that you insist is safe for people to be injected long_term ?',\n",
       " 'tell_us something new like places_visited infected person etc la',\n",
       " 'this for vaccine do you have one for gene_therapy ? mrna is gene_therapy not vaccine if this comment is deleted then next qnes why ?',\n",
       " 'hi_mr ong_ye kung in the ndr_we are told to take_care of minority so may we know how are you and mtf going to take_care of the minority who cannot be vaccinated children with medical_condition allergies etc ? cos age_groups not mentioned we see about 1_000 strokes and heart_attacks every_month handled_by our public hospitals and as we vaccinate in large_numbers coincidental_strokes and heart_attacks after vaccination will_occur said moh',\n",
       " 'physical test on animals and a report on how_long this vaccine last will be better example how_long to maintain 99 so that we can jab every few_months to not get_infected',\n",
       " 'if the mrna_vaccine work and the t_cell and b cell do work as the minister said why israel has the third_shot on the arms of his ppl from age_40 and above can moh engage your expert to study the situation in israel before implementing the third_shots on our citizens ?',\n",
       " 'still seeing maids in groups picnics on their day off most of the time without_masks as the unlink is high the authorities should send out more ambassadors to the float marina_bay and mrt',\n",
       " 'we are exposing to many unlinked_cases now means high_chance that children will get inflect badly why stopped tracing ? furthermore virus is evolving and getting stronger how would it possible to live_with covid now ? need explanation',\n",
       " 'dear_ministry of health_singapore for the following_statement in the report and i_quote 4 there is continuing_evidence that almost all fully_vaccinated individuals do not suffer serious_disease when infected unless if they had underlying_medical conditions that made them more_susceptible what is the quantifiable definition_of almost all ? does this part of the statement unless if they had underlying_medical conditions that made them more_susceptible also applicable to the pv and uv ?',\n",
       " 'dear_ministry of health_singapore for the following_statement in the report and i_quote there are currently 20 cases of serious_illness requiring_oxygen supplementation and 5 in critical_condition in the icu of those_who have_fallen very_ill 19 are seniors_above 60_years of whom 11 are completely_unvaccinated or_partially vaccinated out of the 11 how_many pv and how_many uv ? is it possible for the statement to also_include an_additional line indicating_that there are 8_fv out of the 19 ?',\n",
       " 'dear_ministry of health_singapore for the following in the report and i_quote over the last_28 days the percentage_of unvaccinated who_became severely_ill or died is 7 3 while that for the fully_vaccinated is 1 1 are we missing the stats from the pv group ? are we able to provide a more current averaging over last 7 14_days instead_of over 28_days ?',\n",
       " \"actually all have to do our_part mask up proper_hygiene ! whoever resides in sg have the responsibility to keep sg safe however does sdo really check beyond malls ? dear govt it_seems no sdos check at the fields and path outside mall e_g paya_lebar square other malls around paya_lebar mrt so_many helpers siting together eating_outside mall with mask down with less_than 1m_away gathering more_than 5 singing eating etc so unlinked_cases can be anywhere_anytime ! dear sg_govt this is a virus it may kills anyone be it whether you are immune or not as this is a virus which is adaptive ! you have not encountered family_members passed on so you may not know the pain ! please be_careful on how you manage our life's in this country really do not hope to hit_300 beyond cases a day and govt just ignore due to herd_immunity move_on ? ! sg is a small over_crowded island hence unlinked_cases are worrisome now is bus next could be mrt ? if is delta_variants not the old pioneer merdeka_generations but children or anyone could be affected the vaccines are on elixir death existed at_least for now we have some lifes in sg with the restrictions don't try to just mimic us or uk or any western_countries totally please ! be very cautious please !\",\n",
       " 'even if the others are already vaccinated and if they do not follow the policy everything is useless when will it end covid_19 ? ? when will everything return to normal ? ?',\n",
       " 'may i know what is govt plan for kids_below 12_years old if govt plan to treat covid as a flu disease',\n",
       " 'so when is the next announcement for relaxed_rules ? we were hoping for good_news today now still in same state for how much_longer ?',\n",
       " 'do they still update public which schools have clusters ?',\n",
       " 'average 5 per_day from 0_11yo average 100 vaccinated per_day from 19 yo onwards',\n",
       " 'so at what percentage we can go without_masks ?',\n",
       " 'no_point keep_repeating all these_nonsense just ease all those_foolish restrictions open_up already endemic',\n",
       " '25 severe cases 19 above_60 11 unvaxxed how_about those below_60 ? how_many unvaxxed_below 60 ?',\n",
       " 'no sign of curve flattening we are going to the moon',\n",
       " 'if u never import freely where got so_much dearh',\n",
       " 'eventually many more will get the virus so why not just open_up and let our immune_system fight this virus since 83 are already vaccinated we should take_advantage of this now before the vaccine wane_off quarantine and testing is just_prolonging when we will get the virus',\n",
       " 'hi_mr ong_ye kung may we know if you have done a forecast of how_many variants vaccine resistances will be entering_sg via open_borders and what is the risk and impact to sg and what is your remediation plans ?',\n",
       " 'if you are clueless just open_up no_difference already',\n",
       " 'many sherlock holmes pointing that vaxxed is increasing but are they also noticing that serious cases have_been stable / decreasing in_spite of overall infections jumping by a bunch ? yet further evidence the vaccines are doing their job',\n",
       " 'it_takes a single case from outside then infect all the rest simply by the lack_of vigilance story repeats over and over again everywhere not just in sg',\n",
       " 'happy jabbing',\n",
       " 'hi_mr ong_ye kung in the ndr_we are to take_care of minority so may we know how are you going to take_care of the minority who cannot be vaccinated children with medical_condition allergies etc ?',\n",
       " 'i_think this is a very_important chart please include it in your reporting',\n",
       " 'moh still emphasises the numbers of unvaccinated from their figure of the 20 require_oxygen 10 are fully_vaccinated and 1 partially_vaccinated',\n",
       " 'what can our govt say or reaction to israel who is our model ? sept 3 israel news',\n",
       " 'the graph is for the increase number of peoples taking vacine or today covid case ?',\n",
       " \"virus_mutates it doesn't even need to come from another country a variant that vaccine cannot stop can appear from within\",\n",
       " 'who tracking new covid variant_named mu warns it could be more resistant to vaccines',\n",
       " 'coronavirus three cases of new_mu variant_found in hong_kong arrivals authorities reveal south china morning_post',\n",
       " \"we can have the best of both_worlds if we keep the vaccinated ones from being super carriers the ministry and the policy must give the right idea to the people that stop spreading even if you won't get seriously_ill with the masks on and away_from gathering ! now from 100 to 200 the policy is proved to be a failure but no one is trying to revise that don't tell_me that the policy will be routinely revise the virus will not follow your routine also please_explain to the public that there is not enough data but there are papers indicating the possibility of dropping immunity due to over dose of vaccine and no data to tell whether the third_shot is risk beneficial we need to have come_back to our total_defense mentality of singapore stop misleading the people in thinking that is anything to do with the unvaccinated ones in singapore please understand that not everyone will like survive for vaccination and together we need to protect one another the policy is obviously not helping for the spread reduction the numbers tell and we need to be warned if we do not reduce the spreading new breed of virus string might easily be successfully come out and we do not want to have a variance to be named due to singapore money can earn back shops closed can re_open no_point on dragging if the business itself is not adapting to the real situation it's not worth for the lives and the faith of the people if people still trust the government please cherish the trust do your job thank_you your tax_payer\",\n",
       " 'the problem is u_r allowing people to go work or free to go_out eventhough the roommate of the positive person asked you if they needed to be quarantine you said she can go freely and only to receive qo after 2 full days where the housemates already gone to work and interacted_with people these are one of the loophole which cause unlinked and increase infected cases !',\n",
       " \"another stupid words i can't_imagine that we have hired this kind_of people 1 your safe_management measure is proved to be a failure can you see the number ? 2 testing and tracing can keep the spreading from happening ? what a_joke it only help you to know and if you do_something on the test_result or tracing result it helps only on further_damage 3 and we see the real point if you are not doing_anything when the number comes out from the test and tracing tells_us that your policy is not working if you as a government body does_not act with the results you expect the people to do what ?\",\n",
       " 'if the art_test is provided free or deduct_from medisave vaxxed and unvaxxed will be very happy to do it moh and mtf need to consider it to avoid more infection to pay from our pocket for the art doubt so people will do it',\n",
       " \"you know you hardly_ever mention our under 12s in any of your announcements you know our kids the ones who can't be vaccinated yet and are at more risk this year with rising_numbers than they were last_year when numbers were low ? it would be nice if you could talk_about them and their welfare occasionally\",\n",
       " 'waiting until mu comes vaccine invalid than what ? ?',\n",
       " 'and there we have people selling the art_kits online',\n",
       " 'who do not recommend the giving of a boaster_shot even_though it may indeed be beneficial i_feel we should help the 3rd_world countries first we are in it together isn_t it ? can we help every country receive their first two_doses before we take our boaster_shot ? the reasons the new_variants appear in 3rd_world countries is also because majority are unvaccinated if we help them we are also helping ourselves',\n",
       " 'by calibrating our safe_management measures testing more extensively and contact_tracing more surgically to reduce and identify infections early you 100 must be_joking i dont see any reducing',\n",
       " 'god_bless singapore support',\n",
       " 'hoho robot_has spoken',\n",
       " 'nowadays many people remove_masks when buying_things and pretend to be jogging on the road without_masks',\n",
       " \"more cases will be detected as people can buy the testing_kits and conduct their_own testing we don't_want to pass this virus problem to our next_generation we must try our best live_with virus and not run_away from it by wfh_hbl lockdowns and etc\",\n",
       " 'yes lets do it for vasilis_sam',\n",
       " 'stop stalling for time when are you gonna announce 3rd_shot for the rest of singapore after the seniors and formally declare those_who have not taken 3rd_shot as partially_vaccinated only since in the words of your minister antibodies have waned and there is no more full_protection stop the wayang',\n",
       " 'in natural_disaster whatever u do are all useless just open_up already endemic',\n",
       " 'what s the brand of the 3rd_booster ? afraid to mention ? payser is the culprit it_s time for this big_pharma to be shutdown and for them to be lockdown let_s turn the table around big_pharma suspend lock them down due to injuring and non effectiveness',\n",
       " 'it is good to see moh compensates accordingly based_on vaccination and the outbreak status however we hope moh does monitor about asymptomatic than symptomatic patient it is because those asymptomatic no any illness symptoms when they get_infected this might_be due to immune_system not active enough or did_not recognise virus in the body the hazard of these asymptomatic is they will easily turn to serious_illness when the quantity of virus increase rapidly it literally happen in other_country even malaysia some people die suddenly without_any symptoms but they were_detected positive after the investigation as_long as the daily cases this time we have more patient show_symptoms than asymptomatic one we are ok to enter endemic period of_course more economy activities to resume other_wise we remain tighten current safety_measurement until the risk of this disease has_been reduce down to flu disease level',\n",
       " 'very_worrying especially for kids_below 12 my kids been hiding at_home since ph2 ha except for traveling to school my 2 taking_public transport',\n",
       " 'if you look_at other_countries once it reached a significant_number the growth is exponential becoz it_s impossible to track anymore',\n",
       " \"we shall_see who is going to take full_responsibility when new_variant happens or children starting to get_infected if govt doesn't bother to take_action to care about her people then our people will start their_own lockdown parents are very_concerned about their children safety pls understand\",\n",
       " 'i_think govt forgot children are sg future why need to so agressive at this_juncture ? cant_wait next_year when majority of children get vaccinated ?',\n",
       " 'govt doing fantastic_job open t1 n t3 dont need temp_check get back to normalcy to boost_economy sporeans die no problem for every one casualty waiting_list so_many from outside home',\n",
       " 'i_am worried and concern with lack_of transparency and direction from those in_charge perhaps i_am the only one who think living with covid doesn_t mean letting it go_out of control reality is there are a_lot of breakthrough_infections lately it_s time to stop sweeping things under the carpet i speak for myself i would_prefer to live under strong_leadership that will have the guts to call timeout in order to get things under_control and gain the trust of everyday folks like me so that i will feel_safe to venture_out support local businesses and support reopening rather_than worrying if i will get sick eating in a busy restuarant or shopping in a crowded_shopping mall i_am not naive if i fall my whole_family will suffer as_well i have animals at_home it will means they will need to go somewhere while we are isolated who will take them ? there is no support system in place here those_who have kids that s probably even worst at the moment i just don_t have_faith and confidence i_am fully_vaccinated however i also have health_issues i had_been staying in most part of the time every time when i_felt things are getting_better within days i was proven wrong i_am sure many out there feel the same these emotional turmoils are demoralising learn_from others israel one of the highest vaccinated country is now a covid hotspot like us and uk they all aim to live_with covid but failed they let their_guards down to a mighty adversary singapore is a small_country it should not be that difficult to bring_down daily cases to low double_digit it_s upsetting to see lack_of commitment and energy to combat the current_situation from my perspective i hope there will be more decisive_action to stop infection from spiralling_out of control which it is only tip of the iceberg at the moment few_thousand tourists coming in is not going to boost_economy but 5_million singapore residents can if all of us feel_safe to step_out of our homes years_later if i_am still_alive i will probably not remember how reopening strategies succeed or not but i know i will remember the times i live in fear due to lack_of information transparency corrective decisive_actions during the last_few weeks and probably more weeks and months to come',\n",
       " 'can we pls return default_wfh ? the rise in cases are veey concerning thank_you everyone for your_hard work !',\n",
       " 'wow the gomen better be quick at tracing and stopping the cycle before its too_late look_at msia one fine example of being laidback at handling covid situations and it escalated really quickly to uncontrollable extent',\n",
       " 'the previous mega clusters of ktv and jurong_fishery port didn_t even break_200 at its_peak',\n",
       " 'people eating_along corridors in the malls but the social_distancing officers are not doing_anything because they say not in the protocol to stop people from eating in the malls they are not allowed to eat in the food_courts n restaurants but allowed to eat any where within the malls we will see the 4 digit very_soon if this goes on without control',\n",
       " 'now four minister nv come out and say_anything iszit letting everydays raisin up',\n",
       " \"hahahaa don't see any point of moh reporting anymore cos as what they say we shld expect numbers coming up as the economy open_up and to keep on emphasize between vaccinated and non_vaccinated is so uncalled_for as vice_versa both vaccinated and non_vaccinated still could get the virus\",\n",
       " 'what_about the other 211 ? how_many were_fully vaccinated and how_many of these fully_vaccinated were critical ? can the unlinked be a result of commuters travelling on public_transports ?',\n",
       " 'i said before sat 200_plus next weeks children will infection if parents still want to bring them out shopping school_holidays stay at_home',\n",
       " 'all restaurants in my_neighborhood are full and queues_outside now that s what i call normal friday so nice to see happy people everywhere',\n",
       " 'lets work_together to keep_ourselves safe lets do whatever we can to protect_ourselves wear_mask when out avoid_crowds shop_online etc',\n",
       " 'for those_who are indffferent to the number of infections as_long as icu cases remains_stable and those_who are eagar to open_up fast when this covid_19 become widespread and endemic in our country more and more of our population will be infected sooner_or later recovered and reinfected_again and again and if these people are to go abroad to travel they are risking to bust their travel_plans because countries still do pcr_tests upon_arrival even if they do away with the quarantine or shn',\n",
       " 'where is the taskforce ? don_t they need to share the current_situation when community_cases is record_high ? or is it endemic then no need give update anymore ?',\n",
       " 'i_guess we are taking the high vaccination and monitor hospital_capacity approach ? must say the trend on headline infection isn_t too good but guess we need to learn to live_with it as_long as hospital can take afraid for the children that s not vaccinated though',\n",
       " \"we can continue the plans to reopen but if we don't keep the covid numbers down travellers also dare not come in so i_think it works both_ways too\",\n",
       " 'yea right every_day 2 seniors_above 70_years who are unvaccinated or_partially vaccinated',\n",
       " \"if this is what living with the virus means to allow positive cases to continue to grow without regards to whether it's mild or not mild out of the 216 how_many are so mild that it's negligible and how_many are ill enough to be bedridden with discomfort and breathlessness or warded_in the icu ? we have the daily charting but should we be_complacent about the harmful potential ? the crowd at shopping_malls and public venues is returning and most look_like they are happy to be out and about almost like there's_no virus this is largely because people were_told to accept the virus as endemic what_about the unvaccinated ? do they_deserve to fall_sick for not believing in vaccines ? if they do catch the virus are we to fault them for not wanting to be vaccinated ? i_think vaccinated or not if we do not put some tighter_restrictions in place the number of infected cases will continue to go up or have we come to the point where we have put too_much faith in the vaccinated and lose_control ? we the public will probably not be receiving the full_extent of how worrisome the situation might_be there are unanswered_questions from parents of children_below the age of 12 and the elderly who remain unvaccinated i care now about the unvaccinated we should continue to protect them to minimise the possibilty of severity to their health we cannot live an_endemic life that might increase the risk of being unvaccinated even if they chose not to be vaccinated or cannot be vaccinated every life is precious there is still no telling that vaccination is 100 safe from all variants of the virus people with_underlying illnesses remain susceptible to the virus even after full_vaccination thus we have the seniors and young who are not vaccinated we have those_who choose against vaccination and those with_underlying health_issues who are vaccinated at the high_risk of being infected they could be your parents your child your relatives or your friends living with endemics may be ideal since we cannot limit spread but at a time when the number is still low and we let down our_guard more and more spread will happen i_am not an_expert but i have an uneasy feeling looming inside me looking_at the statistic chart that is heading upward i_think we should tread very cautiously even if we need to err_on the side of over_reacting are we digging our graves ?\",\n",
       " 'won_t be_surprised if this goes on till 4 digit figures by_mid sep',\n",
       " 'our vaccination will expire sitting at_home only what is the point of getting everyone vaccinated if we still don_t open_up ? ? restrictions restrictions and only restrictions cases still coming don_t understand',\n",
       " 'it is time to accept the fact_that this is reality we cant hide covid anymore it is part of the norms',\n",
       " 'time for 3rd_booster shots for those_who want it',\n",
       " \"denggi's second infection was more_dangerous than the first what_about covid19 ? since the vaccine doesn't prevent_infection only mild_symptoms what_about the next time they get it ?\",\n",
       " 'if you don_t have symptoms refuse the test there is no need and ask if the test is accurate',\n",
       " 'you can add another two or three zeroes to the back is ok but i want to know the numbers of severely_ill and icu cases numbers thank_you',\n",
       " 'i_am not worried because i know i will catch the virus sooner_or later the only thing i hope to find_out is how good i_am as a fully_vaccinated person deal_with the infection any answer will be_welcomed',\n",
       " 'dear_ministry of health_singapore please_provide full_transparency by publishing_daily breakdown of cases by fully_vaccinated partially_vaccinated and unvaccinated once booster has started administering please_consider including another class of citizens as ultra fully_vaccinated or fully_vaccinated max or fully_vaccinated extra if vaccine installment plan is where our_nation is heading please_clarify if the 2 cases of seniors_above 70yo are both unvaccinated or both partially_vaccinated or one of each ? why so convoluted ? please also state plainly amongst the cases if there are any fully_vaccinated seniors who are also at risk of serious_illness thanks',\n",
       " 'please take into_consideration for those kids / infants below_12 is too_risky for them',\n",
       " \"it's sad that the number of covid cases is increasing every_day\",\n",
       " 'day by day not less but more and more casses',\n",
       " 'everyday like new_record for new cases and unlinked_cases',\n",
       " 'can you show the breakdown of infected by vaccinated status in future_reports ? it might bring more ease if most of the infected are already vaccinated',\n",
       " 'daily increasing the unlinked_cases why all are quiet and no change measures worried how its going to be ?',\n",
       " 'watch_out maybe tomorrow they will announce back to the phase2 again',\n",
       " 'think we are waiting_for all 80 fully_vaccinated ppl got it then is endemic this is their strategy',\n",
       " 'bus_interchange due to workplace spread and the govt still want to force people who can wfh to take public_transport and go to office ? what is the agenda ?',\n",
       " 'hosey liaos next will be vaccinated ppl cannot_dine in and in group of 2 so_much unlinked_cases from public_transportation ? ?',\n",
       " 'maybe u can tell_us how_many of these 217 are fully_vaccinated',\n",
       " 'worrying direction we are heading disappointing regrets',\n",
       " 'it is a fact_that delta_variant is more_transmissible even in outdoor and yet many ppl still tee key dun wear_mask properly especially in confine_space like mrt n bus those_who dun wear_mask properly or pretend to wear_mask properly some look_like they are wearing_mask but in fact still can see gap beside both side of their_nose serve them right to get_infected',\n",
       " 'when can open 10 peoples dine_in for 1 table',\n",
       " 'from day1 untill_now they always mention about seniors_above 70_years who are unvaccinated or_partially vaccinated ! they should be many of them maybe 100 or even more so what is important now is how_many of them survive n why ?',\n",
       " 'it is going up again what are you waiting_for ?',\n",
       " 'how come we have increased cases from the day before ? sigh',\n",
       " 'oh_my why it keeps_going up ?',\n",
       " 'thank_you moh please_consider lifting more restrictions so we can resume happily our_lives',\n",
       " 'is it effect of 80 completed ?',\n",
       " 'cb2 3 is coming err by the way what phase are we in now ?',\n",
       " 'can provide how_many of these are in hospital icu etc ? breakdown of vaccination_status',\n",
       " \"everyday breaks the previous day's record !_!\",\n",
       " \"malls are as still crowded anything just blame the govt it's easy\",\n",
       " 'i wont be suprises if theres another lockdown',\n",
       " 'this is expected they say',\n",
       " 'need to know why there many unlink_cases',\n",
       " \"omg ! what ? ! 200plus locally community_cases now !_! and travelling to spore is now 'not so restricted/free' hmm\",\n",
       " 'haven reach the peak yet',\n",
       " 'by_mid sep it will be ard 350 400',\n",
       " 'soon to be 10k cases daily if this is still not curb',\n",
       " 'i_thought it wont be a big_bang haha',\n",
       " 'i_heard many say stop bus service all take cabs grab hooray',\n",
       " 'numbers are high again sian',\n",
       " 'the day is still young prepare_for 3k 4k b4 peak',\n",
       " 'to hsa why still no news regarding the evaluation of sinovac vaccines ?',\n",
       " 'there is no way to maintain a metre of social_distancing people are even touching each_other',\n",
       " 'notice moh recently specially stressed so_much on those_who are infected and without vaccinated does it important to mention ? is the local_transmitted cases deduced by telling this ?',\n",
       " 'unvaccinated_uv fully_vaccinated fv_comparing data based_on the last_14 days from moh data 1 all age_groups show the unvaccinated infections relatively unchanged while the fully_vaccinated infection increasing 2 the percentage_of fv infected on 2_sept is creeping_closer to the percentage_of the 2_doses completed as of 1_sept except for those aged_12 to 18 but then there were only 20 cases too small to begin_with 3 on 23_august 336_were warded_in hospital as of 2 september it is 528 age_12 18_86 2_doses completed_30 august_37 0_uv 47_0 fv_1 sept_30 0_uv 60 0_fv 2_sept 25 0_uv 75_0 fv_age 19_39 86_2 doses_completed 30_august 10 9_uv 77_8 fv_1 sept_9 0_uv 81_0 fv_2 sept_8 5_uv 82_7 fv_age 40_60 90 2_doses completed_30 august_9 1 uv_81 4_fv 1_sept 8 0_uv 83_7 fv_2 sept_8 3_uv 85_0 fv_age 61_70 90 2_doses completed_30 august_10 0_uv 85_0 fv_1 sept_9 6_uv 86_9 fv_2 sept_9 5_uv 87_8 fv_age 70_plus 83 2_doses completed_30 august 19 3_uv 70 1 fv_1 sept_14 3_uv 77_4 fv_2 sept_15 5_uv 77 3 fv',\n",
       " 'so old plp still un aware of this virus can still go_out n sukax2 hmm seem some selfishness',\n",
       " \"dear_moh please_guide your ministers to shift all the investment in biopharma industry and who to organic farming and create_jobs and business with that singapore can take step in this direction and can teach the world how to become a disease free_society there are plenty_of land worldwide keep the hospitals only for accidental cases come on don't be_shy in acknowledgeing the need to think in this direction\",\n",
       " 'dear_moh please_reconsider your decision to mass_vaccinate why there are so_many immunocompromised population after having so_many scientific professors_doctors hi tech hospitals is it not the evidence that the modern_medical is giving miseries and not by drugs and vaccines we start with metformin and end_up bedridden after insulin shots after shots and now not only adults we are witnessing childrens with type 1 diabetes and they on shots after shots from childhood we are seeing so_many deformed childrens in unimaginable numbers and scaring situations does any other_species in nature we see this situation ? with all the technological developments we see deadly climate_change do have any vaccine for that too ? the concern posted by another citizen in the link_below should we consider fake or relevant ? please do not become simply traders of biomedical science it should not exist if you have any concern for human_race mother_nature has given everything for what we need but we have deviated by stupidity of science we are almost at completely collapsed situation',\n",
       " 'how_many the unlinked participated_in national_day parade ? ? ?',\n",
       " 'all must be unvaxxed',\n",
       " '216 plus 3 219 unlinked_cases 109 saw a_lot of people not following the proper wearing of nose_mouth mask especially in buses and mrt nobody is checking and enforcing !_! ! land_transport authority we keep your world moving ministry_of health_singapore ong_ye kung',\n",
       " \"they actually do this not for singapore lah its for themselves they actually don't care at all they never think those with_underlying problems can this vaccine actually work for them ? this mild_symptoms is not really like a flu been_hearing about it from all over the world in malaysia 1 celebrity told about her_husband who is already fully vaccine but still not doing too good and if still no change they might push her_husband to icu most flu will never disturb your oxygen but covid i see it as most of the time anyway just remember what goes around comes around\",\n",
       " 'since coming 83 are fully_vaccinated maybe should just open_up and let the immune_system fight the virus maybe that can lead us to herd_immunity at this controlled manner and testing we are going we are just_prolonging the inevitable of us getting the virus but at a_huge cost on testing and isolating time to open_up and move_on else it depicts the purpose of high vaccination advantage',\n",
       " 'wth whats_wrong with govt children bot vaccinated im like some others with medical_reasons bad allergies not vaccinated taking so_much risk shut the dine_in and pls_la cut the damn workforce back to work the more use transport the more cases proven many_times alr',\n",
       " 'i hope humanity finds a way out of this deadly_virus death and destruction all over the world is terrible hope and pray singapore comes out of this_pandemic sooner_than later !',\n",
       " 'i read so_many comments about people scared so what is your solution ? lockdown for ever ? you can still do it on your_own will no one stops you from that life_goes on no other choices',\n",
       " 'better stay at_home and go_out for essentials only',\n",
       " 'lamda virus reach singapore vaccine are no use for now once u get it it will be stage 5 like malaysia is happening now',\n",
       " 'logically if 85 of ppl are vaxed our infected should be 85 less_than what being reported instead we are seeing more vaxed being infected over non_vax the resultant should be majority of non_vax being infected however you reported only just 1 9 of vaccinated got_infected as the total sum of vaxs get larger it is obvious that the get lower while the non_vax will get higher hence using such comparisons is just a twisted figures do you need to hv 100 vaxed to realise your folly now you are suggesting that everyone vaxed required a booster to be safe look_like the vaccines just dont offer us protection anymore other than lower the risks of complication thats all about it in 2 to 3_mths time you will be recommending another_booster tell_us when is all this going to end ?',\n",
       " 'mask is for swinging',\n",
       " 'the wrath of complaints ungratefulness n blame',\n",
       " '3 cases of mu_variant found in hk and who stated_that it could be more resistant to vaccines with borders wide_open to several countries what is the plan if this variant enter_singapore ?',\n",
       " 'sinovac effectiveness_against the delta_variant',\n",
       " 'what went_wrong ? ? ?',\n",
       " 'selfish_act by the taskforce_ministers chose economy over life they dare to take it norm because of the low death_rate now daily figures touches above_200 not surprise by then it will increase and increase singapore is a tiny_island fail to guard virus will spread fast and there are multiple loopholes to allow it please do not treat the citizens as a deck of cards',\n",
       " \"i just thought of a good_idea why not all the people who wish to live_with the covid volunteer to get_infected they can tell everyone later how great they felt they all claimed that covid is just like flu let's_see if they still would claim the same after getting_infected\",\n",
       " 'thanks for the daily_update',\n",
       " 'with 80 fully_vaccinated we are on our_own take_care everyone govt will not revert to tighter_measures despite elevated covid_19 case numbers lawrence_wong',\n",
       " 'very worry for my kids',\n",
       " 'now goverment target is getting everyone to get vaccine that all number of cases dont think come in first',\n",
       " 'huat_ah !_! we have done well ! gold_standard achieved and herd_immunity on the way',\n",
       " 'yet still no plan to cancel vtl with germany with daily cases 10k',\n",
       " 'may all be well_speedy recovery_stay safe and_auspicious !',\n",
       " 'up up all the way below thousands is ok for a vaccinated nation',\n",
       " 'are we ur test_subjects ? are u going to wait and see who gets covid what_happened if u get covid after u are vaccinated ? this is the result of ur_ndp 3 days after ur_ndp the no of covid cases increased and yet u are not doing_anything have u forgotten_abt our children who are not vaccinated ? across the borders kids and babies have passed_away because of covid how determine are u that our kids would not suffer die or have long_haul symptoms and do u have enough_space at kkh ? school_holiday has already started brainless parents will bring their kids out no_matter what cos they trust the gov decision if u dont do_something and nip_it in the bud things will get out of control',\n",
       " 'if singapore bans smoking in public during the pandemic so that everyone remains fully masked like in hk and taiwan our confirmed_cases and hospitalisation_rate would definitely be lower prof_dr judith_mackay has said in this south china morning_post letter that the virus is breathed_out so it is also possible that the clouds of smoke emitted_by the smoker_would spread the virus as these may be_forcibly exhaled and therefore travel further than a quiet_breath behind a mask',\n",
       " '216 locally cases !_! ! what is this !_! !',\n",
       " 'open some more la clueless_mtf',\n",
       " 'they never announce where were the infected area l only got to know from other hawker that our area someone got_infected and many stalls_owners were been forced to close down and quarantine due to their stalls been patronage by the infected person',\n",
       " 'omg getting more and more virus',\n",
       " 'up up and away !',\n",
       " 'jempol two siblings became orphans when their parents died just two_weeks apart after_contracting covid_19',\n",
       " 'dormitories blamed foreigners blamed ktv blamed shall we blame singaporeans now ? we should send singaporeans out of singapore ! feel very_unsafe among them now',\n",
       " 'anthony lee',\n",
       " 'hehehe this mei wong is everywhere very free online',\n",
       " 'unvaxx to keep_safe distance_measure away_from the vacx fully ones they are more attractive to new_variants now thanks',\n",
       " 'i_am more worried_about the opening_up of exhibitions in singapore our situation will be similar to tokyo_olympics where people from all over the world will be in singapore as we have_seen in tokyo_olympics the athletes that arrived in tokyo some were infected the infected athletes from all over the world had to be_treated in tokyo hospitals most_crucial question is are we ready to treat these covid_19 alpha_beta gamma_delta mu other mutations etc ? in singapore we have not had these variants previously if we are not careful we will be introducing these variants into singapore delta spread like fire previously in hospital from people flying_into singapore will these variants that was previously not in singapore start circulating in singapore like delta ?',\n",
       " 'oh_my goodness',\n",
       " 'amongst the cases how_many are vaccinated and at risk of serious_illness ?',\n",
       " 'u ppl go n encourage those elderly who have not vaccinated encourage go n do so comments_here will not help n solve the issue our taskforce is monitoring the case now',\n",
       " 'why u ppl_scare this n that ? n all your comments in here does it helps to solve the issue ? u all wake_up yr_mind u think virus can see ? virus is invisible',\n",
       " 'come on what_about european_countries ? cases are high and people are vaccinated but the majority is against compulsory vaccination in fact last_year the population here was not vaccinated and cases decreased everyone of you can comes to his conclusion how safe are vaccines and work in time',\n",
       " 'shawn_ang you think will hit_300 ?',\n",
       " 'towards the endamic',\n",
       " 'more unlink3d lucky no ndp_cluster',\n",
       " 'chill its endemic',\n",
       " 'lagi can open airport to public',\n",
       " 'direction not clear meh live_with covid like flu open business still can go on close business down so how lol either_way also suffering',\n",
       " 'so we ain_t going back phase_2 ha ? because 80 of the population is fully_vaccinated ?',\n",
       " \"as i've already said shut_down the whole task_force open_up everything get all things going ease all those_foolish restrictions move_on with life as its already an_endemic no_choice learn to accept it move_on\",\n",
       " 'there are too many unlinked_cases please pay more attention on this pattern do people still use_tracetogether token or app ? or is it about time they should exchange for new battery but they never exchange ? your data should tell you about this',\n",
       " 'look_at this',\n",
       " \"day by day's increase\",\n",
       " 'there will reach a day that there would be sudden_outburst of infected cases there is a new_strain that the vaccine has no effect on',\n",
       " 'so gov is giving up ? where is the task_force ?',\n",
       " 'can we just go a small cb better to control ?',\n",
       " 'everyday increasing so_sad',\n",
       " \"omg why's not coming down yet ? and getting bad again !_! !\",\n",
       " 'ktv cases also not so_much',\n",
       " 'everyday increasing',\n",
       " 'i received_two call by a guy who spoke mandarin',\n",
       " 'i received a call by a guy speaking mandarin claiming he s from moh and asking_me pack up for quarantine immediately but when i asked_him fo speak in english he hung_up i figured it was a scam_call but i tried_calling moh_hotline to verify but moh never answer call or return calls one leh it_s been weeks the guy never called back moh also never call back guess all is well ?',\n",
       " '1800_333 9999 is a high call_volume every time i call this number an_automated voice would say we are currently experiencing_high call_volume and we seek your_patience',\n",
       " 'i did have some call recently saying that they are from moh but looking_at the incoming phone_number is not from the authority is private number starting with plus_65 plus_plus plus_plus plus_plus plus_plus then straight_away i block and delete away',\n",
       " 'they called me i replied this is singapore channel_8 what news you have ? and he lol',\n",
       " 'why then moh stated for the booster vaccine doctor will call the person how then !',\n",
       " \"received_call from plus 6585684026 ask to press 3 and a chinese guy answer he still can tell_me what was the instruction_given i said you_guys called i don't even know what is this for i ask are you fake moh and he hang_up\",\n",
       " 'from the stats we can see a significant_difference between those_who are fully_vaccinated and those_who are unvaccinated there are just 417 cases from unvaccinated group but 11 serious and 5 icu there are 1669 fully_vaccinated cases but 12 serious and 0 icu since icu cases are extremely_serious close to death we can see that vaccination cuts_down icu cases significantly its also cuts_down serious cases since only 12 out of 1669 needs_oxygen of_course vaccination is not everything its not_foolproof we all should also exercise social_responsibility and it goes beyond washing_hands 1m_apart do we really need gov to go_back to phase_2 or even cb to reduce numbers ? ? how_about we go_out a little less often ? makan at restaurant less often go_out less often if we have any_symptoms we ought to seek_medical care and not roam_around or go to work risking everyone we all can change things a little ourselves a little goes a long way and it_takes collective_effort from everyone to battle this_pandemic',\n",
       " 'vaccinations flat lining need to boost these rates',\n",
       " \"what's the point of focusing so_much effort collating_these data pls focus effort on containing virus if vaccine can works as_well as other vaccine to curb speed of spread then gd to report\",\n",
       " 'seem_like the number between vaccinated and unvaccinated of very_ill above_60 is very close 12 10 so vaccination does it really help the older_folks ? ?',\n",
       " 'as at 2sep 12 vax 11 unvax 4 partially_vax need_oxygen supply so vax useful ? ? ? and also consecutive 3days from 31 2sep more vax that unvax need_oxygen supply',\n",
       " \"if the government open_up sinovac there's be 90_plus plus\",\n",
       " 'what is moh scientific reasons for stopping temperature_screening ? the private_sectors already invested the money for all the equipments can we have the experts who made the decision share_publicly their reasons for such regression in preventive_measures ?',\n",
       " 'last time before dec_2020 prophylaxis and treatment we have here still work very well in some of other_countries now with low infection_rates and hospitalisation',\n",
       " \"today's_number of people completed_full vaccination regiment is less_than yesterday ? how ?\",\n",
       " 'these info are useless figures too small to compare vax and unvax',\n",
       " 'tell grandmother_story then 187 locally_transmitted',\n",
       " 'adult and child not covering_nose what parenting is this ?',\n",
       " 'kindly_check your vaccination reports before sending out there are discrepancies on the vaccination administered_doses on 31_aug and sept 1 total 8 723 215 8 722 819 396 full_regimen 4 328031 4 328 804 773 negative',\n",
       " 'watch for lambda mu and c 1 2 stop countries with the above reported from_entering if things_gets worst no quarantine discount for countries with travel connection_with them',\n",
       " 'can i go to imh to rest ?',\n",
       " 'expecting mu to enter soon',\n",
       " \"and just like the 'bus_drivers' did any 1 realize an interchange like toa_payoh can just 'close down' all buses servicing that route stop ? this is that 'micro lockdown' happening in china looks_like they are 'forced' by circumstances as_well but this is the reality toa_payoh interchange close down how walk ? of_course what do you expect and covid won't just infect 'bus_drivers' don't be so_naive to think only the bus_drivers there are infected there is a bigger shadow out there and anybody can be infected in fact more correctly someone infected the 'bus_drivers' it may just be the 'crowd' around them remember that before delta never_heard of 'bus_drivers' infected at_least not at the interchanges\",\n",
       " 'moh how you get those unlinked numbers ?',\n",
       " 'look_at the trend no of people had done at_least one dose but still requires_oxygen is much more_than the unvaccinated number trend going ip',\n",
       " 'hear kopitiam experts_say serious one is after infected then you recover then behind got show see liao',\n",
       " 'i_think whatever it is we don_t want this blaming games unvax or vax percentages what is important is the effectiveness it_s like a shampoo our hair are falling but still buying it inspite of the side etfects and non effectiveness try to blame the big_pharma !_! ! we are family here and we are one it_s time for them to be liable our wild_guess ? shampoo 3 is coming 2022 shampoo 4 and 5 2023',\n",
       " 'ministry_of health the second_dose of vaccine numbers is wrong how can 1_sept 2rd_dose total_number be less_than 31_aug 2rd_dose number ? vaccine numbers can only go up not go down',\n",
       " 'come on singaporean why you not take your parents uncle aunty to get vaccinated stop being_selfish and look after like they looked_after you',\n",
       " \"why u ppl so free inside here many still_haven't vaccinated yet our job is to encourage_elderly who haven't vaccine\",\n",
       " 'ministry_of health_singapore with over 80_vaccinated now is the time to study the side_effects of covid for vaccinated covid survivors including reinfection rate and the outcome of that coz if you plan for endemic means you already plan for the population to be infected so we have the right to know what to expect',\n",
       " \"27 cases seriously_ill of whom 12 are completely_unvaccinated or_partially vaccinated which_means 15 are fully_vaccinated everyday the number of infected cases who are seriously_ill and fully_vaccinated are higher_than those partially or unvaccinated the spread is faster when more are fully_vaccinated as those infected showed no signs of symptoms or mild_symptoms it's not about the effectiveness of the vaccine but as more are easily infected new_variant may happen_anytime if still no action is taken when disaster happens who is going to take full_responsibility ? also don't_forget about the children and those could not be jabbed their_lives are precious too\",\n",
       " 'cheeky way out of 22 critical 10 fully_vaccinated still critical_ill how_many unvaccinated out of the 12 how_many got 1 jab obviously there is more cases critical_ill for those taken 1 jab and 2 jab than those no jab',\n",
       " '60 of unlinked ? ? ? ?',\n",
       " 'everyday more and more cases anyone is caring those under_12 years_old who are unvaccinated ? they still need go to school everyday',\n",
       " 'maybe some people don_t understand the way a vaccination works cases will still happen you will get covid even if you are vaccinated but the virus will not put you in hospital stop_counting cases it doesn_t mean_anything for the cases to be high in a vaccinated community',\n",
       " 'everyday is a new high r we going to let it snowball ? does endemic mean is ok to get sick quarantined at_home risk spreading the virus to our household_members really not sure what_kind of strategy is this ?',\n",
       " 'there are more_than just delta virus out there consistently_building natural_immunity is still the best approach 1 double_dosing fruits to get more_vit c 2 get_vit d from sunlight 3 put some_turmeric into food often if the smell do not put you off or even make_turmeric drink 4 wear_mask covering_both nose and mouth once step_out of house 5 avoid_crowded places or even group this is new learning since 2020 to unlearn_how not to congregate_too close 6_whilst outside_sanitize hands after_touching any_objects e_g the handle of basket/trolley in supermarket the cover and buttons on atm and etc 7 in case there is any delivery order_online discreetly sanitize the box/package a little 8 acknowledge and embrace this uncomfortable_change during_this teething_duration 9 explore some interests that could be done within in house if possible/applicable e_g gardening having a pet reading inventing new recipe or etc 10 video_calls friends/relatives to find_out how they doing hear out what and how they cope_with lockdown 11 stay_calm and remain_positives stress has the tendency to reduce immunity 12 take warm_shower and get_ample sleeps 13 be_modest always 14 i will not argue_with virus or attempt to prove virus wrong 15 focus_on physical_mental and spiritual well being 16 it doesn_t matter whose_fault it is anymore at_least these steps are something within our control will be_able to pull_through',\n",
       " 'everyone is responsible for their_own health stop_giving excuses there is no lock_down no free money drop from the sky everyone wants to wfh so they can go gym go walk_around in mall get vaccinated take_care of your_own health',\n",
       " \"mtf look this is not like a flu endemic fully_vaccinated are getting_infected they have to suffer repercussions for all you know nos of bus_captains are 300 they have families so they qo family qo with them many bus_captains aren't young_men the more elderly are at risk vax or unvax you can't just act mute blimd and deaf now you owe_us singaporeans an_explanation what are your plans to bring_down the numbers we are not looking_at o case singaporeans are sensible and reasonable what_about our children_below 12 ? in 1 5_mths time 700_plus from germany and 20 plus from brunei are coming to sg you say if they are tested_negative upon_arrival they are free to move_around in the community immediately what if the virus is in the incubation and after a_few days of holidaying they fell_ill and tested_positive ? the mtf what do you intend to do to protect_us ?\",\n",
       " 'ministry_of health_singapore thanks for allowing covid to spread like_wildfire staff are going back to offices human_traffic is encouraged to boost businesses measures at dormitories will be relaxed soon etc what_happens if clusters_form at the workplace may it be at govt/service /building sectors or backend offices lta has already announced that bus_services will have some delays due to the clusters at the interchanges will our btos be further delayed ? will other essential_services be disrupted ? as staff are returning back to their offices are companies ready to risk their departments getting shut_down should a cluster_form ? does the mtf have any_contingency plans when declaring going endemic ? you need the labour_force to boost_your gdp yet you are not taking_care of them how is that going to work when everyone falls_ill ? ? ?',\n",
       " \"even_though i_am vaccinated i don't_want to get_infected with this virus we don't_know the side_effects when we age\",\n",
       " '187 3 184 are vaxed why must tell people 3 are not vaxed ?',\n",
       " 'dissolve the whole task_force get things going leave it to oyk to handle the whole show as this is an_endemic just have to live_with it no_point updating us those numbers',\n",
       " 'it is much less_than the normal 500 expected by experts there is still a_lot of room for development well_done !',\n",
       " \"what is our next acceptable_threshold ? no_limit ? if this is the way we approach endemic then there is no_point showing all these figures it doesn't_matter anymore\",\n",
       " 'why everywhere must scan and not bus and mrt ? if it get_worse then its not safe to travel by buses_mrt or cab as no tracing see now bus_captains all genna how those travel in that bus with positive covid captains ? it will he worse as closed up when you up the bus first thing you see is the bus_captain actually those_who can work from home should work from home as then will be less crowd now i_noticed everywhere is so crowded ! peak_hr worse !',\n",
       " \"no such_thing as unlink only haven't_found the original source very likely it is the mrt or buses nobody_knows nobody so is unlinked\",\n",
       " \"can everyone suggest a solution what u would_like to achieve ? if don't lock_down how ? if u want to lock_down how again ? can't just complain and give no solution\",\n",
       " 'don_t keep_blaming the government everyone of us is responsible for this talk is easy !_!',\n",
       " 'i_wonder what_happens to the rest of the staff if someone in the company is diagnosed do they continue to work in the office ?',\n",
       " 'the fire has not reached their_backyard hence no reaction and mu could be coming_soon',\n",
       " 'segregation of staff resting and dining_areas among tighter_measures at bus_interchanges after covid_19 clusters what !_! !_! !_! you mean our lta and bus operators have_been allowing bus_captains to eat and rest in the same area all this more_than 1 5_years after covid pandemic ? ? ? ? ? can the task_force carry_out and audit to find if there are any other time_bombs ticking out there',\n",
       " 'to date most of the efforts and emphasises are on the willing members e_g more masks sanitisers antigen testing free pcr_testing easier vaccination protocol etc surprised of no significant milestone ? maybe it_s also good to enhance measures on segregation monitoring and compliance ? time to whip the less willing horses ?',\n",
       " \"the question is why stop testing at_12pm ? so it's won't hit_200 ? or hey_guys it's lunch_time let's stop here and continue tmr\",\n",
       " 'wonder_why only have bus case mrt no case no logic any audit on the cases or not',\n",
       " 'something is failing 200 cases a day ! can the task_force reassess the situation ? current rise in cases needs to be tackled before the rush to adopt it as endemic',\n",
       " \"today's_number of people completed_full vaccination_regimen is less_than yesterday ? why ?\",\n",
       " 'the task_force is a total_failure',\n",
       " \"hope moh back to take_temperature now all place no more take_temperature now bus_interchange and shopping_mall after office and factory more case coming don't believe the vaccine can make 100\",\n",
       " '60 of 187 are unlinked ie 112 horrendous_numbers where are the ring_fence ?',\n",
       " 'oh_my gawddddd !_! more and more everyday !_! how ? is there something we can do to reduce the number down and back to norm which is to 0 ? ?',\n",
       " 'most ppl took train than buses to work and travel',\n",
       " 'don_t worry even more that thousands case also no problem some are always complain why never lock_down again ? iszit still wanna_enjoy work from home ?',\n",
       " 'so dangerous even public_transportation should wfh by_default',\n",
       " '184 guaranteed to have zero ongoing concerns then ?',\n",
       " 'so how_many case is vaccinated ?',\n",
       " 'how they get the unlinked figure ?',\n",
       " 'where are the details that you have promised ?',\n",
       " \"it's a norm now everybody please stay_safe\",\n",
       " 'got to live_with it vax or unvax',\n",
       " 'ministry_of health please come out to answer the question',\n",
       " 'doctor and nurse enough to follow up',\n",
       " 'if you_guys is worry just carry oyk photo with you may help better_than vaccines',\n",
       " 'alamak got so longtime can vaccinate y dun',\n",
       " 'slightly_higher than_yesterday',\n",
       " 'please include_sinovac vaccine into covid_19 vaccination_programme so that parents can have children above 3 years_old vaccinated',\n",
       " \"ministry_of health_singapore mr_ong ye_kung why is it that our unlinked numbers seem to be rising uncontrollable ? what_happened to tt_token ? our hospital patient are also rising the past seven_days 2nd week after_easing with dining_out ? i don't feel_comfortable at all with the rate esp when it is only next_week we will start with vaccinated travel_lane ? are we heading for the right_direction here ?\",\n",
       " 'no problem at all',\n",
       " 'unvaccinated_uv fully_vaccinated fv_comparing data on 30_august with 1_sept based_on the last_14 days from moh data 1 the percentages across all age_groups show the unvaccinated infections_decreasing while the fully_vaccinated infection increasing 2 the percentage_of fv infected on 1_sept is creeping_closer to the percentage_of the 2_doses completed as of 1_sept except for those aged_12 to 18 but then there were only 20 cases too small to begin_with age_12 18_86 2_doses completed_30 august_37 0_uv 47_0 fv_1 sept_30 0_uv 60 0_fv age 19_39 86_2 doses_completed 30_august 10 9_uv 77_8 fv_1 sept_9 0_uv 81_0 fv_age 40_60 90 2_doses completed_30 august_9 1 uv_81 4_fv 1_sept 8 0_uv 83_7 fv_age 61_70 90 2_doses completed_30 august_10 0_uv 85_0 fv_1 sept_9 6_uv 86_9 fv_age 70_plus 83 2_doses completed_30 august 19 3_uv 70 1 fv_1 sept_14 3_uv 77_4 fv',\n",
       " 'so_many unlinked for so_many days yet no new_clusters where_did they go to ? maybe need to create a cluster called unlinked or x file',\n",
       " 'it is 187 plus 4 known imports 191 those that do not serve_quarantine as they were so_called vaccinated from_overseas take_care',\n",
       " 'how_long will it take for vaccinated person infected with covid19 virus base_on variants to recover ?',\n",
       " 'no lockdown please our economy and business wont survive',\n",
       " 'more deaths coming numbers are rising but govt wilfully wants to open_borders',\n",
       " \"don't_worry guys covid is under_control\",\n",
       " 'when lock_down ? ? 4 digit then lockdown ?',\n",
       " 'fully_vaccinated tested_positive stated_that it is not like common_flu',\n",
       " 'do all_kinds of stupid test at work place fet once a week etc whats the point ? infection still on the rise',\n",
       " 'stupid_decisions failed governments',\n",
       " 'next_year onward moh might begin to announce how_many people not infected by the virus daily',\n",
       " 'children_under 12 not vaccinated children must do hbl_adults must wfh etc look_like this generation has no_intention to solve this virus issue and they going to pass this problem to next_generation to solve it',\n",
       " 'tanrottenapple_savesingapore why no vaccination for unvaccinated ? take usa_france and japan population as a example ! almost 50/50 ! a_huge fraction_of them are very technical people ! sop standard operation procedures anything failed sop ! even insurance_companies are reluctant to take it unless special measures by the mandatory ! same to the people they will not take it either ! what explained ! 1 covid vacc from research manufacturing and distribution for vaccination does_not passed any sop as regarded still experimental ! 2 vaccines ip was filed in 2015/2016 while the pandemic outbreaks started on 2019 ! very weird ! go check it yourself ! to all mandatory don_t let your_selfishness and greed to take your peoples down and ever ! are you good or evil ? stay_tune for the world to prove it ! my truly_beliefs the people are the owner of the government not the government own the people ! yes ! i_believed until u experience before !_gifted mission ! not for money not for_fame not for greed ! just for_completing the task in life ! cheers',\n",
       " \"up up up nobody_cares anymore let's be_prepared to be infected probably long_term health effects or even death if you are unlucky you your friends relative loved_ones even children and babies\",\n",
       " 'they keep reporting that the dying ones are the unvaccinated but never indicate why they are not vaccinated if most of them are not qualified for vaccination what does it mean ? we are now culling the weaks ? !',\n",
       " \"there's_nothing u can do about it\",\n",
       " '113_unlinked cases likely more clusters to come',\n",
       " 'tighter_measures for bus_interchanges what_about mrt ? hope mrt will look_into implementing tighter_measures too and not wait_till clusters_form then spring into action',\n",
       " 'lol good la hope goes_up to 500_per day and then test for 1_month see what_happened wanna see what the reply from those_who keep say icu severe cases more_important la herd_immunity la',\n",
       " 'on 23_august 336 in hospitals on 1_sept 499 best to avoid the most_likely source of infections',\n",
       " 'of the 187 cases why are you purposely highlighting the 3 cases that are unvaccinated or_partially vaccinated ?',\n",
       " '113_unlinked cases wondering_if 1 unlinked case transmitted to 2 ppl 103 x 2 206',\n",
       " \"we know what the vaccine does but we also know what vaccine don't do vaccine does_not stop the spread and does_not stop the virus from mutating today's_news mentioned that mu_variant has arrived taiwan soon when mu variants or other worse variants take over delta all your vaccines are useless we need to learn_from the origin of the virus china they always target for zero virus they probably know more we should not try to live_with the virus\",\n",
       " 'we are getting into endemic_mode live_with the virus just like common_flu',\n",
       " \"it's getting more and more everyday !_! ! why !_! !\",\n",
       " 'what_about the children_below 12 ? if this climbing continues all the kids to be infected is just the matter of time ! pls do_something !',\n",
       " \"those_who are scared they lose_their 'rice bowl' will turn up for work sick infect the whole office and maybe even leave a_trail of 'destruction' along the way mrt dining etc rather_than get mc be quarantined employers may fire employees indiscriminately just cos they are quarantined it does_not even matter if they are not infected the govt needs to make laws to protect the quarantined from indiscriminate firing just cos of being_quarantined those_who are quarantined needs protection by the law and a social safety_net to ensure that their affairs and basic_needs will be cared_for if they are unfortunately quarantined mmtf failed with the quarantine operations there has_been so_many complaints this needs to be high_calibre so that those affected knows that they'd be care for and everyone_knows what to do if unfortunately_affected\",\n",
       " 'u sure a not unvaccinated ? ? must be all are vaccinated kana want',\n",
       " 'wooow not bad keep it up !_!',\n",
       " 'pray is only our weapon',\n",
       " 'for the last 30_days the local cases everyday goes_up something_wrong',\n",
       " 'post vaccine infections less_likely to lead to long covid_19 study long covid_sufferers should be tried on first generation antihistamines a positive response to antihistamines especially_those that make one drowsy would_suggest a certain_degree of mast cell activation treatment_options are available join our group www_facebook com/groups/mcas sg to get help longcovid singaporecovid19 mastcellactivationsyndrome mastcellactivationdisorder mastcelldisease mcas longhaulcovid',\n",
       " 'so the graph spike up a_lot this is ok our dear million_dollar ministers ? ? its_ok for more cases more death as u moving to endemic ? like seriously !',\n",
       " 'we must all thank the mmtf',\n",
       " \"the bottom_line is as_long as the cases do not burden the health_care system as_long as the authorities have done their part in vaccinating the population the economy shall open_up the rest is individual's fate\",\n",
       " 'the actual_fact really nobody really cares many have this wont be so unlucky mentality look ard u will see it many think after taking the vaccine they are immune',\n",
       " 'country which 75_population has vaccinated the covid_19 vaccine shall allow to join bubble international_travel membership those_who qualified as vaccinated travelers shall allow to travel the united_nation shall not forever stop the international_travelers for travelling the world country that do not has proper medical_facilities also shall not join the bubble traveling too',\n",
       " '187 new community_cases out of which 113 are unlinked this is great fantastic time for celebration eh',\n",
       " 'shawn_ang more more and more',\n",
       " 'i can smell another lockdown',\n",
       " 'everyone should be aware hopefully not for long this covid_19 insha_allah',\n",
       " 'everyday going up up up !_!',\n",
       " 'number of people requires_oxygen going up and the percentage_of unvaccinated is less and less should not the vaccinated people start to worry ?',\n",
       " 'tomorrow 200 leow !_!',\n",
       " 'please look_at the report on the household transmission report from moh there are 63 cases of household transmission on 1st_sept 21 try to reduce the frequency of dining in the restaurant crowded with ppl',\n",
       " 'calm_down living with the virus means around 200 new cases daily but less_than 10 people in_icu you will get used to it soon all of us will be infected sooner_or later just like we all had flu before',\n",
       " \"living with covid does_not equate being clueless about who got_infected from where i e unlinked_cases those_who are vaxxed but have underlying_health conditions should not be considered for home recovery while infected moh's pilot_project currently undergoing trials while we understand that cases might shoot thru the roof with easing of restrictions we do not expect it means letting the virus go wild afterall scientists_worldwide still know little about long covid symptoms beyond mtf pls show us you have better plans in reopening our_borders\",\n",
       " 'with the opening of borders and so_many unlinked_cases what if there is new mutation in the community and this vaccine is not effective on the new_variant and causes more deaths won_t the cases going to explode and no way to turn back ?',\n",
       " '66_67 in_icu or need_oxygen support were vaccinated ?',\n",
       " 'new_normal when ?',\n",
       " 'will government plan to have phrase_2 ha again ?',\n",
       " \"maybe we shouldn't have vaccinated at all to reach_80 situation worst_than before before mar without vaccination sin was doing so well when restrictions were more relaxed then until the imports cases are so high then it exploded\",\n",
       " 'hope that none is in critical or even losing_their lives',\n",
       " 'well when they said to accept more infections more death when singapore opened the economy many echoed that they wanted to go on holidays wanted borders to open and said they are okay to live_with the virus since 80_vaccinated and the direction to open to the world and keep it open this is to be expected all these were written in the sand if one looked properly i do not agree on the policy but many others do when we had similar numbers in fact lesser we had circuit_breaker we had heightened_measures now because of vaccination we are saying these infected numbers are fine more people infected less people working less tourist_coming less productivity more cost of disruptions more cost of testing more cost to replace the infected person whatever you gained in opening_up you lose in the cost of handling covid',\n",
       " \"more n more cases if the govt not going to put a stop by opening office ppl bck to work mrt n buses flooded_with ppl everywhere that s how the virus spread doesn't_mean u fully_vaccinated u won't get the virus what_about children_below 12 they are more on the high_risk coz they are not vaccinated at all\",\n",
       " 'so_many unlink',\n",
       " \"don't give comments lol give also useless let_us encourage one another who ever haven't vaccinated please go for vaccination\",\n",
       " 'unlinked misstries',\n",
       " 'reaching 500 soon vacs are failing to prevent the spread of the delta_variant get_ready for mu next a new fresh record of 100 over unlinked !',\n",
       " 'who are not who is',\n",
       " 'there are so_many breakthrough for the vaccinated group what precautions to be taken next ? reduce the numbers of diners ? from 5 to 2 ? i still see restaurants have tables set_up less_than 1_meter apart !_! ! i_m vaccinated but choose not to dine_in not that i_hadn t dine_in restaurants in my life !',\n",
       " \"if you are sincere in showing data to prove a point show the actual_numbers and not a taogay chart which can be interpreted_as higher lower or the same and clearly indicate when vaccination started so that we won't waste_time looking_at irrelevant_numbers\",\n",
       " \"dear_moh and respected_minister mr_ong why not bring hpb's recommendations like quarter quarter half meal plates its some of its exercise plans mandatory to enter the endemic sir to me there is enough_evidence that to keep the immune healthy fresh_fruits and the raw edible greens are one of the best choices and prevent disease there is a need to create dietary research_groups in communities and compare the results in my case i_am a diabetic with hba1c 10 8 which i brought down to 7 1 in three_months without_any drugs just by_undergoing diet and specific exercises training i_feel much_stronger than on being on the drugs am completing 3 years soon without visiting any gp for any reason if it goes on for next_few years like this i_feel it should be a real_evidence to form a group of peoples with diabetes who would_like to trust the fruits and vegetables intake under supervised guidence of medical_experts but the main_issue is it goes against medical_science of drugs intervention it would be offensive but i hope if it improves health why not we look_into this direction\",\n",
       " 'hi_ministry of health_singapore minister_ong ye_kung a suggestion that there is a breakdown in age_groups beyond the above or below_60 for cases that have developed myocarditis and_pericarditis after vaccination folks that are older could have higher instances of heart issues as their body_weakens with age ie 45 and above thus the picture might not be accurate the daily data as we are heading_towards endemic should also_include the cases of re infection of those that are fully_vaccinated and the recovery period of these cases this will assure_us that the vaccine is indeed working and covid is now a common_ailment like the flu',\n",
       " \"i'm not sure about your_eyes but mine sees that strokes generally remained below_200 before may_2020 and above_200 after may2020\",\n",
       " 'i hope that the ministry are aware of the new_mu variant and apprise to the public their view/strategy in preventing or managing this new_variant which is resistant to current vaccine hope the ministry is transparent and plan_ahead before things go south especially since we are commencing travelling with germany thanks',\n",
       " 'we are facing issues with certis and there is no_reply on the devices',\n",
       " 'how does this graph look_like for those below 18 ?',\n",
       " 'are we allowed to dine_in for 24_hours if we take this test ?',\n",
       " 'james costello',\n",
       " 'dear_moh pls do_something for the covid_19 hotline_18003339999 i called the whole week regarding the vaccine enquirer but whenever i called there s always no one_responded are you_guys all taking leave or on holiday ? pls do_something',\n",
       " \"hv you and your_children's itself go for the jab ong_yk ? ?\",\n",
       " 'study_shows covid survivors were 35 percent more likely than other patients to have long_term kidney_damage or declines in kidney function even people with less_severe initial infections could be vulnerable',\n",
       " 'based_on the gragh of 60_years above is normal for those infected due to poor health nothing is unusual as compare to other_countries statistic n scientific_evidence just simply get formation fr moh vaccine is still experimental stage and unknown for long_term effects',\n",
       " 'may we know the numbers per age_group for the below monthly 1000 ? we see about 1_000 strokes and heart_attacks every_month handled_by our public hospitals and as we vaccinate in large_numbers coincidental_strokes and heart_attacks after vaccination will_occur said moh published by today published aug 08 2021 updated aug 10 2021 title death of 64_year old_woman after taking covid_19 vaccine due to hypertensive heart_disease coronary artery disease moh by navene elangovan',\n",
       " \"don't tried other things slapping oneself as all of u throw data that lifespan is 80 and above thus keep on increasing retirement_age but which company ready to employ ? ? ? ? what pay and what job_scope ? ? ? work life_balance ? ? ? ? just control the import of variants and make_sure all your new imports adhere to the laws and orders of this country freedom is somewhere_else and not in singapore especially_during this_pandemic which killed ong_ye kung\",\n",
       " 'dear_ministry of health_singapore are we aware of the upcoming installments of variants up until_2023 ? or is this pic a falsehood ?',\n",
       " 'how_many no jab still_alive after jab die',\n",
       " \"there's_no need to explain and more explanation will only stir more nonsense and we are doing fine and just move_on there's_no looking back just forward or die cheers\",\n",
       " 'but for stroke above_60 ?',\n",
       " 'the younger_generation only started taking their jabs from mid_may till_now oyk chart only show data till_june verdict akang_datang i read that us_cdc reported huge jump of myocarditis among the younger people compared to older_folks as of 18_august',\n",
       " 'be vaccinated stay_healthy stay_safe',\n",
       " 'i have tried to look up our flu numbers for past years where do i find those figures ? it would be great if a graph can be done up showing flu numbers for the past years thanks in_advance',\n",
       " 'first of all side_effects may not show up till later secondly better meds and health_care management should have meant a decline in cases but instead a steady rate can indicate that the vac has propped up the numbers to make up for the decline we need to see more tests and truth to come out not stats that can mask and used to cover_up the truth',\n",
       " 'everyday i read this report and everyday the same comments are made from the same group of people to be clear vaccination does_not mean you cannot get covid_19 it only means you won_t get severely_sick you will still need to practice_social distancing mask up and take the usual_precautions after getting vaccinated again vaccination does_not mean you will not contract_covid 19 and you can throw_caution to the wind people are looking_at this report and saying that vaccinated are getting_infected but it is keeping the rest of the 4 6m safe',\n",
       " 'can the moh confidently advise that the vaccine is effective ? ? because proportionatly are there less seriously_ill cases now in_icu or requiring_oxygen compared to last_year before there was a vaccine available ? ?',\n",
       " \"please_provide all vaccination for the seniors to be done at their_homes don't let_them travel out their_homes for their vaccines during_this current_situation thanks\",\n",
       " 'totally discriminatory that i hv to pay to take the art to visit my_father in hospital each time just bcos i_m unvax furthermore the test is out of the hospital premises ! wake_up moh ! what gracious society are we talking_about ? returning trays ? ?',\n",
       " 'what percentage_of the daily infected citizens have_been fully_vaccinated and what percentage are in_icu or need_ventilators ? why is there no breakdown of this provided_by moh ? over a hundred cases everyday plus moh saying over 80 are vaccinated so what s the breakdown of the infected ?',\n",
       " 'i_am more concerned of the unlinked_cases climbing_up the ladder which put me worry of our_loved ones below_12 years_old whom cannot yet to receive_any vaccine and protect them self !',\n",
       " \"how are you so sure those older person with sickness and vaccinated won't_die\",\n",
       " 'down slow slow up fast fast',\n",
       " 'i wanted sinopharm yet i cannot get the booking tell_me about getting vaccinated as i have allergies so_much for getting people vaccinated',\n",
       " 'so say i self tested i get a positive then i decide to still go to work because my mc left 1 day only it can happen right ?',\n",
       " 'rate of vaccination increases but so is the number of infected cases what do u think the citizens are more concerned of ?',\n",
       " 'out of control already accept it period',\n",
       " '83 vaccinated by forcing the people to vaccinate are the government supposed to threatens citizens by saying if not vaccinated they will change the citizens fees for test one kind_of a inhuman government',\n",
       " 'please help sir i get_ready vaccination but i lost ready vaccination_certificate how to get new vaccination paper',\n",
       " 'please adjust the frequency of dining in take a glance on this report figure 1 3 the number of household transmission for the month of aug_21',\n",
       " 'respectfully this is a better_format of updates thank_you',\n",
       " 'was_wondering if i had anxiety issues and i go get a vaccination will i need breathing tubes also can ward me for 14_days close_monitoring ?',\n",
       " 'our blood_bank have enough stocks for how_long ?',\n",
       " \"as far as i know ppl vaccinated person are more likely to transmit virus to others cos they have virus in the body that's_y we had side_effects for some people seriously how far is this true\",\n",
       " 'where is the update for 1st_sept last_night ? ? ?',\n",
       " \"xu wen kai some older_ones vaccinated and died they don't announced they only announced those that was not vaccinated singapore is a untrustworthy country there are many programs on_tv like talking point only half_truth these people who took part in such programs are always careful not to say something that may offend the government i_quote one recent example return_tray it was_reported and shown on_tv that many patrons are happy to return_tray do you think that is true ? honestly speaking should a patrons said they are not happy it will be sensored for sure what nea should do is announced or declared they are not collecting_cleaners fees than it is logical to tell patrons to return_tray correct_me if i_am wrong ! if nea is collecting_cleaners fees from hawkers then is only right that nea should do the collecting and clearing of tables nea will not declare ! if nea declare the hawkers can don't pay nea the cleaner fees singapore is a dishonest country recent_reports in europe one of the news presenter died two_weeks after vaccinated suffered blood_clots she's only_36 years_old and mother of one child europe are transparent and always dare tell the truth that said telling the truth may saves_life singapore is always not transparent of the truth people want to tell the truth but are afraid of being sued if they make such reports\",\n",
       " 'of those_who have_fallen very_ill 18 are above_60 years_old of whom_9 are unvaccinated or_partially vaccinated does this mean the other 9 are fully_vaccinated yet still very_ill ? ? ?',\n",
       " 'looking for 1000 people to work from home daily_payments earn 3 500 to 5 500_click on the link_below to join the platform on_telegram or contact the manager_via join this legitimate_company to work from home',\n",
       " 'ho_ching let_us face the fact_that there are spread both through the air and surface this virus live for a long_time on surface i have tried to get to moh and hoping temasek could assist to look_into deploying g3tech surface protector coating but unfortunately without success g3tech antiviral coating is integrated_into any pu or hardened gel coating not the traditional toxic chemical that fake protection by leached poisoning the science of enabling a surface coat to generate mono compressed oxygen is the only way to keep the surface protected from virus_deposits and stopping it from spreading the science of photocatalysts is known from the mainstream medical pdt treatment now that we have_been integrated_into chinese antomotive and public_buses hopefully someone will seriously_look into us to stop the virus from continuing spreading in public_transport',\n",
       " 'its totally unacceptable please work for the people today 191 new covid cases in singapore including 113_unlinked',\n",
       " \"if we are moving_towards a resilient state then reporting the daily numbers doesn't_make senses anymore if the vaccine does make covit into a normal_flu kind_of condition then reporting the numbers is like reporting the number of people getting flu everyday reading reports like this just cause us to be very_depressed\",\n",
       " 'best is to semi_lock n seperate start to check by deploying all enforcement_officers and security_officers to assist',\n",
       " 'hopefully more people get full_vaccination before the mu and c12 variants_arrive',\n",
       " 'countries need to focus_on covid_19 and vaccines',\n",
       " 'link h t',\n",
       " 'can c that there is a_lot of covid expert here lots_of explanation n theory good_job',\n",
       " 'herd_immunity like what they are suggesting ?',\n",
       " 'many people are still waiting to be jabbed by sinovac and some may have died waiting_for them',\n",
       " 'i_think the rising unlinked_cases is due to our being lulled into a false_sense of security by the 80 vaccination_target wishful thinking and resulting complacency ! the best anti covid drug is still mask_wearing social_distancing active checks !_! !',\n",
       " 'who_cares about your v rate ? stop abandoning those babies and children babies can t be vaccinated or mask up',\n",
       " 'how_many already died/ going to die due to vaccine but not linked as claimed_by moh ? ? ? only vaccines taken in sg not much death /limited serious_side effects ? ? ? ? why so_many vaccinated now in hospital needing_oxygen and in_icu ? ? ? vaccinated now the new super_spreaders without_showing symptoms everywhere ? ? ? wake_up sg !_! !',\n",
       " 'so how_long more to herd_immunity and off masks ?',\n",
       " \"please include_sinovac vaccine for children in singapore's vaccination_programme asap\",\n",
       " \"well i'm noticing that the countries with high vax percentage also have high cases of infection looks_like singapore is following the same trend secondly data it's all about the interpretation and framing for the 18 cases if i frame it the other way as in out of 18 cases above_60 years_old who have_fallen very_ill 9 are fully_vaccinated and the other half some are partially_vaccinated then it does paint_a very different_picture after all\",\n",
       " 'time to ease up and open more',\n",
       " \"it is interesting that you put your statement this way of those_who have_fallen very_ill 18 are above_60 years_old of whom_9 are unvaccinated or_partially vaccinated why don't you write it of those_who have_fallen very_ill 18 are above_60 years_old of whom_9 are fully_vaccinated or_partially vaccinated why ?\",\n",
       " \"moh person in_charge and tf hibernating or deep meditation in the cave on wat tf should do high rise in nos but they can't be_bothered tat ong say no expect to go up fatalities too they want to show people endemic la no_worries if you are infected or no of unlink_cases keep_rising rely_on them we will die_faster\",\n",
       " 'everyday i read so_many unlinked_cases are the most worrisome now we have vaccines and yet still so_many unlinked_cases ? why ? i_am getting puzzled day by day why so_many cases within these two_months ? ?',\n",
       " 'don_t lockdown please full vaccinated people become ill only 1 1 let_us live',\n",
       " '80_vaccinated how come still got clusters at bus_interchanges n other places ? ? ? even fully_vaccinated people still got it just look_at those sbs_bus drivers',\n",
       " 'join me and get your financial gift and testify',\n",
       " 'we are lucky stayed in spore',\n",
       " 'even if 100 have_been vaccinated the infection_rate is still set to rise',\n",
       " 'ladies please read !',\n",
       " 'unlinked to the moon',\n",
       " 'achieved 80pct fully vaccination_target yet almost same fig among the covid_sufferers what went_wrong ? earlier batch of vaxxed became unvax ? and need to stay_home till 3rd_shot ?',\n",
       " \"i'll be laughing when govt announces that people will lose_their fully_vaxxed status if they don't take booster_shots lmao\",\n",
       " \"at first indonesia then malaysia_thailand vietnam now philipines covid is really horror u don't stop it it'd 'finish' u\",\n",
       " 'only green_line is trending up and strongly',\n",
       " \"i_think it's time to look for treatment /cure to stop/curb the transmission many countries are exploring the use of ivermectin as the covid cure and it shows great results on most patients in stopping replication of the virus who also mentioned it can be used within clinical_trials too nasal spray for covid_19 is also under_clinical trials in many countries too look_forward to hearing new solutions to this issue soon thank_you for doing your best\",\n",
       " 'and also 177 cases today !_! what are you waiting_for ? remember this children are at risk coz they not suitable_for vaccines !_!',\n",
       " \"don't_worry only 1 will get severely_ill the proportion_of patients developing_serious illness was also lower in the partially_vaccinated group with 7 3 per_cent of patients who had received one dose of the vaccine requiring supplemental_oxygen or admission into icu as for those_who were_fully vaccinated only 1 per_cent needed supplemental_oxygen oh what's the vaccinated that required_oxygen now\",\n",
       " 'when would moh or ncid seriously_look at cost_effective treatments besides harping_on vaccinations early asap treatment can save_lives n avoid complications it is the delay of these so renowned medical_experts to find treatments to cure that they take easiest_way out for themselves keep_pushing vaccinations without getting the cures thus they are responsible in event of opening_up as even the vaccinated still can get_infected and already reach_80 vaccinated so time change focus to treatments',\n",
       " '90 first_dose coming_soon',\n",
       " \"we are actually at the 'vaccine effectiveness' stage as 80 of population are jab means the results are more apparent now we know that this vaccine does_not protect you as you will get_infected even if u have yr 2_doses as for preventing of fallen severely_ill it may not be also it could be your_own immunity strong_enough to fight_against the virus those with_underlying health_issues especially elderly definitely have lower immunity that's_why always succumbed to the virus the children_under 12 are not vaccinated but their recovery seems the best than those vaccinated this is entirely my theory' and i may be wrong\",\n",
       " 'as a parent with kids who are too young to vaccinate these numbers are worrying as we have yet to understand the long_term effects covid_19 will have on their health yes they may seem asymptotic but can you be sure whether their lungs are not affected ? the numbers are going up every_day this is not herd_immunity where the vaccinated population are meant to shield the unvaccinated and see numbers reducing',\n",
       " \"number doesn't_matter only icu and severe_conditions all still at the lowest\",\n",
       " 'looks_like the unlinked_cases are out of control already we have to do_something to rectify the error',\n",
       " 'why are we seeing more and more cases despite_80 of our population is fully_vaccinated ?',\n",
       " 'we should track fatalities icu numbers and number of infected who require_oxygen support these are good indicators of how we are managing',\n",
       " \"i_think it's time to stop declaring numbers and focus_on icu etc\",\n",
       " 'are we moving_towards the right_direction ? why more and more cases the government should really look_into it',\n",
       " 'the eu and us has_moved forward to live_with the virus so it_seems this is the way moving_forward as much as we are concerned with the rising_numbers',\n",
       " 'stay_home if you can and stay_safe',\n",
       " 'please_consider increasing the dine_in limits and lift some sports restrictions moh it_s about time we move_on',\n",
       " 'virus is every where now here at_home and abroad take_care and if infected symptom or no_symptom isolate_yourself tq',\n",
       " 'the new_normal only means abnormal_living whereby we will need to be masked and keep_safe distancing for the rest of our_lives we will not know when the next mall market_hawker centre or school will be closed we will not know_whether the next big_cluster will be at the airport bus_terminal dormitory or shopping_mall we do know that the govt will keep_injecting us with medicine many people including those we know will continue to be infected reinfected hospitalised and die if we do not have the courage to confront the virus bring it down our_lives will never be normal again',\n",
       " 'so what the next_step ? continue let it rise ?',\n",
       " 'since g said open_up spore can we not use mask anymore ? come lah dun be_shy to allow pple not to use mask defeat the purpose of wearing_mask',\n",
       " 'meaning 1 unvaccinated what_about the rest all vaccinated ?',\n",
       " \"moh please tell_us how_many vaxed infected and in_icu and need_oxygen don't everyday say unvaxed_above 70 can or not ?\",\n",
       " 'the increase in the unlinked_cases are worrying',\n",
       " \"today the mall was so crowded i_thought it was a public_holiday left as quickly as_possible after grabbing what i needed couldn't_stand the crowd pandemic ? sure doesn't_seem like it\",\n",
       " 'more cases more business for private doctors this is gov like to see means more_taxes collection to cover their losses',\n",
       " \"hello can your_boss provide more information on transition stage a please ? it's supposed to start in early_september and today is already september 1 so is it on or not ? ?\",\n",
       " 'endemic ? achieved_herd immunity ? dare to truely live life as normal at_least new_normal ?',\n",
       " 'probably the next move by the gov will somewhat_similar to what shanmugam_said no pr data by nationalities as it would create sensitivities so no more on covid infections and cluster information as it will create_panic and anxiety_among citizens no more data means all is well no more worries',\n",
       " 'when the population reach the percentage_of vaccination here we go again way back hide and sick this endemic virus',\n",
       " 'if we truly want to transition to endemic phase then i_think the ministry should stop releasing such daily infection numbers matter of time most of us will get_infected most of us are likely to survive or even get_through without_any symptoms this fixation on daily numbers has got to stop',\n",
       " 'it would be_helpful to know the percentage_of those 177 that are fully_vaccinated partially_vaccinated and unvaccinated we are so focused_on getting a high_percentage of fully_vaccinated as of yesterday 83 fully_vaccinated and yet cases remain high why ? instead_of asking the question why still so_many cases still',\n",
       " 'wow !_! another day hit_record high for locally_transmitted !_! govt able to think of solutions and ways to push it down to 0 ? ?',\n",
       " 'if the cases get out of hand which seems to be the direction it_appears all previous efforts for lockdown and vaccinations may have gone to waste we might as_well settled to live_with the pandemic and treat it as endemic from the beginning',\n",
       " 'horrible ! unlinked plus detected not under_quarantine go up to 120_plus could it be taking busses ? why not ask those unlinked whether they take the infected drivers bus ? if most of them is yes then mass swabbing for those still unaware_they might possibly get_infected that still in community',\n",
       " 'i_am more concerned_about the high vaccine_breakthrough rate not that 1 senior case',\n",
       " \"with the airport open to the public again and increase in alot_of other activities why_cant we dine_in in groups of 6 at_least for fully_vaccinated people that's not asking for much in view of everyting\",\n",
       " 'is 3rd_booster going to be force soon ?',\n",
       " 'but some are not taking any chances',\n",
       " \"the elderly with co_morbidities need 3rd_dose 8_months after their 2nd_dose please facilitate let_them pay if they ask for it it's their_lives their choice !\",\n",
       " 'i_think the mindset to those people who already fully_vaccinated even in other_countries they over_confident to go_out or to go somewhere frequently as they already fully jab but they dont_know you can still catch the virus purpose of vaccine is to minimize your severe_illness if you catch the virus unless you have any health history can lead to severe_illness stay_safe everyone and dont let your_guard down eventhough you are fully_vaccinated',\n",
       " \"must trust g4 they are experts hell_minister will lead us to the end of tunnel when you can see holland don't_worry and relax but be safe\",\n",
       " 'when i can take off_day high and high the case here and sg 4_months i never go off_day never pay me also monday to sunday continue working never give me rest',\n",
       " 'disruptions getting_bigger and bigger around the workplace families schools with each case',\n",
       " 'gosh hope everyone co_operate with moh all uncles and aunties if unnecessary outside stay_home and not grouping chit_chatting and kopi ing every_night like alway anymore hope this way the number will go down',\n",
       " 'so_many so_called unlinked_cases 90 cases yesterday but the spike in cases began after announcement that 50 of workers can return to work place how do workers generally go to work ? trains and busses so_many drivers infected no link / unlinked ?',\n",
       " 'i_believe our gov should have contigency plans in place alternatively additional setup for the sick like stadium or such_venue lets assume the increasing numbers may soon reach our hospital cap i_am not professional in this but better not to sit and wait_till it comes',\n",
       " 'so how_many are vaccinated again ? need to check who exactly is crippling our medical healthcare',\n",
       " 'to solve this problem actually very easy but because it is so easy that s why can t be solved',\n",
       " 'oh no not again cases increasing everyday',\n",
       " 'the way the numbers of infected kept going up doubling_every day we are heading for really big numbers hundreds into thousands if nothing stringent is done',\n",
       " 'even_though vax will still be infected if vaccine is working numbers shd go down not so easily infected go up lei imho',\n",
       " 'y the number increase some people selfish they sick but dont_want to see_doctor until its too_late',\n",
       " 'how do moh get the unlinked numbers ? anyone can tell_me ?',\n",
       " \"government has to make a balance_between safety and economy after so long since_april 2020 already that's the only way moving forwards and towards the endamic\",\n",
       " 'moh next time dun include paragraph 2 don_t sound too nice it_s as if you are cursing the fella',\n",
       " 'yes u are good on the right_track let it flow great',\n",
       " 'wow right on track today again reaching new heights everyday',\n",
       " 'if like that may be coming lock_down again oh_my god',\n",
       " 'keep going up up up before mostly was vaccinated it was only 2_digits but now 3_digits consistent',\n",
       " 'look_at how crowded in mrt recently',\n",
       " 'am worrying for the majority of fully vaxx ones',\n",
       " 'what the f ! every_day the number go up',\n",
       " 'nako lockdown naman to',\n",
       " 'so exciting up and down up and up like bingo !_! !',\n",
       " 'very_worrying inaction and covid is just like a flu are not flattening the curve hdbs near these interchanges are fertile_ground for big spreaders at hdb many share the common_lifts moh needs to issue appropriate advisory before out of control heightened_alert ha next ?',\n",
       " 'new_c12 otw and garmen might say take booster',\n",
       " 'could the rise in covid cases be due to increase number of people vaccinate and thus viral_shedding is happening from these people it is very_puzzling indeed',\n",
       " \"the idiot exemplar of an id_expert leong_hoe nam is totally_lost again tell him it's in the canteen whatsapp him at this leong_hoe nam mobile plus_65 8161 7160 help end his_misery and ignorance pathetic\",\n",
       " 'can moh also report other_types of patients who are suffering from other different_types of diseases in_icu or death cases from here we can make_comparisons which types_of deadly death diseases are more in our country looking_forward for your answer thank_you',\n",
       " 'good day everyone',\n",
       " 'hi_moh how can i report my_neighbor who never wear their masks ? seems this neighbor think that entire singapore is there home so no need to wear_masks but it is definitely threatening other ppl s safety and health we have requested them to wear_masks several_times but it never work',\n",
       " 'vaksin is good',\n",
       " \"dear_moh in my_observation covid_19 turning out to be simply business of fear the fear and threat and blackmail through the employers vaccinate or loose your daily_bread and pay for the stupid test_kit whose precision only god_knows but you want us to pay for it to create trauma and consent for vaccination of which too the efficacy only god_knows but the injuries and viruses spread is visible do you think people need to be advised that natural food which need not be cooked is the real vaccine for all kind_of disease and with this training people do not to visit even the gps if you want evidence i_am of them i got training from dr pramod tripathy the founder of freedom from diabetes and dr biswaroop roy chowdhary from_india to reverse diseases which you call underlying_medical condition these two guys have simplified the diet learning from worldwide naturopaths like dr dean ornish dr neil bernard dr t collin campbell dr gabriel cousens and so_many others who are pointing_out our food habit and excessive use of drugs is the root_cause of all the lifestyle_diseases in human do you think they are quacks and idiots can we not visualize singapore can be drugs_free vaccine free and hospital free_society for all_kinds of lifestyle_diseases which in turn contribute in reducing_global warming as_well in the greenery is required in our intestine where all the virus and bacterias of the universe resides and deprived of the nature's food it needs does any other_species than humans needs industrial processed_foods cooked_food drugs and vaccines to survive ? are we not becoming creatures of fools paradise ? ?\",\n",
       " '90 unlinked case',\n",
       " \"discover how you can earn an_extra 2 500 to 10_000 doing a flywheel which let's you start and run an online business on_autopilot ! click_on the link_below to register now ! go to and click_on register now to apply now ! we are excited to have you onboard this amazing journey ! see you there !\",\n",
       " \"numbers are climbing daily as we reach_80 vaccinated rate because the vaccines are losing_its effectiveness after 4 6_months instead_of pushing for booster_jabs we should_focus on accepting that we need to enforce all safe_distancing measures for a long long_time you cannot have us jab every 8_months and risk complications for the rest of our_lives numbers are higher_than pre vaccination days because people are walking_around with a false_sense of security that they are protected the moment the app tells them they are 'safe' the jabs are insurance that you buy for your car it doesn't prevent you from getting into an_accident\",\n",
       " 'delta_plus is no_joke !_! !_!',\n",
       " 'hello my_friend don_t be_deceived by others post there is a legit_place where you can invest_100 and get 2 000 in 12_hours for more information and how to meet the great_trader contact him_mavis btc_trade click and join for more_details about it whatsapp',\n",
       " 'bochap rdy la we like indonesia do_anything also can lah dont care rdy',\n",
       " 'track those in cases ranging_from severity mild to fatal ones how_many serious cases there are everyday and mild cases everyday those that are vaxed competely or partial_ones in the number of cases infected everyday this should gives_us a clearer_picture of the infected numbers everyday in the long_run we will know what to do instead_of these rough figures we still got no head no_tail even_though vaxed liao numbers still rising ? ? ? dormitories again ? the at risk ones are children_under 12 who are not vaxed yet we can figured_out where not to go and what not to do everyday ambiguous leh i_think citizens can figure out themselves how not to add numbers to covid cases daily ? ? ? ? ? ? ? ? ? ? ? ?',\n",
       " 'soon or later will lockdown again',\n",
       " 'kns lucky we dont have china population if not everyday_20k cases do they know why china cases are so low ? maybe their vaccine destroy virus and not change our dna to adapt to the virus which may turn us into carrier of the virus should perform a test whether vaccinated with pfizer or moderna has higher_risk of catching virus and are they a virus_carrier despite not having symptoms likewise test it for sinovac too if sinovac can prevent us from being a carrier of the virus then we should start accepting sinovac find_out how_many of the cases are vaccinated with sinovac pfizrr or moderna if there is little or no sinovac cases does it mean sinovac is more effective ?',\n",
       " 'moe why only mentioned the only 70_year old case ? what_about the rest of hundred over cases ? wtf shameless pap !',\n",
       " \"why they don't just keep the 2 person only and not more_than 2 why like in hurry to reopen then after like this happen already then back to lockdown again vaccine can not protect_us from covid_19 it just only to boost_your immune_system so incase that we get the virus easy become ok but vaccine is not a super hero to protect you because even you are vaccinated you still get the virus so meaning vaccine cannot protect_us we protect our_selves by no more large_gatherings this is not the time to enjoy then later we face the consiqunces\",\n",
       " 'kuya jeffrey tan',\n",
       " 'when lock_down ? ?',\n",
       " 'israel does_not use china_vaccines at all but israel uses only moderna plus_pfizzer vaccines and that is why israel has record number of daily cases now and the number of daily cases in israel is now higher_than before vaccination started and the vast_majority of israel people have already been vaccinated the reason for the failure to stop virus spread in israel and also in singapore is because moderna plus_pfizzer vaccines are not effective_against the delta_variant and the effectiveness will keep_dropping every_month both israel and singapore made the same_mistake of naively and trusting in full the usa fake_news media claim that wildly overstate the effectiveness of vaccines like moderna plus_pfizzer vaccines and the same usa fake_news media falsely claim that china_vaccines are not effective but in the real world china_vaccines turn out to be the most effective especially against the delta_variant click the graph_below and see for yourself the exploding and record number of daily virus cases in israel which_uses the moderna and pfizzer_vaccines at now click the graph_below and see for yourself that daily virus cases in china which_uses only china_vaccines has already_stabilized and life is back to normal since_17 months_ago at now click the graph_below and see for yourself that daily virus cases in bahrain which_uses mainly_china vaccines has already_stabilized and life is back to normal at now click the graph_below and see for yourself that daily virus cases in chile which_uses mainly_china vaccines has already_stabilized and life is back to normal at',\n",
       " 'notice that virus cases are_exploding upwards_very very_quickly plus_dramatically in countries with high vaccination_rate plus_using mainly_western vaccines_eg moderna and pfizzer_click the graphs_below and see for yourself the graphs_showing that virus cases are_exploding upwards_very very_quickly plus_dramatically in countries with high vaccination_rate plus_using mainly_western vaccines_eg moderna and pfizzer_eg in uk_eg in israel',\n",
       " 'notice that virus cases are dropping very very_quickly plus_dramatically in countries with high vaccination_rate plus_using mainly_china vaccines_click the graphs_below and see for yourself the graphs_showing very_rapid dramatic_drop in virus cases in countries with high vaccination_rate plus_using mainly_china vaccines_eg bahrain_eg in chile',\n",
       " 'unfortunately_due to biased plus flawed singapore gov policy which_discriminate against the more effective china_vaccines which was a_huge mistake_98 of all vaccinated people in singapore had no_choice but has to use moderna or pfizzer_vaccines while only 2 of vaccinated people use the china_vaccines because china_vaccines were only made_available in singapore only after 98 of those_who wanted_vaccinations had already been vaccinated using_moderna or pfizzer_vaccines due to people in singapore using_mostly moderna and pfizzer_vaccines due to no_choice at initial_stage covid situation in singapore is likely to stabilize only after another 10_years or more delta virus is only able to be controlled_properly in countries like china plus_bahrain plus_chile who are using_mainly china_vaccines countries like singapore plus uk plus israel who are using western_vaccines like moderna and pfizzer_vaccines will only be_able to return to a stable situation after another 10_years or more notice that virus cases are dropping very very_quickly plus_dramatically in countries with high vaccination_rate plus_using mainly_china vaccines_click the graphs_below and see for yourself the graphs_showing very_rapid dramatic_drop in virus cases in countries with high vaccination_rate plus_using mainly_china vaccines_eg bahrain_eg in chile_notice that virus cases are_exploding upwards_very very_quickly plus_dramatically in countries with high vaccination_rate plus_using mainly_western vaccines_eg moderna and pfizzer_click the graphs_below and see for yourself the graphs_showing that virus cases are_exploding upwards_very very_quickly plus_dramatically in countries with high vaccination_rate plus_using mainly_western vaccines_eg moderna and pfizzer_eg in uk_eg in israel',\n",
       " 'hungary_one of the rare_european countries using china_vaccines has a_dramtic drop in cases of covid_19 virus and has completely got situation under_control as seen at graph at',\n",
       " 'uk which_refuses to use china_vaccines and who already has most of the population vaccinated but which instead_uses western_vaccines eg_moderna and pfizzer has_exploding number of virus cases now as seen at graph at',\n",
       " 'bahrain who uses_mainly china_vaccines has_negligible or very few cases of covid now and has got situation completely_under control_countries that did_not use china_vaccines eg singapore where less_than 2 of population_uses china_vaccines due to china_vaccines being_deliberately blocked from use by singapore gov until most of the people who wanted to have vaccination have already been vaccinated are in trouble now but countries like bahrain that use china_vaccines life is already back to normal see graph for bahrain_below',\n",
       " 'china which_uses only china_vaccines already has covid situation under_control since_17 months_ago has very few cases of covid_19 any government with common_sense would have mainly_used the china_vaccines since every country on earth that has used_mainly china_vaccines and which has vaccinated most of its population has already got life back to normal eg_chile plus_bahrain while every country that mainly_used the western_vaccines eg_moderna and pfizzer and which has vaccinated most of its population eg_israel plus uk has_exploding and increasing_number of virus cases because western_vaccines eg_moderna and pfizzer are not effective_against the delta_variant and their effectiveness_drop with time look_at graph for china and see for yourself that in china life has returned to normal since_17 months_ago at',\n",
       " \"it's really very_bad\",\n",
       " 'the higher the vaccination_rate the higher the cases ? vaccine is not supposed to prevent_infection but shouldn_t this trend raises the questions of whether a vaccine_resistant strain is floating about ? can the so_called experts from various infectious_diseases institutions explain this trend scientifically ? vaccinated people are actually knowingly exposing_themselves to possibly other asymptomatic_carriers who are interacting in the same space as them it can t even be the unvax or_partially vaxed since they are banned from dining in the same space eat out n risk getting_infected ? hmm i dont remember the community_cases being above_50 when vaccination_rates were lower ? is this the so_called herd_immunity we are trying to achieve huh',\n",
       " 'wow is getting_increasingly high sure hit 500 infected on those vaccinated',\n",
       " 'moh u are the worst !_! ! a group of idiots stupidity people handling the covid_19 cases !_!',\n",
       " \"guys we are back to ground_zero it seem that the vaxs and non vaxs are on pars with one another so why made it diffricult for non_vax look_like our vaccines aren't working we should tried others vacci es instead this mrna effectiveness can barely last 4 to 6_mths how_many booster does it take to protect_us wtf if 2 or 3 boosters is required yearly might as_well forget_about it if you don't die of frequent vaccination yoy will dies of the impending side_effects we are thus becoming a nation of drug_addicts very_soon\",\n",
       " 'haters will be haters and keyboard_experts will be keyboard_experts look outside and see who are going to crowded_places who bring their unvaccinated_children out ? who are not_practicing safe_distance haters will always blame the government ! why don_t you blame the government for your birth also ? ?',\n",
       " 'tmr cases will be up up again !_!',\n",
       " 'vacinated or not does_not make any diffrence number is going up day by day',\n",
       " 'moh and mr oyk please put in some measures to control the number of cases please do not let it explode to a stage whereby we have to take another mrna booster_shot 2 is enough please do not gamble with our health no scientists and doctors at this_moment know what s going to be the long_term effect with this vaccine what s going to happen to singapore if few_years down the road the majority of the population facing health problem due to this long_term vaccine effects',\n",
       " 'god_bless us',\n",
       " 'no worry be happy number still very_low',\n",
       " 'my god so_many case !_!',\n",
       " 'open airport some more',\n",
       " 'stop the spread simple do whatever we can',\n",
       " 'how_many of those infected have already been fully_vaccinated ?',\n",
       " 'how come so_many bus_captains kena ? ? ? how is it that dormitory again ? ? ?',\n",
       " 'everyday getting_higher the case',\n",
       " 'every 1 luvs charts right ? the rest is up to yr imagination_no further comment',\n",
       " 'yesterday data shared liao_ar hmmm',\n",
       " 'ppl acting_like no big_deal just cause they got their vaccine just wait_till u see the long_term side_effect of contracting_covid',\n",
       " \"there are 85 000 people in singapore has vaccinated with sinovac_vaccine i'm not sure ? can moh advice till_now for those vaccinated with sinovac is there any being virus attacked again ?\",\n",
       " \"vacinated will still get_infected only not so serious the key_factor of spreading is because of people's stubbornness you will never know the one beside you are infected so be safe !\",\n",
       " 'anything for the economy as ong_ye kung_said we have to expect more deaths',\n",
       " 'ho_sey liaos just look_at the unlinked_cases',\n",
       " 'new_normal no fear',\n",
       " 'looks_like the cases keep_increasing and not under_control like the pap lies',\n",
       " 'good work keep it up nicely done singapore good_job moh seems_like injected people have a_lot more covid case than the 1 case',\n",
       " \"so this growing data is strong evidence that we should go_back to the office 79 unrelated cases ample evidence that we are getting safer the effectiveness of the vaccine has_been amply demonstrated_by cases of infection after vaccination well_done ! every_day there's a new surprise every_day there's a higher number\",\n",
       " \"'' of those_who have_fallen very_ill 15 are seniors_above 60_years of whom 7 are completely vaccinated and some are partially_vaccinated more_than 50 are fully or_partially vaccinated\",\n",
       " \"177 mean 177 don't said more just live_with virus no medicine can kill them but our mouth can kill us\",\n",
       " '177 meh i_think more_than that',\n",
       " 'those_who already taken the vaccine still get_infected worst still not knowing that they are already being infected among the infected are nurses then they bring this with them to hospital to look after sick people sick people immunity very_low get_infected then ? ? ? ? is either they become very sick or put to sleep',\n",
       " \"why the numbers keep_increasing ? simple people are getting_complacent with this herd_immunity in their_minds people tend to relax their guard and allow the virus to have a field day with the mind_set of if i get it it's not going to be serious and i'll live through it maybe the concept is correct get vaccinated and if you get_infected treat it like catching the flu get treatment and recover however we must be very_careful here the virus is mutating and now we have the mu_variant i would_like to suggest to the authorities to start with the booster_shots at_least to the 60 year_old and above the above_opinions are mine_alone and not_intended to cause_any harm_or misunderstanding to anyone or parties_whatsoever\",\n",
       " 'lock_down please',\n",
       " 'under_control anyway but more death were expected ? please ask 4g',\n",
       " 'those_who keep saying icu number and severe cases then need to know if everyday few_hundred warded how ah ? let say the number reach 500_per day 10_days is 5k i give you 50 warded how ah ?',\n",
       " 'as new cases unlinked_cases increase should moh consider circuit_breaker at_least 6_months ? the idea of purposing this circuit_breaker just to make most netizens feel_comfortable and so_called safe feeling however i do suggest government should not provide any hard time fund any more because it will require government withdraw some money from national_reserve fund we all need to bear this responsibility for business lose possible lose job or even some industry will_disappear for ever by the time everyone of us have a very good lesson learn begin to obey social_distancing rule and wear_mask in appropriate way from every_day 100 cases until today we can conclude_that many people think that since they have fully_vaccinated so they would not keep social_distancing or wear_mask in the public area this is how the consequences coming from should moh please arrange officer to investigate the root_cause of many cluster including unlinked_cases whether is due to them did_not follow safety_measurements and wear_mask thank_you',\n",
       " 'ndp no cluster only high unlinked',\n",
       " \"now l see this also xian don't care so_much as_long you're vaccinated open or close still the same as we need to go to work surely will catch the virus just flu it up to your body_immune system to fight the virus so what can we do stay_healthy drink more water and do more exercise\",\n",
       " '80 population vaccinated ? ok',\n",
       " 'national_day is over',\n",
       " 'we have done well !_! gold_standard',\n",
       " 'so high so steep',\n",
       " 'its a matter of time our hospital will be overwhelming by vaxxed infected peoples',\n",
       " \"since u_guys like reporting covid deaths and the unvaxxed why not report vaccine_injuries ? im hearing more vaccine_injuries than covid deaths actually why isn't anyone sharing or reporting this ? u wanna come clean ? now's your chance\",\n",
       " 'remember to carry your tracetogether_tokens sooner moh contact u the sooner u get treatment and stop passing your virus to other people',\n",
       " \"vaccination 1 may help to reduce death_rate 2 minimise the serious_conditions on infected person however based_on the trend sg and elsewhere the vaccine don't think is effective to prevent a person getting_infected or infecting_others think aloud will there be long_term side_effect for both vaccination and non_vaccinated infected person ? we need to pray_hard all go well and everyone will be happy no new_strains that make the vaccine useless and the vaccine in our body becoming useless after 6_months\",\n",
       " 'moh y now more n more',\n",
       " 'haben hit_200 rm for improvement task_force simply awesome',\n",
       " 'the virus are too smart for human to eradicate them everytime a country almost reached_herd immunity a new_variant will appear its reinventing itself to be one step_ahead of human if the original_virus was left_alone maybe it could have by now become like the influenza ?',\n",
       " \"mtf and minister_ong it would be good that you all address the concerns and worries of some citizens on the spike of cases over the last_few days there are still some parents who worry_about their unvaccinated_children vaccinated or unvaccinated elderly with_underlying health_conditions some who simply cannot take the vaccines etc don't just go missing once you have achieved your targeted 80 vaccination goal though population is 80_vaccinated a_lot of measures still must be in place to ensure the whole_country is not 'infected' please let_us have a piece_of mind what is going and not going to be done you cannot just leave the infection going around even_though we are going endemic\",\n",
       " '177 new community_cases out of which 90 are unlinked virus are going up the ladder as we are opening our_borders',\n",
       " 'still increasing',\n",
       " 'moh pls stop_counting normal_flu why need count ? right ? stop_announcing number of cases already',\n",
       " 'figure looks good',\n",
       " 'endemic endemic do not panic we have ong_ye kung and experts',\n",
       " 'sui_la !_! !_! slow and steady !_! !',\n",
       " 'so if this is the plan for the new_normal with hundreds or even thousands of cases every_day amongst the vaccinated then why still keep up with the wayang of social_distancing tt_app vaccine_apartheid for the unvaccinated and mask_wearing ? might as_well open_up all like in the uk right ? our approach is neither here nor there bloody incompetents',\n",
       " '90 unlinked is horrendous',\n",
       " \"going to hit_200 soon let's_hope the government do their part and don't let new_variant m sneaks into the country ! god_bless singapore !\",\n",
       " 'it is bad_news as no of patients going up',\n",
       " 'talking and strolling with mask ? can meh ? moh please confirm so that from now on we can all follow !',\n",
       " 'so how_many cases from ndp so_far ?',\n",
       " 'time to ban vaccinated from dining no dining allowed for vaccineted this has_proven that unvaccinated keep cases lower',\n",
       " 'we are surrendering to the virus n the government is giving up on us ?',\n",
       " \"singapore is not new_zealand don't compare the 2 countries\",\n",
       " 'singaporeans should stop_complaining we have the highest vaccinated population in the world the government locks_down wrong the government opens_up also wrong stop moaning and be happy and thankful we are opening_up and are highly vaccinated',\n",
       " 'arteta out ! conte in !',\n",
       " 'the numbers are nothing as_long no serious icu cases have to accept move_on with our daily lives',\n",
       " '90 unlinked mtf clueless',\n",
       " '90 unlinked_cases ! wowzie !',\n",
       " \"if we continue to allow people who can work from home to work from home there will be a_lot less infection now the company forces us to go_back to work in the office although my work can be done on the computer going to the company does_not bring more benefits to the company i have young_children and it's hard to imagine_how much risk my 2 hour daily_commute puts_them at hope all is well\",\n",
       " 'of those_who have_fallen very_ill 15 are 60_years and older of whom 8 are completely_unvaccinated or_partially vaccinated so the remaining 7 are fully_vaccinated ? take up almost_half vaccination is important but it_seems that purely rely_on vaccination is not enough we need to do more to lower the infection numbers and unlinked_cases to protect the vulnerable_groups',\n",
       " 'so_many vaccinated why so_many infected ? so what the point le',\n",
       " 'in all_fairness i_believe our gov has accomplished the mission possible as for the mission impossible no vaccine for children nothing much could do about it but still it is our onus as a parent to practice basic good hygene whenever returning home before hugging and kissing our children the gov can do so_much but we can do a whole lot more for ourselves and family',\n",
       " 'i hope moh will tabulate the symptoms faced_by covid cases and what is the treatment for them saying vague things like mild_symptoms means_nothing also milder than those_who are unvaccinated is not the same as mild_symptoms as it can still be quite serious giving all relevant information including symptoms time to recover and treatment choices will everyone especially if the country is reducing hospitalizations of positive cases',\n",
       " 'strangely the case incredibly increased after higher population vaccination',\n",
       " 'delta beta_gamma and now c12 on the way more_deadly virus may come there is no end to this covid mutation whatever the public concerns the authorities will only do what they want we can only do our best to protect_ourselves today is buses tmrw can be taxi or mrt regardless always_remember to sanitize your_hands before removing_mask or touching_your face shower and change of clothes once you reach home many ppl forget and the first thing they do is remove the mask before sanitizing their_hands hugging their kids or sit_around at the sofa before changing their clothes thus_bringing the virus to their love_ones take_care stay_safe and may god save_mankind',\n",
       " 'it_s worrying that the numbers are so high these days',\n",
       " 'but our kids are not vaccinated !',\n",
       " 'cases still climbing despite higher vaccination_rate can g answer it ? sure we are doing well on this ?',\n",
       " 'selling plater just like the old days even fully_vaccinated also_kena so 99_9 vaccinated so what ? wanted to be number one',\n",
       " 'hi_moh i_m vaccinated for 19 days already and my vaccination_status still not updated healthhub tracetogether and moh is not answering me via_email or call so what should i do ? ? ? ? ? ? write to mothership ?',\n",
       " 'getting the covid_19 virus is a norm now after more_than 80 get vaccinated',\n",
       " 'residents should know more like before you can open the boundary but let_us decide where we want to go and where not',\n",
       " 'if we take sinopharm from private_hospitals can we claim from moh ?',\n",
       " 'covid_19 and death of covid_19 caused_by blood_clot in veins making it difficult to breathe ? i received a viber message i want to find_out if that is true ?',\n",
       " 'dearest all thank_you so_much for valuable comments and sharing infection is still spreading through the surrounding_areas stay_alert stay_safe and stay well being',\n",
       " \"just lock sg down till next_year why so hard ? people don't go bar_restueans hotel mallwill not die_rite ? so lock sg down and all stay_home and stop all bus_services why so hard to do ?\",\n",
       " 'ridiculous booked my sinopharm_vaccination with clearbridge medical group s medic surgical and laser clinic last_saturday and received reply only today that they ve no more stock',\n",
       " 'o my god going up thinking not take bus how_about mrt also many people',\n",
       " 'bus_interchange staff toilets are covid infection interchanges',\n",
       " \"ok now let's hear from the experts from the peanut_gallery\",\n",
       " 'and yet we recording triple_digits daily ! moh is a_joke keep those boosters coming can t wait',\n",
       " 'part time job in singapore malaysia for men and women between 17 to 55yrs income very attractive whatsapp_plus 6017 876 0875 for more_details',\n",
       " 'should imprison people whom get contacted with covid',\n",
       " 'is it true that singapore is the first country in the world to perform an_autopsy of covid_19 body of people who_died of',\n",
       " \"soon the bus_drivers can take a good break u'd need to walk\",\n",
       " \"why spore allows hong_kong and macau travellers enter to s'pore ?\",\n",
       " 'health ministry data_showed that the rate of serious cases was far higher among unvaccinated israelis aged_60 plus who constituted 134 1 people per_100 000 in serious_condition on_saturday among the vaccinated the figure was 20 and among the partially_vaccinated 35 5',\n",
       " 'singapore could unmask when unvaccinated and open everything expect airport and now vaccination_program 100_plus cases unlinked_cases all up i_think lawrence_wong regret his decision',\n",
       " 'continue talk_about vaccine you can never bring_down cases anymore',\n",
       " 'can i_suggest all can dine_in but put partition like taiwan did ? i_saw at sg many ppl eating at restaurants chatting non_stop and laughing so_loud those infections are fully_vaccinated no_point to ask non_vaccinated can not dine_in taiwan vaccinated rate is so low but infection is low too it is all about measures public_transport disinfection is very_important',\n",
       " 'may be few_months back our death_rate still not so high despite low vaccination_rate now reached_80 but more people died worrying',\n",
       " 'and yet the case numbers are going up day by day moh something must be wrong',\n",
       " 'alternative medicine helps',\n",
       " 'poor_management from start till_now except to brag_about 80 vaccination',\n",
       " 'whatever number on it just i want to win_4d',\n",
       " 'from the time taiwanese come in no need quarantine even their vaccinated rate is low and hk rejects travel_bubble we know a country evaluate the covid risk is by daily case number not by how good vaccination cover the nation same reason eu now put usa to risk to travel though they have free vaccines bus_interchange cluster is after fisherman port never happened two or more large_clusters same_time but numbers never drop very_strange if we want a place get down to virus free like hong_kong or taiwan we need to be more_transparent about infection data and locations not about vaccinated rate sg is not a big country perhaps the prevention to deal_with virus is too_slow',\n",
       " 'still 100 over cases unlinked',\n",
       " 'moh is massaging figures and fake_news',\n",
       " 'so ? ? ? open yet borders you mean ? ? siao_liao lor back to sq_1',\n",
       " \"your summary is confusing and like reading_financial reports from the untrained clerk why don't you tabulate in a simple way to put 2 columns_for vaccinated and unvaccinated ? we can compare the no of critically_ill and health with hospitalisation no and rate to correlate to the population rate of vaccination please do a more professional job but get away_from trying to massage it to fit propaganda\",\n",
       " 'new_c12 otw and garmen say take booster',\n",
       " 'everytime i see posting of people comparing infected patient percentage vs whole_population cheer its a good work done ? what the hell until that 0_001 infected patient is related to you then you will feel the pain',\n",
       " 'attention_needed ministry_of health_singapore please bring in more sinovac for the 100_000 people who have taken sinovac shots in singapore as it has_been proven by the turkish_gov that it is better to stick to the same vaccine instead_of mix and match your_own mix study_shows sinovac offers highest protection overall when taken consecutively please_provide the same vaccine for the third_shot sinovac please read below news report on sinovac study by turkish_gov thank_you for your_attention',\n",
       " 'for our elderly',\n",
       " 'number can be play out',\n",
       " 'i understand that you_guys want to achieve_herd immunity but children_below 16 are not suitable_for the vaccines by not doing a lockdown now despite cases going up everyday sooner_or later many parents will infect their children and children will infect other schoolmates adults that are vaccinated their condition may not be severed if infected what_about the children ? what are you waiting_for ? !',\n",
       " '156_cases so_many liao',\n",
       " 'follow the link_below and start making 50_000 from home to contact managerleon',\n",
       " 'u can see the clue to the thermonuclear exponential curve easiest is to imagine doubling_every week this is speculation but speculation is compared based_on the region south_east asia same infection same virus stop the spread it is safe for every 1',\n",
       " 'great work moh let_s get that number up to 90_plus',\n",
       " 'everything now are new_normal nowadays',\n",
       " 'if covid is spread freely many of those that is infected will suffer from long covid illnesses perhaps time to consider a change of strategy using nobel_prize drug for human version n the drug is inexpensive',\n",
       " \"7 vaccinated sick out of a more_than 4 6_million vaccinated people ! it is 0_0001 of the vaccinated population ! easier to win in 4d_alone then being hospitalized when vaccinated ! great_job ! let's keep jabbing !\",\n",
       " 'can moh verify and confirm if this video is true or fake ? we let her into singapore without quarantine should we be concern ?',\n",
       " 'when will lawrence_wong step_down as minister positions you encourage all singaporean take vaccine now after vaccination with 200_plus cases soon and ran_away ? nice i_wonder how singaporean are not protesting yet',\n",
       " \"just_wondering why the higher_percentage our people are vaccinated the higher the infected cases ? ? prior to more people are vaccinated the cases were not that high what's has_gone wrong and how to overcome_this trend need the experts to advise\",\n",
       " 'well_done ! 79_unlinked cases and no prevention_measures are announced ! we should be seeing 200 cases and more very_soon',\n",
       " \"i don't see why there's a need to emphasise_on the vac and non_vac because end of the day both_groups are still susceptible to the virus ! i dont_know why some think that the vac is a magic potion of some_sort !\",\n",
       " \"garment already mentioned that cases will increase and learn to live_with covid no_choice as we can't always lockdown especially small_country like us will not survive just have to be_careful\",\n",
       " 'as_long as we do our_part to wear_mask and stay_home when sick i_believe we can all overcome it someday we must_learn to live wif it coz its like a marathon for this covid keep on lock_down we are all going to be broke or jobless stay_safe and protect_ourself is the most_important now',\n",
       " \"jiayou moh and the all involved public service officers we know you're working_round the clock and work under tight deadlines i appreciate you_guys a_lot hope the govt will see and appreciate everyone_involved once covid is over and retain these special officers !\",\n",
       " 'pinky already say our c19 cases are stable so just move_on main_concern now are those in_icu but the numbers are pretty small',\n",
       " 'oh i see 2 people are unvaccinated /partial so remaining are fully_vaccinated ? just_curious why it spreads so fast',\n",
       " 'the health_minister has mentioned weeks_ago that 200 above cases a day to be expected once easing starts so here it comes',\n",
       " 'government should only reports how_many people are in hospital due to covid that means something we also get flu if not covid mild_symptoms cases not necessary to report and make people nervous',\n",
       " 'better do_something now rather_than later really out of control and start spreading in schools or childcare s dun_forget this group of ppl who cannot vaccinated always like this 10 drop to 5 dun want to continue to zero diedie want to open then back to 10 again or more again then do again every time has to re start the game from beginning more wasting_time and money',\n",
       " 'quite a bad_shape today upward trends any action from the mtf ? how is those venerable_group ? kids_under 12 ?',\n",
       " 'tomorrow airport t1_t3 still open ?',\n",
       " 'one factor that needs to be taken into_consideration is the icu_bed capacity lockdowns only need to take place when icu_bed capacity reaches x and/or oxygen stock levels reach y',\n",
       " \"it's a very_bad results\",\n",
       " \"it's_becoming too dangerous kindly_announce hbl for all school_kids as many use public_buses to travel don't take risks with young_kids pls\",\n",
       " 'can t wait when we stop_reporting daily cases and are only concerned_about the strain it might provide on our our healtcare system which is perfectly in control at the moment btw that s the final stage of reporting an_endemic time to move_on',\n",
       " \"79 unlink and almost_every bus_terminals are clusters don't touch the handle and surfaces this is how_many the people are infected\",\n",
       " 'will soon go to 500 cases per_day at this unlinked rates ?',\n",
       " \"the figure is nothing surprising due to the higher infectious rate of delta_variant whether one jab or not the infection figure will still climb what's important is that a vaccinated person has lower chance of falling very_ill without mass_vaccinations the figure will be much_higher than now\",\n",
       " 'we need to learn to live_with covid whether we like it or not booster_shots pls',\n",
       " 'how_many were_fully vaccinated ? i_m sure many are curious as_well',\n",
       " 'how are we treating those cases ? are we using the existing medication to treat the symptoms like how_many countries are doing now ?',\n",
       " 'amongst the cases are 2 seniors_above 70_years who are_unvaccinated/ partially_vaccinated and are at risk of serious_illness',\n",
       " 'those_who are classified_as deferred will there a chance to get a subsidised art fee ? imagine having to attend to many official events and have to keep paying these fees until when ?',\n",
       " 'very good we are on target higher everyday everything is within the mtf expectations',\n",
       " 'please allow workers continue wfh being called back to office and i have young_kids at_home still waiting to be fully_vaccinated',\n",
       " 'bus_interchanges and daily adding more cluster and unlinked_cases are going up daily and does_not means its spreading in the community how to break thr chain and any measures are going to do seems all silent',\n",
       " \"even_though we already vacinated we have to take_care off ourself eat good food more_veg fruits drink alot off warm_water daily at_least 8 cups eat more lemon horney dates don't go_out when not necessary put_on double mask hand_wash sinitize every 4_hours\",\n",
       " 'you open_up food_court at_clementi st 14 so_many uncles sitting outside tables unmasked',\n",
       " 'can work from home as_default ? go_back to office to work seeing those interchange queuing all stand so close and nearby',\n",
       " 'daily unlinked_cases are going high it_seems be keep going',\n",
       " 'how now ? so serious and opening_up please put in some measures',\n",
       " 'even with the high numbers we still no lock_down or circuit_breaker',\n",
       " \"moh must look_at why the virus is spreading at bus_interchanges ? sbs staff are the front_liner i'm_sure 100 of them have_been vaccinated now few bus_interchanges become the new_clusters maybe we need a 3rd_jab as maintenance dosage ?\",\n",
       " \"i won't be surprise if we hit_200 in next_few days\",\n",
       " 'the numbers are increasing_each day now ! all thanks to the ktv_cluster initially then later spread to the many food_centres etc now spread further by the poor bus_captains or vice_versa transporting more commuters unknowingly',\n",
       " 'everyday more and more how can sept 1 t1 and t2 open',\n",
       " 'is there any reason_why moh do not want to turn on exposure notification that came with smart_phones ?',\n",
       " 'so_many unlinked_cases pls close lah dont_want the children_below 12 to get_infected',\n",
       " 'after nd rally release the actual_figures le take_care stay_safe everyone !',\n",
       " \"just lock sg down till next_year why so hard ? people don't go bar_restueans hotel will not die_rite ? so lock sg down and all stay_home\",\n",
       " \"when europe country don't_bother the pandemic will never gone virus is money\",\n",
       " '50 workforce going back_office mmm',\n",
       " \"cases will keep_rising but with endemic norm in mind there likely won't be another nationwide lockdown\",\n",
       " 'after effect after recovering is ?',\n",
       " 'lw favourite 3r relax restrict and repeat',\n",
       " 'the bus_interchange staff toilets could be covid hotspots !',\n",
       " \"struggling_with delta and yet there's a c12 in line\",\n",
       " 'we are more_resilient now sound_familiar',\n",
       " 'why everyday become higher cases my good',\n",
       " 'totally i forget_about coronovirus lol !_! !_!',\n",
       " '200_plus cases this few_days happy lockdown',\n",
       " 'we must_learn from new_zealand',\n",
       " 'do u know hospitals run_out of beds',\n",
       " 'wow congratulations mmtf for your competency great_job for the covid spike',\n",
       " 'hsa is still evaluating additional data on sinovac covid_19 any update on the decision ?',\n",
       " 'mtf losing the plot clueless',\n",
       " \"guys you are doing just fine relax i appreciate how serious sg is taking it but also a little_bit to much drama 156_cases is good statistics compared to 5_7million people in germany it's just weird and no one actually_knows how to react best_wishes to all of us stay_strong and safe\",\n",
       " '5th consecutive_day fully_vaccinated infection is higher_than 80 of daily total',\n",
       " \"u all so free giving comments please do your part if u all know anyone of yr family age senior haven't go for vaccination please_advise them go prevention better then infection\",\n",
       " 'hi can ministry put seniors_above 60 priority to sinovac also most stocks are kept for use by moh and for health reasons my_mum still queuing and waiting at private_clinics for new stock to come was_told end of sept and even then she might not get it because of the crowds for sinovac ? ! at_least give advisory to private_clinics to let seniors_above have it first when stock comes ? and she needs to work and without being fully_vaccinated she_felt left out and discriminated at work it is depressing and of_course she feel_unsafe even more so when news keep_emphasising that seniors_above 70 gets serious_side effects if unvaccinated is it a scare without thinking of a solution for them ?',\n",
       " 'faster vaccinate everyone and this problem will be solved asap',\n",
       " 'why are we discrimating people who are no vaccinated ? arent we in a democratic country when people have a choice to decide what is good for themselves ?',\n",
       " 'among all the covid confirmed_cases how_many contracted_covid while in hospital ?',\n",
       " \"let's_move on\",\n",
       " 'the report daily cases makes_me more stress',\n",
       " 'news flash !_! ! covid is never going away ! eventually over the next_few year a majority of the population will have contracted_covid no question on this it_s not about cases it_s about hospitalizations and severity_of cases many cases will be without_any symptoms this is just the way it works vaccinating is key to slowing and limiting the spread and reducing covid to a mild_illness that is it ! we can t keep going back to lock_down or beyond where we are now just on cases alone no government in the world is doing any better_than singapore glad to be here and not somewhere_else',\n",
       " 'so great d',\n",
       " 'if you are afraid stay at_home dont go_out lots_of online_store are there and wait for this numbers to be zero dont look other people you can not control them do all precautions you think you need enjoy_life even you will double your mask 5_meters distancing if its your time its your time as per covid rules_strongest may win have a nice morning feel the freshness of air by mother_earth',\n",
       " 'lots_of sensible comments on here i_think singapore is world no 1 with vax and is taking a sensible approach in 10_years time when they write books about this singapore will be top !',\n",
       " 'more vaccinated people kena vs not vaccinated',\n",
       " 'nothing to see here its just covid its endemic here in sg move_along says some mtf smartypants',\n",
       " 'if you can work up to 24hours online daily i will send the link that pays you 5 000 daily if you are interested just click_on the link on how to get started',\n",
       " 'travellers come singapore only need self_quarantine few_days you expect case to reduce ?',\n",
       " 'question of these 156 additional new cases added to those declared each previous day how_many wore_masks ?',\n",
       " 'dun_worry we are nearing endemic its nothing juz like normal_flu dun bother_about the figures get on with our life and open_up singapore',\n",
       " 'just back to phase_2',\n",
       " 'work from home la !',\n",
       " 'the tonight is tmr ?',\n",
       " \"good_news and bad_news aren't they ? all my_friends please take good care from this movement we can tell that we cannot_rely on society to protect_us anymore except your strong_immune system can save your lives even you are vaccinated please don't be_misled that we are now as strong as fiddle as there is still a possiblility of death for any vaccinated covid patient for any age_group base_on our vaccinated infected patients there are still some who require_oxygen supply are they consider serious or mild be_vigilant and don't be_misled by hidden reports\",\n",
       " 'unlinked_cases are the most worrying there are potentially super_spreaders outside without_mask or take off during talking times ministry_of health_singapore marine_parade town_council seah kian peng',\n",
       " 'delta_variant is a_hoax variant created to explain more deaths and infections from the vaccination basically the entire fiasco of a_plandemic is a scam collusion between big_pharma and world governments to push the new world order agenda of this virus vaccine genocide avoid this fake vaccination at all times costs even with social inconvenience or whatever measures that will be_implemented',\n",
       " 'china which_uses only china_vaccines already has covid situation under_control since_17 months_ago has very few cases of covid_19 any government with common_sense would have mainly_used the china_vaccines since every country on earth that has used_mainly china_vaccines and which has vaccinated most of its population has already got life back to normal eg_chile plus_bahrain while every country that mainly_used the western_vaccines eg_moderna and pfizzer and which has vaccinated most of its population eg_israel plus uk has_exploding and increasing_number of virus cases because western_vaccines eg_moderna and pfizzer are not effective_against the delta_variant and their effectiveness_drop with time look_at graph for china and see for yourself that in china life has returned to normal since_17 months_ago at',\n",
       " 'bahrain who uses_mainly china_vaccines has_negligible or very few cases of covid now and has got situation completely_under control_countries that did_not use china_vaccines eg singapore where less 2 of population_uses china_vaccines due to china_vaccines being_deliberately blocked from use until most of population has already been vaccinated are in trouble now but countries like bahrain that use china_vaccines life is already back to normal see graph for bahrain_below',\n",
       " 'uk which_refuses to use china_vaccines and who already has most of the population vaccinated but which instead_uses western_vaccines eg_moderna and pfizzer has_exploding number of virus cases now as seen at graph at',\n",
       " 'hungary_one of the rare_european countries using china_vaccines has a_dramtic drop in cases of covid_19 virus and has completely got situation under_control at',\n",
       " 'notice that virus cases are_exploding upwards_very very_quickly plus_dramatically in countries eg_israel plus uk with high vaccination_rate plus_using mainly_western vaccines_eg moderna and pfizzer_click the graphs_below and see for yourself the graphs_showing that virus cases are_exploding upwards_very very_quickly plus_dramatically in countries with high vaccination_rate plus_using mainly_western vaccines_eg moderna and pfizzer_eg in uk_eg in israel',\n",
       " 'unfortunately_due to singapore gov policy which_discriminate against the more effective china_vaccines which was a_huge mistake_98 8 of all vaccinated people in singapore had to use moderna or pfizzer_vaccines while only 1 2 of vaccinated people use the china_vaccines china_vaccines were only available in singapore only after almost_100 of those_who wanted_vaccinations had already been vaccinated using_moderna or pfizzer_vaccines due to singapore people using_mostly moderna and pfizzer_vaccines dont expect cases in singapore to drop delta virus is only able to be controlled_properly in countries like china plus_bahrain plus_chile who are using_mainly china_vaccines countries like singapore plus uk plus israel who are using_moderna and pfizzer_vaccines will never_ever have a low number of covid_19 cases but at_least death_rate is lower if any type_of vaccines are used so life need to return_back to normal and we need to treat the covid_19 virus like flu notice that virus cases are dropping very very_quickly plus_dramatically in countries with high vaccination_rate plus_using mainly_china vaccines_click the graphs_below and see for yourself the graphs_showing very_rapid dramatic_drop in virus cases in countries with high vaccination_rate plus_using mainly_china vaccines_eg bahrain_eg in chile_notice that virus cases are_exploding upwards_very very_quickly plus_dramatically in countries with high vaccination_rate plus_using mainly_western vaccines_eg moderna and pfizzer_click the graphs_below and see for yourself the graphs_showing that virus cases are_exploding upwards_very very_quickly plus_dramatically in countries with high vaccination_rate plus_using mainly_western vaccines_eg moderna and pfizzer_eg in uk_eg in israel',\n",
       " \"now the topic more on vaccinated than unvaccinated as digital numbers start_climbing higher daily this is what task_force expectation can the problems be solved prefer for higher infections than death_rates vulnerable 60 and above whether u_r vaccinated or unvaccinated due to ageing process and poor health everyone must follow a healthy_lifestyles to keep_fit you're still the same\",\n",
       " 'robot_has spoken',\n",
       " 'oh_my god ya_allah please save_us',\n",
       " 'see who will survives',\n",
       " 'interestingly booster_shots will be on the way and looking_at how sg follows cdc and fda recommendations word for word 80 fully_vaxxed folks will become partially_vaccinated very_soon again',\n",
       " 'every_month has cluster n new_clusters many unlinked_cases can spread quickly there is a loophole probably',\n",
       " 'learn to live_with it',\n",
       " 'yes u are doing good moh the number is within reach u can do better open jb and batam please',\n",
       " 'haiz just extend_circuit breaker for 6_months lor everytime it ends 1_month later singaporeans already on standby to go_out and makan exactly after 12_midnight if this nonsense from singaporeans continue the cases will still go up again besides singaporeans will come up with excuses to go_out of the house if the government says only leave the house to buy_essentials rest_assured the entire_family will go to the nearest supermarket and buy a_lot to justify the phrase only leave the house to buy_essentials government should really ask their officials to plainclothes cos buy only 1 surplee from 7_eleven also supposedly considered an essential item like please lah',\n",
       " 'a new innovative way for the elderly to fight new viruses',\n",
       " '79_unlinked cases from public_transportation ? ? ?',\n",
       " 'do u need to see kids dead before u do_something ? the least u could do is come up with the places that these covid cases have_been going during their infectious_period if i know my area has covid cases i will do self lockdown for the vulnerable_ones in my_family how do we stay_vigilant when u are sleeping and pretend covid is like flu if our young_kids get sick with long_haul symptoms will u foot_their medical_bills forever ? u need us to stay_vigilant we need ur help to do so',\n",
       " 'evon tan 79_unlinked',\n",
       " 'lets go for a thousand !',\n",
       " \"now that we has_reached herd_immunity with 80 of our population fully_vaccinated its time our authorities should think about booster_shots why give 500000 doses of vaccine to australia when we could use it as booster ? maybe we still have enough i_sincerely hope so with this herd_immunity concept being announced to the general_public people_tends to be more relaxed and become_complacent as such we are now_experiencing such high rate of infection however it's not all bad as with being fully_vaccinated one may still get_infected but to a much softer outcome and eventually we will take this infection like the common_flu and with treatment recover at a faster pace as such our authorities has done the right move and with our help i'm_sure we can_overcome this stupid crisis once and for all the above_opinions are mine_alone and not_intended to cause_any harm_or misunderstanding to anyone or parties_whatsoever\",\n",
       " 'no dead_bodies piling_up no talk the more dead sinkies the better',\n",
       " 'where is tai_chi master ?',\n",
       " 'where is lord of the ring ?',\n",
       " 'where is liang po po ?',\n",
       " 'tomorrow start will be more welcome from_overseas',\n",
       " \"it's very easy to say it's an_endemic and it's natural for the numbers to go up until someone loses a loved one\",\n",
       " \"let's get it to 1560 cases in the community n see what these 4g_jokers will do\",\n",
       " 'keep it up',\n",
       " 'because the virus has_mutated',\n",
       " 'singapore only 100plus counted_as lucky liao malaysia everyday kana 10k to 20k',\n",
       " 'the numbers keep going up everyday why oh why',\n",
       " 'lockdown better',\n",
       " 'tomorrow sim_lim square still open ?',\n",
       " \"they say it's okay to get the covid virus because you are vaccinated you wont_die\",\n",
       " 'later only those fully_vaccinated and infected with virus allows to eat in restaurants and not infected by the virus can two eat at hawker and coffee_shop not vaccinated all eat at_home only',\n",
       " 'no diference vaccinated and non vacinate',\n",
       " 'time to stop_counting and start booster_shots !',\n",
       " 'singaporeans like to give comments and complain heightened_alert cannot_eat out complain loose restrictions can eat out and socialise when case is high also complain i_believe lawrence_wong also got fed_up already',\n",
       " 'shawn_ang up up and up',\n",
       " 'more and more well_done ? ? ?',\n",
       " 'very very good !_! when the next_ge ? ?',\n",
       " \"well_done singapore ! thanks for the leading us for the covid_19 numbers everyday the policy rocks and vaccine works like charms ! and don't_blame the people as if you don't_know your people's behaviors people are relying_on your policy and trusting what you say and don't_worry no one will be accountable for anything anyway pointing_out the 2 unvaccinated out of the 156 people means anything ? keep your good_job anyway\",\n",
       " \"just stop_reporting already we get that it's endemic pandemic level endemic\",\n",
       " \"154 vaccinated never_mind still can eat in groups of 5 at restaurant don't be like unvac crippling the medical health_care oh wait\",\n",
       " 'the law of diminshing returns applied the more vaccinated the more being infected still want to acheive 100 vaccinated',\n",
       " 'siao_liao heightened soon or is it we die our problem',\n",
       " 'living with virus',\n",
       " 'is the cases going high and unlink_cases going up because of ndp and government relentless need to do ndp_celebration despite of covid ?',\n",
       " 'very very good good good good good and power_power powerful_powerful powerful',\n",
       " \"it's like the vaccinated person are become low_immune because most cases are vaccinated\",\n",
       " 'you moh messed_up and you must eat up now',\n",
       " 'all this are vaccinated and super_super spreaders',\n",
       " 'belly_good serve u till the belly right',\n",
       " 'just a warning to moh if nothing is to be initiated the change the current_situation and the daily infection is to be remain at 150 for continuously 28_days over the 28_days the percentage_of unvaccinated who_became severely_ill or died to be maintain at 9 3 while that for the fully_vaccinated is at 1 3 then the number of fully_vaccinated to be hospitalised would reach 48 assuming_0 88 x_150 x_28 x0 093 the number of unvaccinated to be hospitalised would reach 47 assuming_0 12 x_150 x_28 x 0 013 then there is no benefiting of having vaccinating the nation please look_into how you could reduce the infection_rate',\n",
       " 'the number of infected is more_than 2020 and 80_vaccinated vaccination is a scam !',\n",
       " 'its good that we are not seeing_exponential increase and vast_majority have little to no symptoms',\n",
       " 'ohhhhu noohhh still increase',\n",
       " 'so_many unlinked_cases omg siau voon tay',\n",
       " 'waiting till dec to have booster is kinda late things are very_fluid now never know_whether the swop in vaccines will ever happen in dec due to vaccines insufficiency cases may be sky_rocketing shld strongly consider_giving booster in sep or oct instead_of swopping sign',\n",
       " 'wow the number of covid',\n",
       " 'how no decrease',\n",
       " 'wah_lau everyday getting more and more maybe cb go_back to phase_2 liao makan no dine_in only dapau again',\n",
       " 'singapore government please must take_temperature back case is go up and go up why must stop taking_temperature at the public place vaccinated no 100',\n",
       " 'thank_you moh enjoy_life ppl !',\n",
       " 'unlinked dangerous',\n",
       " 'really_speechless',\n",
       " 'new_zealand reports first death linked to pfizer covid_19 vaccine',\n",
       " 'i_am surprised to see how_many people are against the move this is one of the changes that i have_been waiting_for if you look around the world the vast_majority of countries allow mild cases to recuperate_at home putting everyone in hospitals or community facilities clogs up hospital_capacity costs money and leaves many people in dread of testing positive the idea of being_locked up in a hospital room or a chalet_with a total_stranger for 2_weeks scares me more_than catching_covid itself if as the government says we are going to live_with covid then this is a major_step in the right_direction we cannot continue_locking people up indefinitely',\n",
       " 'most ministers are staying in landed_properties and have their_own cars to move_around do they even understand what the majority of the nation are facing right_now when they started opening_borders so easily to foreigners ? most people here are staying in high rise_building and do not own_car use public_transport most of the time mtf is bringing so_much risk to them shn is so important for all irregardless_of where they come from cannot pretend nothing_happen and it_s safe it_s always better to be safe than_sorry when the world is still so messy look_at neighbouring_countries for their_experiences 20000 cases daily if never control well dun always think of experiencing new things now unless u_r the one that is doing it and not by giving order only don_t make the people suffer_unnecessarily',\n",
       " \"don't think this home quarantine arrangement is suitable_for the highly_transmissible delta_variant it's likely that other household_members will get_infected as_well even if the sick person is separated_from others\",\n",
       " 'well overdue to relieve unnecessary_burden on the hospitals but i_personally will never accept this as an_option as_long as my fully_vaccinated household_members need to be locked away with me for 14_days this is completely_unnecessary doesn_t deliver any significant public health_outcomes and should be scraped soon enough else many people with families and young_kids will reject it as it is not a suitable option for most',\n",
       " \"this is a milestone in moving_towards the new_normal ! expect a_lot of negative_comments and complains here so i'm here just to show that i'm supportive of this we can't lock_down forever so let's_welcome the new_normal\",\n",
       " 'pardon_me such a beautiful_picture is painted as tho the family will not be affected and whether a spare room is available not a perfect world to be in but such a perfect picture painted by moh for me i thinks this is merely a move to pass the responsibility and liability to the people we the people are not doctor either we are trained to take_care or assess an infected person this is not moving back to normalcy but moving the burden from point a to b',\n",
       " \"bear in mind that covid_19 virus_carriers can be asymptomatic or have mild_flu like symptoms that is how it starts off by the time want to monitor if it is indeed covid_19 or not by then the whole_household would have_been infected already this is really not a wise_move g the last time when u said 'dont wear_mask if ur not_sick' the virus passed around same concept\",\n",
       " 'good program better emotional_support patient may feel less anxious suitable_for carefree families with grown_up adults home however these may not be good for patients with young_children it may incurred further stress on patient n caregiver it will be an add_load to either spouse as he/she_has existing responsibilities at_home',\n",
       " \"this option is definitely not useful for households with kids schooling instead_of one person being quarantine in a designated_facility now the entire_family is being_quarantined meaning that the kids are not allowed to attend_school for around 14_days as the quarantine is only applicable to the family and not the whole class there won't be online_lessons during the absence\",\n",
       " 'not doable for my_family so are many families at large gov encourages multi generation staying under 1 roof how to recover c 19 at_home we have vulnerable family_members at_home can t risk them with such',\n",
       " \"this is a very compassionate move yet not a welcome idea for some however when you are into that situation when your housemate or family_member is positive all of you in the house may likely need to rightfully quarantine too and it is indeed there's_no place like home to stay straight 14_days in quarantine as_long as everyone in the household just have a mild_symptom\",\n",
       " 'for those_who are suitable to recuperate_at home the patients can feel more at ease and therefore heal better this is especially helpful to children and people with mental_health issues eg panic disorder',\n",
       " \"all this is to minimise the expenses paid by the government for those unable to pay seek_medical social worker to help again they need to apply medifund they government just don't_want to baby sit the cost similar tactics they applied to drug rehabilitation and those minor offences case wearing a device to monitor so they don't need to bear food accommodation medical care etc\",\n",
       " 'just_wondering if the neighbour is infected in hdb or condo etc we are just separate by a piece_of wall quite_similar concept like hospital ward to ward partition no wearing of mask at_home windows all open how will this help ?',\n",
       " 'this is simply a case of the g passing the buck and shirking responsibility period !',\n",
       " 'most people here are staying in high rise_building instead_of landed dun bring unnecessary risk to the nation',\n",
       " 'how_abt the virus transmission concern within the household ? the household_members taking_care of the patient at_home need to be trained or not ? or they risk catching the covid virus as_well ?',\n",
       " \"i don't think anyone will be forced to stay at_home especially if the home isn't suitable the chances are that the family will be under a qo anyway due to being close_contacts many people will prefer this and if they have the ability to isolate at_home then why not ? i would much prefer to be in my own home than stuck in a chalet_with a total_stranger or in a hospital_bed eating hospital food when i'm not even sick\",\n",
       " 'finally !_! how it was possible to separate people from their_families against their will for a virus with a 98_recovery rate is beyond me inhumane to say the least finally coming their senses',\n",
       " 'one person infected whole_household will also be quarantine all quarantine at_home will be a good option but the chances of whole_household members being infected is very_high',\n",
       " \"household_members will be on home quarantine_order yet going out to buy_groceries for the patient ? sorry i'm not sure how someone on home quarantine should be allowed to leave the house\",\n",
       " 'david teo the family_members will be under home quarantine_order so they are not supposed to go_out of the house too therefore all purchases can only be done via_online and receiving is done in a contactless manner like the goods or food just hang_outside the gate',\n",
       " 'family_members also placed_on quarantine means they can t go to work employers definitely_won t be happy and people will be worried_about their_livelihood unless the govt is willing to be extra firm with their manpower laws and regulations because i_m very sure there are still some employers who will try funny_tricks and funny_tricks can include forcing the employee to self resign in the good name of not affecting the employee s future employment applications but at the same_time the employer do not need to pay termination benefits does mom even realise this kind_of tricks ? there are simply too many loopholes in their system',\n",
       " 'eventually there is still going to be a risk of more reduced manpower due to having more and more people getting quarantine still not sustainable in the long_run for the economy it is difficult but tbh aiming_for zero cases is still i_feel a better way_forward as of now as such long quarantine is still a_necessity for people with covid and little is still known about this virus',\n",
       " \"it's going to trigger alot_of fault alarm over the pub sewage covid monitoring_system get_ready for more area swap_test\",\n",
       " 'sick govt dont_want to take responsible for citizens health millions salary they want but no responsible work done lol',\n",
       " 'this is such a good arrangement should extend to aging singles living on their_own even for non covid illnesses',\n",
       " 'y force the unvaxx to be in the hospital ? even when they may only have mild/asymptomatic conditions also ?',\n",
       " 'then the entire neighborhood will kena cos when covid patients showered or urinate all these will be passed thru all the households in every unit pipes can you imagine that',\n",
       " 'it should look_into the number of household_members live in nos of room type before_deciding whether to recover from home ! there maybe no space for them to isolate_themselves ! in the end infection_rate grows exponentially !',\n",
       " 'household_members to serve_qo and help buy_groceries ? i_presume this is going outdoors unless the patient cannot shop_online even at_home how to serve_qo and go_out ?',\n",
       " 'i know several cases in europe even in my_family where one family_member got_infected recovering at_home rest of the family_members sharing even same_toilet and with proper_sanitation no one got_infected',\n",
       " 'if other family_members are on 14_day home quarantine how can they go_out and buy necessities for the patient ?',\n",
       " 'hoping we will not see the whole residential block lockdown due to this references to hk cases where the virus spread via the common waste pipe',\n",
       " 'great_initiative will reduce anxiety in covid patients no better place than home to faster_recovery',\n",
       " 'hmm how do household_members assist with daily_necessities ? they are also under_hqo this week we kicked_off the home recovery pilot programme which allows covid_19 patients who have no or mild_symptoms to recuperate in the comforts of their home and with the support of their family great care is taken to select only those_who are fully_vaccinated and have suitable home conditions to be on this pilot the safety and well being of the community is_paramount here are responses to some questions you may have 1 how will household_members be affected when their family_member is on home recovery ? household_members will be placed_under a home quarantine_order for a 14_day period they will help manage daily_necessities like buying_groceries for the patient using contactless transactions their well being is also closely_monitored',\n",
       " 'since the safety and well being of the community is_paramount will the infected person in transit be wearing a hazmat_suit ?',\n",
       " 'a_bit skeptical lah horr like next_door neighbour die at_home also dun know but i_believe here will be closely_monitor n necessary emergency action will be taken in_terms of well being medically n financially if family_members have to monitor n not work for caring for close ones infected',\n",
       " 'not a good program if i_am affected i would want to quarantine_myself and not risk my_family getting covid',\n",
       " 'sorry for asking is there any govt support for people who are under_quarantine at_home ? such_as money and food ? or there is no support at all ?',\n",
       " \"please stop using gendered language this is formal communication not he will have access to telemedicine_services instead they will have access to telemedicine_services women will also have access and you don't_want to exclude them from hearing what support they will have\",\n",
       " 'home recovery buddy have power to report for prosecution if not at_home don_t label a prison guard into something_else',\n",
       " 'the failure with mmtf is the insufficient or lack_of considerations for the quarantined/shn you simply create volatility and uncertainities and did_not provide a closed end solution for the quarantined/shn these kind_of ops should be handled reliably so that everybody knows_how to handle_things end to end that their basic_needs are cared_for if they are affected it is possible to get zero covid if these ops are properly mannaged china did it zero covid no problem each time every time zero impact to economy as_long as the protocols are well_established everyone_knows what to do and that their needs are cared_for if they are unfortunately_affected',\n",
       " 'how to be fully_vaccinated when there s no stock for 2nd_dose ?',\n",
       " 'doeznt make_sense in the past one year cant now can lock yourself at_home and risk exposure to family_member then spread fast to community',\n",
       " 'moh mmtf please co ord this if you want to do this get a list of providers it can be community members not just commercial ops willing to provide buy and deliver for a_nominal fee and provide that list in public get providers who are willing to do that to register at a web site so that others can look it up those_who can make_arrangements with neighbors or family to do delivery is ok but not everyone is so privileged to have good neighbors or that families could be living away to help with such basic_necessities',\n",
       " 'this is really a bad move how can gps track those_who move vertically within same block upstairs to downstairs ?',\n",
       " 'hello i_ve been_trying to get moh on the phone but to no_avail i_ve taken my_second jab a week_ago but my status on trace_together app doesn_t show can someone_kindly assist ?',\n",
       " 'if patient lives in the same house as his_family and he is on this home recovery can his_family still go to work or school ?',\n",
       " 'if you have 7 people at_home sharing is not caring what if each one in the family take_turns to catch the virus from one another how_many 14_days will we stay locked in for ?',\n",
       " 'i don_t agree_with this option this is stupid you never consider mostly people who have dogs at_home and some newly_wed couple who have a newborn_baby which it puts highest_risk to the dogs and babies at_home common_sense to put in a quarantine_facility instead',\n",
       " 'family taking_care of the covid patient reqd to stay in or able to move_around like norm if latter scenario will it be risky to carry virus to others dont_forget now vaxxed are not 100pct safe from infection also we are urban community living unlike abroad who stayed in houses not flats',\n",
       " 'does one have a choice ? either at_home or stay at facility if home too small ?',\n",
       " 'stupid idea it helps in death or the spread ? ? no wonder more unlinked_cases will be coming out if we have this kind_of attitude',\n",
       " 'about home recovery condo or hdb management have responsibilities to post notice to residents or no ?',\n",
       " 'if lockdown is not on the card if the cases surge government must be_prepared for contigency plan and teams for easential workers healthcare bus_drivers checkpoint officers and etc',\n",
       " 'not a good ideas with children ages 1 5_years old they are not vaccinated',\n",
       " 'does patient has a choice to opt for home or at ccf ?',\n",
       " 'so no or mild_symptoms cannot spread covid ? sure they will stay at_home ?',\n",
       " 'what_about if both_parents are vaccinated but we have a baby boy ?',\n",
       " 'do you tag these patients to ensure they are following the recovery program at_home ?',\n",
       " 'if the person renting a room tenant how ?',\n",
       " 'this doesn_t work not everyone s know online_purchase',\n",
       " 'this is stupid the dumbest move ever just like how malaysia did it',\n",
       " 'this is the right approach the last thing we want is covid patients overwhelming hospitals and other patients can t get the treatments they need in time',\n",
       " 'lets say our child or family_members will stay away_from home to relatives our home is unoccupied can i serve my qo at my home',\n",
       " 'ahh all other family on 14_days quarantine then who_pays their absentee leave',\n",
       " 'i_am getting prepared for this time to renew_my netflix subscription',\n",
       " 'who is to monitor they don_t step_out of the house ? ? ? ? got not enough facilities to house them just say so ! no need to disguise_as if you are doing them a great favour ! communities have to embrace themselves for greater_risks !_! !_!',\n",
       " 'this means the patient and his_family will all be under_qo right ? wow tough_call',\n",
       " 'bad_idea the covid patient will not stay isolated in the room at his own home',\n",
       " \"we are going the indonesia way of covid_19 care recovery at_home with medical teleservicing moh do take_note the different is in indonesia kids still dont attend schools we do not careful you are going to form clusters in schools just like bus_interchange clusters don't follow_blindly\",\n",
       " 'i_guess only those_who lived in landed_properties have the right condition qualified for shn then',\n",
       " 'will there be a notice for neighbours to be aware that such n such a person is on shn at_home ?',\n",
       " 'i do agree this will relieve the burden on the hospital but at the same_time i hope options are allowed for those_who had elderly in their household vaccinated/unvaccinated proven fact_that it is still high_risk for them especially_those who has prior medical_condition regardless_of their vaccination_status household with young_kids who are apparently unvaccinated and household with anyone who is deem unsuitable_for vaccination',\n",
       " 'nowadays most flats/condo have their rubbish_chute outside the house so these ppl under_hqo can still walk out to throw_rubbish ? ? so the whole level will be put_on high_risk to catch the virus ? ? ? !_! !_!',\n",
       " 'next time hospital will also encourage those with breathing problem to recover from home by sending oxygen_cylinder tank to their home so less work for hospital_staff',\n",
       " 'how can the economy open_up like that when household_members who may be working_adults are quarantined for 14_days ? what evidence is there that vaccinated infected continue to shed transmissible virus for 14_days ? is this another kiasu move like shn for 21_days ? it_s endemic why are we managing like zero covid ? it_s one or the other you cannot vacillate from one mode to another like changing hats',\n",
       " 'stupid ideas',\n",
       " 'notice that virus cases are_exploding upwards_very very_quickly plus_dramatically in countries with high vaccination_rate plus_using mainly_western vaccines_eg moderna and pfizzer_click the graphs_below and see for yourself the graphs_showing that virus cases are_exploding upwards_very very_quickly plus_dramatically in countries with high vaccination_rate plus_using mainly_western vaccines_eg moderna and pfizzer_eg in uk_eg in israel',\n",
       " 'sure sneak_out one',\n",
       " 'now i know what s the store room is for',\n",
       " 'pls contact me if u need the rapid_test kit',\n",
       " 'good step_forward',\n",
       " 'not so simple lah will see how big your house and how_many ppl in the house also',\n",
       " 'find it dumb a light sickness of one could be a deadly blow to another one',\n",
       " 'can you advice regards this bad_news report regards prizer vaccine ? is our_nation still in safe position ?',\n",
       " 'will household_chores be mandatory or obligatory ?',\n",
       " 'is this idea for the benefit of the rich and wealthy including the powerful ministers and high_level government official who has big houses and don_t like to stay in the cramped quarantine_facilities ? and hence the government came out with this plan actually benefiting the rich and powerful more_than normal singaporeans and peasants who would even face more constrained affecting_children going to school and their learning especially amongst other',\n",
       " \"is this a scam or a mistake ? this message don't belongs to me and i received almost_every week i emailed and pm to moh till_date no_reply\",\n",
       " \"i can't believe the opposition in the comments to this fully sensible and overdue update we are talking_about letting people with sniffles stay at_home to recover from their sniffles with their vaccinated families who at worst will also only get sniffles and probably spent plenty time with their family_member before he/she was_diagnosed hong_kong has such a long way to go to get out of this mindset that covid can be wished away if we all just keep doing what we are doing a_bit longer\",\n",
       " 'will i still get 100 a day ?',\n",
       " 'all you need is just 10 of these shn cases to have a leak enough to spread to family_members n eventually those_who have to run_errands to get food n essentials or have i missed_out some detailed safety_measures ?',\n",
       " 'this is great and the way to go for fully_vaccinated with no or mild_symptoms we start treating this as endemic this way hope people think through before writing nonsense',\n",
       " 'eh ? and risk spreading it to the family ?',\n",
       " 'so when die at_home is counted die from wuhan_virus ?',\n",
       " 'so more spreadings lor now is alive own problems liao keep_safe',\n",
       " 'i support this cause over_90 of infected are safe which had no much issue on their health let save up the hospital_bed for those elderly',\n",
       " 'if only the patient is living_alone not so visible',\n",
       " 'will see any the top guys using this ?',\n",
       " 'so now the kinship become nursing aides to keep them busy what_happen if household have nobody then send to hotel for quarantine',\n",
       " 'the safety and well being of the community is_paramount and that s why you have never stopped_importing infected cases ?',\n",
       " 'great move by singapore government',\n",
       " 'are they give mc ? is the family_member looking after them given additional pay leave ? what_about their children school do online_teaching ? household_members will be on home quarantine_order yet going out to buy_groceries for the patient hmm hmm what is this ? etc_etc',\n",
       " 'many may noticed the information made_available to public is getting_lesser more ambiguous and much later do we not have a right to know ? there is always an expectation in any country it_s government works for it_s people hence should be_transparent and accountable its_ok to make mistakes if some strategies are incorrect or premature this is unprecedented_situation and not 1 government in the world can get it right there is a race to vaccinate as many people as_possible there is no_competition to which_country has the highest vaccination_rate there is a race to save_lives there is no_competition to reopen_economy at the risk of endangering lives',\n",
       " 'someone here is hiding something death cases per_day oledy_hit new high of 3 cases per_day and no of c19 cases as at 28_aug oledy_hit 243 u can chk at google',\n",
       " 'thought frontliners like the bus_captains were the 1st few groups to be vaccinated as updated by the covid committee previously why are we now hearing over the daily news that those recently affected ones were only with 1 jab done or no jab done at all ?',\n",
       " 'can the ministry offer booster_jabs at a much_earlier date especially the frontline its coming to almost 11 12mths in dec for those_who had the first_jab coz the frontline still need to take_care of the sick very_concerned right_now thanks',\n",
       " 'based_on 1k positives this past_week we should expect about 10 more people with serious issues next_week from the vaxxed_group and a_handful from the unvaxxed all in all manageable from the current v low 25ish !',\n",
       " 'senior activities have not started and many seniors with mild dementia are getting_worse with less interaction anyway to ensure vaccinated seniors can continue activities while_keeping them safe ?',\n",
       " 'while we are celebrating the positive news in sg may i ask what abt the unvaccinated kids/toddlers ? how safe are they from covid ?',\n",
       " 'great work moh please allow more sports outdoors it_s necessary for people to build_up their immune_system and physical_condition',\n",
       " 'great_job all around based_upon the pfizer data coming out of israel immunity compromised persons like my 75 year_old mother should be getting her 3rd_shot in september particularly to combat the delta_variant when is moh scheduling this ?',\n",
       " 'lol moh no_point reporting all these the cases are over a 100 a day and the situation is worse_than it was during the jurong_fishery port and ktv_cluster and yet i_urge u to go walk the ground and see how crowded many places are do u expect to contain the virus like this ? just implement another_lock down else the cases will only go up and will never go down',\n",
       " 'pls control let the cases go down again',\n",
       " 'ministry_of health_singapore pls_advice what to do now ?',\n",
       " '17th 22nd 24th august 3 people died 1 fully_vaccinated and 2 partially_vaccinated which vaccines they took ? and how old were they ?',\n",
       " 'vaccinated also can get_infected keep_safe',\n",
       " 'yes the number of people getting vaccinated is up so are the daily cases the unlinked_cases the number of deaths the number of clusters so are we really better off than one_month ago ? two_months ago ? why is moh now not telling_us whereabouts of the clusters until it_becomes a very big one ? ? this is not right ! by telling_us and warning us we can avoid_going to these infected places and to some_extent prevent the rapid spread the days_ahead are certainly looking rather dark and pessimistic why is the mtf so silent these days ?',\n",
       " \"best take two vaccin or don't take at all you take one vaccin you were treat like sick patient you only allow to take your lunch or dinner even breakfast in your room you are not allowed to eat in dinning hall this happen to me in royal_caribbean quantum of the seas last fews days but lucky can move_around any where\",\n",
       " 'let_s open_up !_!',\n",
       " 'the older a person is the weaker the immune_system even being double_vaxxed an elderly person and especially_those with serious comorbidities_may not be_able to mount a strong_immune response with the vaccine hence we are witnessing more elderly vaccinated who are in_icu thus_far we have not seen fully_vaccinated people 50_years and younger dying from covid',\n",
       " 'as of today the number of grey fully_vaccinated area are 9 plus 336 plus 359 plus 136 plus_44 884 infected for the past_14 days',\n",
       " 'on another news and at the rate our infections are going and the death_rate of elderly are heading we are pretty_much going to join part of the data',\n",
       " 'so when is the new_normal ? when will the infecteds go down and we rebuild the economy without massive migration and insourcing from china ?',\n",
       " 'singapore going to vanish soon useless gov',\n",
       " 'achieving 100 is also of no use when facing those delta airborne_viruses',\n",
       " '80 full_vaccination is excellent but daily cases still high which is not very good quite_worrying actually',\n",
       " 'tanrottenapple_savesingapore imagine this is already in your body ! not imagine but truly in every vaccinted minds ! take_care !',\n",
       " 'one honest truth this vaccination is not protecting the people it only accelerate the spread of the infection !_! !_!',\n",
       " 'when the vaccines drop efficacy there is no different from the unvaccinated just like israel another boosters for 80 population vaccination will the virus spread faster_than inoculation times is running out',\n",
       " 'tanrottenapple_savesingapore we had_been working on the genuine_information of the failure_death in per_million calculations of due to vaccination almost all countries with_globalists influence_given fake numbers and statements_except norway ! true_viking people with the only_courageous to disclose with less_manipulation and fabrication_! the white_hats are activated ! the attached_table in mandarin for more_audience to know especially in sg ! my taxi_uncle is one who gone in days after vaccination ! an_optimistic one who loves to cook for the family ! take_care uncle !',\n",
       " 'more vaccinated more cases clueless_mtf',\n",
       " 'after 80_vaccinated how_many percent still got covid where only vaccinated can dine and go ? already more_than 100plus recorded daily if you stop high_risk country in just for manpower you can only expect the number to go up not down if only government and employers are not choosy there is plenty_of jobs the local can fill only greed and excuse give them the right to do what is so wrong at the expect of people',\n",
       " '169 out of 1067 15 8388 of those infected are unvaccinated remaining 84 1612 infected are fully_vaccinated/ partially_vaccinated',\n",
       " 'we have to get use to our new lifestyle pleasing_our dissatisfaction for the past one year go_out meeting our_loved ones cause we are so_desperate to meet them are you happy ? numbers rising and you get what you want isn_t it ? lack_of commitment self control and awareness the more crowded the better since that s what you want adaptability don_t blame the government forever learn how to blame_yourself',\n",
       " 'there will be more to come 50 just went back to work icu not full public_transport and dorm are a perfect_storm let_s keep our fingers_crossed that this storm will pass without much casualties',\n",
       " 'end of the day only we citizen_suffer living in constant_fear of getting covid or dealing_with financial_problems welcome to sg where money citizens wellbeing',\n",
       " 'can you please_provide breakdown of vaccinated vs_unvaccinated',\n",
       " 'please close off borders and dining in before we are all infected',\n",
       " \"when relax the rules people got worried and ask for lockdown or stricter_rules but once stricter_rules in place people complain this cannot that cannot no life very boring what you all want ah really ? the economy cannot stop forever all livelihood will be gone or people will go mental isolating from others let's be_realistic here\",\n",
       " \"please_consider letting the public know where_did covid positive have_been through so that we could avoid to go to the place temporary don't take itt so badly as the business of that area will be effected after_sometime people will be back right please be_transparent at_least parent like us can avoid if we need to head out we already minimize our outing to only essential_groceries trip our young one for this generation is vulnerable please_kindly consider publish the places again\",\n",
       " 'always_remember kids_under 12 are not vaccinated !_! !_! so what if all the adults got their vaccine ? ? ? yes life have to go on but those unnecessary_activities should stop at_least that is the best to control not everyday in radio kept_saying we are stable and will open_up to more activities ! siao',\n",
       " 'if they still stubborn refuse to close border/lockdown or we will be like malaysia very_soon hope not dont be too stubborn taskteams bcos of your bad_decision we suffer',\n",
       " \"those vaccinated people think they were safe because they were vaccinated don't_blame those unvacc people because vaccinated also could be infected and spread to others that is why the government still imposed the protocol of social_distancing wear_mask and frequent_hand washing even you are fully_vaccinated don't you_guys realized ? since almost all people are vaccinated the covid positive also is getting_higher everyday ? i_think self_discipline is the best_way of help i_guess\",\n",
       " 'circuit_breaker 2 week the case will go down',\n",
       " 'im worried for my 8year old grandson govt is worried_abt parents who hv nowhere to send their kids n d difficulty teachers r_facing cos hblis not easy all these above d safety of al spore children n families ? children are not vaccinated n they too can infect their_families n what_happen when they hv underlying_issues ? its_ok for them to die ? please close all primary_schools please',\n",
       " 'so all patients below the age of 70 have no risk of serious_illness ?',\n",
       " 'we have_been telling the government please look_into the public_transport weeks_ago but they are very confident that they have strict protocol in the transport_system but now it_s spreading to so_many bus_interchange we have_been telling the government the risk about students taking the public_transport weeks_ago too and school still on going hopefully won_t be another school clusters',\n",
       " \"me simple go work go home and enjoy at_home no need to dine it or go_out anymore is new_norm for me and that's okay i'm grateful what i have rather_than complain\",\n",
       " 'heightened_alert lai_lor ! then wait_till when ? like malaysia ? ?',\n",
       " 'moving_towards endemic_state of affairs',\n",
       " 'please don_t dish_out billions again for social and economic_support a reactive_action to address ineffective approaches adopted so_far might_be cheaper to target close_monitoring and compliance ?',\n",
       " ...]"
      ]
     },
     "execution_count": 70,
     "metadata": {},
     "output_type": "execute_result"
    }
   ],
   "source": [
    "neg"
   ]
  },
  {
   "cell_type": "code",
   "execution_count": 47,
   "id": "exceptional-single",
   "metadata": {},
   "outputs": [
    {
     "data": {
      "text/plain": [
       "prediction\n",
       "0    55045\n",
       "1     1245\n",
       "dtype: int64"
      ]
     },
     "execution_count": 47,
     "metadata": {},
     "output_type": "execute_result"
    }
   ],
   "source": [
    "replacement_df.groupby('prediction').size()\n",
    "# 0.  62681\n",
    "# 1.  12711 "
   ]
  },
  {
   "cell_type": "code",
   "execution_count": 48,
   "id": "available-mapping",
   "metadata": {},
   "outputs": [],
   "source": [
    "from dateutil.parser import parse\n",
    "replacement_df['date'] = [parse(date).date() for date in replacement_df['created_at']]\n",
    "replacement_df['monthyear'] = pd.to_datetime(replacement_df['date']).dt.to_period('M')"
   ]
  },
  {
   "cell_type": "code",
   "execution_count": 49,
   "id": "thick-snake",
   "metadata": {},
   "outputs": [
    {
     "data": {
      "text/html": [
       "<div>\n",
       "<style scoped>\n",
       "    .dataframe tbody tr th:only-of-type {\n",
       "        vertical-align: middle;\n",
       "    }\n",
       "\n",
       "    .dataframe tbody tr th {\n",
       "        vertical-align: top;\n",
       "    }\n",
       "\n",
       "    .dataframe thead th {\n",
       "        text-align: right;\n",
       "    }\n",
       "</style>\n",
       "<table border=\"1\" class=\"dataframe\">\n",
       "  <thead>\n",
       "    <tr style=\"text-align: right;\">\n",
       "      <th></th>\n",
       "      <th>sentiment_coeff</th>\n",
       "      <th>tfidf_scores</th>\n",
       "      <th>sentence</th>\n",
       "      <th>created_at</th>\n",
       "      <th>sentiment_rate</th>\n",
       "      <th>prediction</th>\n",
       "      <th>date</th>\n",
       "      <th>monthyear</th>\n",
       "    </tr>\n",
       "  </thead>\n",
       "  <tbody>\n",
       "    <tr>\n",
       "      <th>0</th>\n",
       "      <td>[0, 0, -13.5625742119864, 0, 0, -3.67013075601...</td>\n",
       "      <td>[2.1432231398633523, 1.770209841682183, 8.4119...</td>\n",
       "      <td>and the bad_news you won't know if you have it...</td>\n",
       "      <td>2021-09-04T08:15:55+0000</td>\n",
       "      <td>-538.216660</td>\n",
       "      <td>0</td>\n",
       "      <td>2021-09-04</td>\n",
       "      <td>2021-09</td>\n",
       "    </tr>\n",
       "    <tr>\n",
       "      <th>1</th>\n",
       "      <td>[0, -3.059424520648905, 0, 0, 0, 0, 0, 0, 0, 0...</td>\n",
       "      <td>[3.242783216632407, 3.3068756079387995, 2.5457...</td>\n",
       "      <td>if people are expressing_concerns then it is a...</td>\n",
       "      <td>2021-09-04T08:11:13+0000</td>\n",
       "      <td>-10.117136</td>\n",
       "      <td>0</td>\n",
       "      <td>2021-09-04</td>\n",
       "      <td>2021-09</td>\n",
       "    </tr>\n",
       "    <tr>\n",
       "      <th>2</th>\n",
       "      <td>[0, 0, 0, 0, 0, 0, -16.107718432142182, 0, -7....</td>\n",
       "      <td>[5.9319367838433275, 3.6042986962500847, 9.047...</td>\n",
       "      <td>how_about our kids_under 12 ? they got no prot...</td>\n",
       "      <td>2021-09-04T08:00:19+0000</td>\n",
       "      <td>-972.153520</td>\n",
       "      <td>0</td>\n",
       "      <td>2021-09-04</td>\n",
       "      <td>2021-09</td>\n",
       "    </tr>\n",
       "    <tr>\n",
       "      <th>3</th>\n",
       "      <td>[0, -11.324734853405168, -32.09323671862448, -...</td>\n",
       "      <td>[4.521911464252132, 6.354793634663361, 7.53157...</td>\n",
       "      <td>my past reading n understanding is that now ou...</td>\n",
       "      <td>2021-09-04T08:22:41+0000</td>\n",
       "      <td>-1345.810819</td>\n",
       "      <td>0</td>\n",
       "      <td>2021-09-04</td>\n",
       "      <td>2021-09</td>\n",
       "    </tr>\n",
       "    <tr>\n",
       "      <th>4</th>\n",
       "      <td>[-5.244494913154813, 0, 0, 0, -9.3218929868911...</td>\n",
       "      <td>[5.869864355200949, 8.680193405423577, 9.45338...</td>\n",
       "      <td>protect below_12 year_olds don't sign them up ...</td>\n",
       "      <td>2021-09-04T09:57:54+0000</td>\n",
       "      <td>-213.095443</td>\n",
       "      <td>0</td>\n",
       "      <td>2021-09-04</td>\n",
       "      <td>2021-09</td>\n",
       "    </tr>\n",
       "  </tbody>\n",
       "</table>\n",
       "</div>"
      ],
      "text/plain": [
       "                                     sentiment_coeff  \\\n",
       "0  [0, 0, -13.5625742119864, 0, 0, -3.67013075601...   \n",
       "1  [0, -3.059424520648905, 0, 0, 0, 0, 0, 0, 0, 0...   \n",
       "2  [0, 0, 0, 0, 0, 0, -16.107718432142182, 0, -7....   \n",
       "3  [0, -11.324734853405168, -32.09323671862448, -...   \n",
       "4  [-5.244494913154813, 0, 0, 0, -9.3218929868911...   \n",
       "\n",
       "                                        tfidf_scores  \\\n",
       "0  [2.1432231398633523, 1.770209841682183, 8.4119...   \n",
       "1  [3.242783216632407, 3.3068756079387995, 2.5457...   \n",
       "2  [5.9319367838433275, 3.6042986962500847, 9.047...   \n",
       "3  [4.521911464252132, 6.354793634663361, 7.53157...   \n",
       "4  [5.869864355200949, 8.680193405423577, 9.45338...   \n",
       "\n",
       "                                            sentence  \\\n",
       "0  and the bad_news you won't know if you have it...   \n",
       "1  if people are expressing_concerns then it is a...   \n",
       "2  how_about our kids_under 12 ? they got no prot...   \n",
       "3  my past reading n understanding is that now ou...   \n",
       "4  protect below_12 year_olds don't sign them up ...   \n",
       "\n",
       "                 created_at  sentiment_rate  prediction        date monthyear  \n",
       "0  2021-09-04T08:15:55+0000     -538.216660           0  2021-09-04   2021-09  \n",
       "1  2021-09-04T08:11:13+0000      -10.117136           0  2021-09-04   2021-09  \n",
       "2  2021-09-04T08:00:19+0000     -972.153520           0  2021-09-04   2021-09  \n",
       "3  2021-09-04T08:22:41+0000    -1345.810819           0  2021-09-04   2021-09  \n",
       "4  2021-09-04T09:57:54+0000     -213.095443           0  2021-09-04   2021-09  "
      ]
     },
     "execution_count": 49,
     "metadata": {},
     "output_type": "execute_result"
    }
   ],
   "source": [
    "replacement_df.head()"
   ]
  },
  {
   "cell_type": "code",
   "execution_count": 57,
   "id": "accepted-empire",
   "metadata": {},
   "outputs": [
    {
     "data": {
      "text/html": [
       "<div>\n",
       "<style scoped>\n",
       "    .dataframe tbody tr th:only-of-type {\n",
       "        vertical-align: middle;\n",
       "    }\n",
       "\n",
       "    .dataframe tbody tr th {\n",
       "        vertical-align: top;\n",
       "    }\n",
       "\n",
       "    .dataframe thead th {\n",
       "        text-align: right;\n",
       "    }\n",
       "</style>\n",
       "<table border=\"1\" class=\"dataframe\">\n",
       "  <thead>\n",
       "    <tr style=\"text-align: right;\">\n",
       "      <th></th>\n",
       "      <th>monthyear</th>\n",
       "      <th>prediction</th>\n",
       "      <th>counts</th>\n",
       "    </tr>\n",
       "  </thead>\n",
       "  <tbody>\n",
       "    <tr>\n",
       "      <th>0</th>\n",
       "      <td>2019-01</td>\n",
       "      <td>0</td>\n",
       "      <td>10</td>\n",
       "    </tr>\n",
       "    <tr>\n",
       "      <th>1</th>\n",
       "      <td>2019-02</td>\n",
       "      <td>0</td>\n",
       "      <td>10</td>\n",
       "    </tr>\n",
       "    <tr>\n",
       "      <th>2</th>\n",
       "      <td>2019-03</td>\n",
       "      <td>0</td>\n",
       "      <td>46</td>\n",
       "    </tr>\n",
       "    <tr>\n",
       "      <th>3</th>\n",
       "      <td>2019-04</td>\n",
       "      <td>0</td>\n",
       "      <td>10</td>\n",
       "    </tr>\n",
       "    <tr>\n",
       "      <th>4</th>\n",
       "      <td>2019-05</td>\n",
       "      <td>0</td>\n",
       "      <td>14</td>\n",
       "    </tr>\n",
       "    <tr>\n",
       "      <th>5</th>\n",
       "      <td>2019-06</td>\n",
       "      <td>0</td>\n",
       "      <td>10</td>\n",
       "    </tr>\n",
       "    <tr>\n",
       "      <th>6</th>\n",
       "      <td>2019-07</td>\n",
       "      <td>0</td>\n",
       "      <td>26</td>\n",
       "    </tr>\n",
       "    <tr>\n",
       "      <th>7</th>\n",
       "      <td>2019-08</td>\n",
       "      <td>0</td>\n",
       "      <td>8</td>\n",
       "    </tr>\n",
       "    <tr>\n",
       "      <th>8</th>\n",
       "      <td>2019-09</td>\n",
       "      <td>0</td>\n",
       "      <td>27</td>\n",
       "    </tr>\n",
       "    <tr>\n",
       "      <th>9</th>\n",
       "      <td>2019-09</td>\n",
       "      <td>1</td>\n",
       "      <td>1</td>\n",
       "    </tr>\n",
       "    <tr>\n",
       "      <th>10</th>\n",
       "      <td>2019-10</td>\n",
       "      <td>0</td>\n",
       "      <td>28</td>\n",
       "    </tr>\n",
       "    <tr>\n",
       "      <th>11</th>\n",
       "      <td>2019-11</td>\n",
       "      <td>0</td>\n",
       "      <td>18</td>\n",
       "    </tr>\n",
       "    <tr>\n",
       "      <th>12</th>\n",
       "      <td>2019-12</td>\n",
       "      <td>0</td>\n",
       "      <td>9</td>\n",
       "    </tr>\n",
       "    <tr>\n",
       "      <th>13</th>\n",
       "      <td>2020-01</td>\n",
       "      <td>0</td>\n",
       "      <td>784</td>\n",
       "    </tr>\n",
       "    <tr>\n",
       "      <th>14</th>\n",
       "      <td>2020-01</td>\n",
       "      <td>1</td>\n",
       "      <td>7</td>\n",
       "    </tr>\n",
       "    <tr>\n",
       "      <th>15</th>\n",
       "      <td>2020-02</td>\n",
       "      <td>0</td>\n",
       "      <td>1541</td>\n",
       "    </tr>\n",
       "    <tr>\n",
       "      <th>16</th>\n",
       "      <td>2020-02</td>\n",
       "      <td>1</td>\n",
       "      <td>15</td>\n",
       "    </tr>\n",
       "    <tr>\n",
       "      <th>17</th>\n",
       "      <td>2020-03</td>\n",
       "      <td>0</td>\n",
       "      <td>2160</td>\n",
       "    </tr>\n",
       "    <tr>\n",
       "      <th>18</th>\n",
       "      <td>2020-03</td>\n",
       "      <td>1</td>\n",
       "      <td>37</td>\n",
       "    </tr>\n",
       "    <tr>\n",
       "      <th>19</th>\n",
       "      <td>2020-04</td>\n",
       "      <td>0</td>\n",
       "      <td>5427</td>\n",
       "    </tr>\n",
       "    <tr>\n",
       "      <th>20</th>\n",
       "      <td>2020-04</td>\n",
       "      <td>1</td>\n",
       "      <td>100</td>\n",
       "    </tr>\n",
       "    <tr>\n",
       "      <th>21</th>\n",
       "      <td>2020-05</td>\n",
       "      <td>0</td>\n",
       "      <td>4590</td>\n",
       "    </tr>\n",
       "    <tr>\n",
       "      <th>22</th>\n",
       "      <td>2020-05</td>\n",
       "      <td>1</td>\n",
       "      <td>80</td>\n",
       "    </tr>\n",
       "    <tr>\n",
       "      <th>23</th>\n",
       "      <td>2020-06</td>\n",
       "      <td>0</td>\n",
       "      <td>2965</td>\n",
       "    </tr>\n",
       "    <tr>\n",
       "      <th>24</th>\n",
       "      <td>2020-06</td>\n",
       "      <td>1</td>\n",
       "      <td>76</td>\n",
       "    </tr>\n",
       "    <tr>\n",
       "      <th>25</th>\n",
       "      <td>2020-07</td>\n",
       "      <td>0</td>\n",
       "      <td>2379</td>\n",
       "    </tr>\n",
       "    <tr>\n",
       "      <th>26</th>\n",
       "      <td>2020-07</td>\n",
       "      <td>1</td>\n",
       "      <td>80</td>\n",
       "    </tr>\n",
       "    <tr>\n",
       "      <th>27</th>\n",
       "      <td>2020-08</td>\n",
       "      <td>0</td>\n",
       "      <td>2377</td>\n",
       "    </tr>\n",
       "    <tr>\n",
       "      <th>28</th>\n",
       "      <td>2020-08</td>\n",
       "      <td>1</td>\n",
       "      <td>63</td>\n",
       "    </tr>\n",
       "    <tr>\n",
       "      <th>29</th>\n",
       "      <td>2020-09</td>\n",
       "      <td>0</td>\n",
       "      <td>1541</td>\n",
       "    </tr>\n",
       "    <tr>\n",
       "      <th>30</th>\n",
       "      <td>2020-09</td>\n",
       "      <td>1</td>\n",
       "      <td>55</td>\n",
       "    </tr>\n",
       "    <tr>\n",
       "      <th>31</th>\n",
       "      <td>2020-10</td>\n",
       "      <td>0</td>\n",
       "      <td>1571</td>\n",
       "    </tr>\n",
       "    <tr>\n",
       "      <th>32</th>\n",
       "      <td>2020-10</td>\n",
       "      <td>1</td>\n",
       "      <td>58</td>\n",
       "    </tr>\n",
       "    <tr>\n",
       "      <th>33</th>\n",
       "      <td>2020-11</td>\n",
       "      <td>0</td>\n",
       "      <td>1206</td>\n",
       "    </tr>\n",
       "    <tr>\n",
       "      <th>34</th>\n",
       "      <td>2020-11</td>\n",
       "      <td>1</td>\n",
       "      <td>43</td>\n",
       "    </tr>\n",
       "    <tr>\n",
       "      <th>35</th>\n",
       "      <td>2020-12</td>\n",
       "      <td>0</td>\n",
       "      <td>2166</td>\n",
       "    </tr>\n",
       "    <tr>\n",
       "      <th>36</th>\n",
       "      <td>2020-12</td>\n",
       "      <td>1</td>\n",
       "      <td>64</td>\n",
       "    </tr>\n",
       "    <tr>\n",
       "      <th>37</th>\n",
       "      <td>2021-01</td>\n",
       "      <td>0</td>\n",
       "      <td>2313</td>\n",
       "    </tr>\n",
       "    <tr>\n",
       "      <th>38</th>\n",
       "      <td>2021-01</td>\n",
       "      <td>1</td>\n",
       "      <td>87</td>\n",
       "    </tr>\n",
       "    <tr>\n",
       "      <th>39</th>\n",
       "      <td>2021-02</td>\n",
       "      <td>0</td>\n",
       "      <td>821</td>\n",
       "    </tr>\n",
       "    <tr>\n",
       "      <th>40</th>\n",
       "      <td>2021-02</td>\n",
       "      <td>1</td>\n",
       "      <td>24</td>\n",
       "    </tr>\n",
       "    <tr>\n",
       "      <th>41</th>\n",
       "      <td>2021-03</td>\n",
       "      <td>0</td>\n",
       "      <td>764</td>\n",
       "    </tr>\n",
       "    <tr>\n",
       "      <th>42</th>\n",
       "      <td>2021-03</td>\n",
       "      <td>1</td>\n",
       "      <td>25</td>\n",
       "    </tr>\n",
       "    <tr>\n",
       "      <th>43</th>\n",
       "      <td>2021-04</td>\n",
       "      <td>0</td>\n",
       "      <td>2050</td>\n",
       "    </tr>\n",
       "    <tr>\n",
       "      <th>44</th>\n",
       "      <td>2021-04</td>\n",
       "      <td>1</td>\n",
       "      <td>84</td>\n",
       "    </tr>\n",
       "    <tr>\n",
       "      <th>45</th>\n",
       "      <td>2021-05</td>\n",
       "      <td>0</td>\n",
       "      <td>5628</td>\n",
       "    </tr>\n",
       "    <tr>\n",
       "      <th>46</th>\n",
       "      <td>2021-05</td>\n",
       "      <td>1</td>\n",
       "      <td>163</td>\n",
       "    </tr>\n",
       "    <tr>\n",
       "      <th>47</th>\n",
       "      <td>2021-06</td>\n",
       "      <td>0</td>\n",
       "      <td>3246</td>\n",
       "    </tr>\n",
       "    <tr>\n",
       "      <th>48</th>\n",
       "      <td>2021-06</td>\n",
       "      <td>1</td>\n",
       "      <td>43</td>\n",
       "    </tr>\n",
       "    <tr>\n",
       "      <th>49</th>\n",
       "      <td>2021-07</td>\n",
       "      <td>0</td>\n",
       "      <td>5267</td>\n",
       "    </tr>\n",
       "    <tr>\n",
       "      <th>50</th>\n",
       "      <td>2021-07</td>\n",
       "      <td>1</td>\n",
       "      <td>70</td>\n",
       "    </tr>\n",
       "    <tr>\n",
       "      <th>51</th>\n",
       "      <td>2021-08</td>\n",
       "      <td>0</td>\n",
       "      <td>5332</td>\n",
       "    </tr>\n",
       "    <tr>\n",
       "      <th>52</th>\n",
       "      <td>2021-08</td>\n",
       "      <td>1</td>\n",
       "      <td>64</td>\n",
       "    </tr>\n",
       "    <tr>\n",
       "      <th>53</th>\n",
       "      <td>2021-09</td>\n",
       "      <td>0</td>\n",
       "      <td>701</td>\n",
       "    </tr>\n",
       "    <tr>\n",
       "      <th>54</th>\n",
       "      <td>2021-09</td>\n",
       "      <td>1</td>\n",
       "      <td>6</td>\n",
       "    </tr>\n",
       "  </tbody>\n",
       "</table>\n",
       "</div>"
      ],
      "text/plain": [
       "   monthyear  prediction  counts\n",
       "0    2019-01           0      10\n",
       "1    2019-02           0      10\n",
       "2    2019-03           0      46\n",
       "3    2019-04           0      10\n",
       "4    2019-05           0      14\n",
       "5    2019-06           0      10\n",
       "6    2019-07           0      26\n",
       "7    2019-08           0       8\n",
       "8    2019-09           0      27\n",
       "9    2019-09           1       1\n",
       "10   2019-10           0      28\n",
       "11   2019-11           0      18\n",
       "12   2019-12           0       9\n",
       "13   2020-01           0     784\n",
       "14   2020-01           1       7\n",
       "15   2020-02           0    1541\n",
       "16   2020-02           1      15\n",
       "17   2020-03           0    2160\n",
       "18   2020-03           1      37\n",
       "19   2020-04           0    5427\n",
       "20   2020-04           1     100\n",
       "21   2020-05           0    4590\n",
       "22   2020-05           1      80\n",
       "23   2020-06           0    2965\n",
       "24   2020-06           1      76\n",
       "25   2020-07           0    2379\n",
       "26   2020-07           1      80\n",
       "27   2020-08           0    2377\n",
       "28   2020-08           1      63\n",
       "29   2020-09           0    1541\n",
       "30   2020-09           1      55\n",
       "31   2020-10           0    1571\n",
       "32   2020-10           1      58\n",
       "33   2020-11           0    1206\n",
       "34   2020-11           1      43\n",
       "35   2020-12           0    2166\n",
       "36   2020-12           1      64\n",
       "37   2021-01           0    2313\n",
       "38   2021-01           1      87\n",
       "39   2021-02           0     821\n",
       "40   2021-02           1      24\n",
       "41   2021-03           0     764\n",
       "42   2021-03           1      25\n",
       "43   2021-04           0    2050\n",
       "44   2021-04           1      84\n",
       "45   2021-05           0    5628\n",
       "46   2021-05           1     163\n",
       "47   2021-06           0    3246\n",
       "48   2021-06           1      43\n",
       "49   2021-07           0    5267\n",
       "50   2021-07           1      70\n",
       "51   2021-08           0    5332\n",
       "52   2021-08           1      64\n",
       "53   2021-09           0     701\n",
       "54   2021-09           1       6"
      ]
     },
     "execution_count": 57,
     "metadata": {},
     "output_type": "execute_result"
    }
   ],
   "source": [
    "sentiment_mth = replacement_df.groupby(['monthyear', 'prediction']).size().reset_index(name = 'counts')\n",
    "sentiment_mth"
   ]
  },
  {
   "cell_type": "code",
   "execution_count": 58,
   "id": "impossible-cancellation",
   "metadata": {},
   "outputs": [],
   "source": [
    "sentiment_mth['monthyear'] = sentiment_mth['monthyear'].astype('str')"
   ]
  },
  {
   "cell_type": "code",
   "execution_count": 52,
   "id": "continent-keeping",
   "metadata": {},
   "outputs": [
    {
     "data": {
      "application/vnd.plotly.v1+json": {
       "config": {
        "plotlyServerURL": "https://plot.ly"
       },
       "data": [
        {
         "alignmentgroup": "True",
         "hovertemplate": "monthyear=%{x}<br>counts=%{text}<br>prediction=%{marker.color}<extra></extra>",
         "legendgroup": "",
         "marker": {
          "color": [
           0,
           0,
           0,
           0,
           0,
           0,
           0,
           0,
           0,
           1,
           0,
           0,
           0,
           0,
           1,
           0,
           1,
           0,
           1,
           0,
           1,
           0,
           1,
           0,
           1,
           0,
           1,
           0,
           1,
           0,
           1,
           0,
           1,
           0,
           1,
           0,
           1,
           0,
           1,
           0,
           1,
           0,
           1,
           0,
           1,
           0,
           1,
           0,
           1,
           0,
           1,
           0,
           1,
           0,
           1
          ],
          "coloraxis": "coloraxis"
         },
         "name": "",
         "offsetgroup": "",
         "orientation": "v",
         "showlegend": false,
         "text": [
          10,
          10,
          46,
          10,
          14,
          10,
          26,
          8,
          27,
          1,
          28,
          18,
          9,
          784,
          7,
          1541,
          15,
          2160,
          37,
          5427,
          100,
          4590,
          80,
          2965,
          76,
          2379,
          80,
          2377,
          63,
          1541,
          55,
          1571,
          58,
          1206,
          43,
          2166,
          64,
          2313,
          87,
          821,
          24,
          764,
          25,
          2050,
          84,
          5628,
          163,
          3246,
          43,
          5267,
          70,
          5332,
          64,
          701,
          6
         ],
         "textposition": "auto",
         "type": "bar",
         "x": [
          "2019-01",
          "2019-02",
          "2019-03",
          "2019-04",
          "2019-05",
          "2019-06",
          "2019-07",
          "2019-08",
          "2019-09",
          "2019-09",
          "2019-10",
          "2019-11",
          "2019-12",
          "2020-01",
          "2020-01",
          "2020-02",
          "2020-02",
          "2020-03",
          "2020-03",
          "2020-04",
          "2020-04",
          "2020-05",
          "2020-05",
          "2020-06",
          "2020-06",
          "2020-07",
          "2020-07",
          "2020-08",
          "2020-08",
          "2020-09",
          "2020-09",
          "2020-10",
          "2020-10",
          "2020-11",
          "2020-11",
          "2020-12",
          "2020-12",
          "2021-01",
          "2021-01",
          "2021-02",
          "2021-02",
          "2021-03",
          "2021-03",
          "2021-04",
          "2021-04",
          "2021-05",
          "2021-05",
          "2021-06",
          "2021-06",
          "2021-07",
          "2021-07",
          "2021-08",
          "2021-08",
          "2021-09",
          "2021-09"
         ],
         "xaxis": "x",
         "y": [
          10,
          10,
          46,
          10,
          14,
          10,
          26,
          8,
          27,
          1,
          28,
          18,
          9,
          784,
          7,
          1541,
          15,
          2160,
          37,
          5427,
          100,
          4590,
          80,
          2965,
          76,
          2379,
          80,
          2377,
          63,
          1541,
          55,
          1571,
          58,
          1206,
          43,
          2166,
          64,
          2313,
          87,
          821,
          24,
          764,
          25,
          2050,
          84,
          5628,
          163,
          3246,
          43,
          5267,
          70,
          5332,
          64,
          701,
          6
         ],
         "yaxis": "y"
        }
       ],
       "layout": {
        "barmode": "group",
        "coloraxis": {
         "colorbar": {
          "title": {
           "text": "prediction"
          }
         },
         "colorscale": [
          [
           0,
           "#0d0887"
          ],
          [
           0.1111111111111111,
           "#46039f"
          ],
          [
           0.2222222222222222,
           "#7201a8"
          ],
          [
           0.3333333333333333,
           "#9c179e"
          ],
          [
           0.4444444444444444,
           "#bd3786"
          ],
          [
           0.5555555555555556,
           "#d8576b"
          ],
          [
           0.6666666666666666,
           "#ed7953"
          ],
          [
           0.7777777777777778,
           "#fb9f3a"
          ],
          [
           0.8888888888888888,
           "#fdca26"
          ],
          [
           1,
           "#f0f921"
          ]
         ]
        },
        "legend": {
         "tracegroupgap": 0
        },
        "margin": {
         "t": 60
        },
        "template": {
         "data": {
          "bar": [
           {
            "error_x": {
             "color": "#2a3f5f"
            },
            "error_y": {
             "color": "#2a3f5f"
            },
            "marker": {
             "line": {
              "color": "#E5ECF6",
              "width": 0.5
             }
            },
            "type": "bar"
           }
          ],
          "barpolar": [
           {
            "marker": {
             "line": {
              "color": "#E5ECF6",
              "width": 0.5
             }
            },
            "type": "barpolar"
           }
          ],
          "carpet": [
           {
            "aaxis": {
             "endlinecolor": "#2a3f5f",
             "gridcolor": "white",
             "linecolor": "white",
             "minorgridcolor": "white",
             "startlinecolor": "#2a3f5f"
            },
            "baxis": {
             "endlinecolor": "#2a3f5f",
             "gridcolor": "white",
             "linecolor": "white",
             "minorgridcolor": "white",
             "startlinecolor": "#2a3f5f"
            },
            "type": "carpet"
           }
          ],
          "choropleth": [
           {
            "colorbar": {
             "outlinewidth": 0,
             "ticks": ""
            },
            "type": "choropleth"
           }
          ],
          "contour": [
           {
            "colorbar": {
             "outlinewidth": 0,
             "ticks": ""
            },
            "colorscale": [
             [
              0,
              "#0d0887"
             ],
             [
              0.1111111111111111,
              "#46039f"
             ],
             [
              0.2222222222222222,
              "#7201a8"
             ],
             [
              0.3333333333333333,
              "#9c179e"
             ],
             [
              0.4444444444444444,
              "#bd3786"
             ],
             [
              0.5555555555555556,
              "#d8576b"
             ],
             [
              0.6666666666666666,
              "#ed7953"
             ],
             [
              0.7777777777777778,
              "#fb9f3a"
             ],
             [
              0.8888888888888888,
              "#fdca26"
             ],
             [
              1,
              "#f0f921"
             ]
            ],
            "type": "contour"
           }
          ],
          "contourcarpet": [
           {
            "colorbar": {
             "outlinewidth": 0,
             "ticks": ""
            },
            "type": "contourcarpet"
           }
          ],
          "heatmap": [
           {
            "colorbar": {
             "outlinewidth": 0,
             "ticks": ""
            },
            "colorscale": [
             [
              0,
              "#0d0887"
             ],
             [
              0.1111111111111111,
              "#46039f"
             ],
             [
              0.2222222222222222,
              "#7201a8"
             ],
             [
              0.3333333333333333,
              "#9c179e"
             ],
             [
              0.4444444444444444,
              "#bd3786"
             ],
             [
              0.5555555555555556,
              "#d8576b"
             ],
             [
              0.6666666666666666,
              "#ed7953"
             ],
             [
              0.7777777777777778,
              "#fb9f3a"
             ],
             [
              0.8888888888888888,
              "#fdca26"
             ],
             [
              1,
              "#f0f921"
             ]
            ],
            "type": "heatmap"
           }
          ],
          "heatmapgl": [
           {
            "colorbar": {
             "outlinewidth": 0,
             "ticks": ""
            },
            "colorscale": [
             [
              0,
              "#0d0887"
             ],
             [
              0.1111111111111111,
              "#46039f"
             ],
             [
              0.2222222222222222,
              "#7201a8"
             ],
             [
              0.3333333333333333,
              "#9c179e"
             ],
             [
              0.4444444444444444,
              "#bd3786"
             ],
             [
              0.5555555555555556,
              "#d8576b"
             ],
             [
              0.6666666666666666,
              "#ed7953"
             ],
             [
              0.7777777777777778,
              "#fb9f3a"
             ],
             [
              0.8888888888888888,
              "#fdca26"
             ],
             [
              1,
              "#f0f921"
             ]
            ],
            "type": "heatmapgl"
           }
          ],
          "histogram": [
           {
            "marker": {
             "colorbar": {
              "outlinewidth": 0,
              "ticks": ""
             }
            },
            "type": "histogram"
           }
          ],
          "histogram2d": [
           {
            "colorbar": {
             "outlinewidth": 0,
             "ticks": ""
            },
            "colorscale": [
             [
              0,
              "#0d0887"
             ],
             [
              0.1111111111111111,
              "#46039f"
             ],
             [
              0.2222222222222222,
              "#7201a8"
             ],
             [
              0.3333333333333333,
              "#9c179e"
             ],
             [
              0.4444444444444444,
              "#bd3786"
             ],
             [
              0.5555555555555556,
              "#d8576b"
             ],
             [
              0.6666666666666666,
              "#ed7953"
             ],
             [
              0.7777777777777778,
              "#fb9f3a"
             ],
             [
              0.8888888888888888,
              "#fdca26"
             ],
             [
              1,
              "#f0f921"
             ]
            ],
            "type": "histogram2d"
           }
          ],
          "histogram2dcontour": [
           {
            "colorbar": {
             "outlinewidth": 0,
             "ticks": ""
            },
            "colorscale": [
             [
              0,
              "#0d0887"
             ],
             [
              0.1111111111111111,
              "#46039f"
             ],
             [
              0.2222222222222222,
              "#7201a8"
             ],
             [
              0.3333333333333333,
              "#9c179e"
             ],
             [
              0.4444444444444444,
              "#bd3786"
             ],
             [
              0.5555555555555556,
              "#d8576b"
             ],
             [
              0.6666666666666666,
              "#ed7953"
             ],
             [
              0.7777777777777778,
              "#fb9f3a"
             ],
             [
              0.8888888888888888,
              "#fdca26"
             ],
             [
              1,
              "#f0f921"
             ]
            ],
            "type": "histogram2dcontour"
           }
          ],
          "mesh3d": [
           {
            "colorbar": {
             "outlinewidth": 0,
             "ticks": ""
            },
            "type": "mesh3d"
           }
          ],
          "parcoords": [
           {
            "line": {
             "colorbar": {
              "outlinewidth": 0,
              "ticks": ""
             }
            },
            "type": "parcoords"
           }
          ],
          "pie": [
           {
            "automargin": true,
            "type": "pie"
           }
          ],
          "scatter": [
           {
            "marker": {
             "colorbar": {
              "outlinewidth": 0,
              "ticks": ""
             }
            },
            "type": "scatter"
           }
          ],
          "scatter3d": [
           {
            "line": {
             "colorbar": {
              "outlinewidth": 0,
              "ticks": ""
             }
            },
            "marker": {
             "colorbar": {
              "outlinewidth": 0,
              "ticks": ""
             }
            },
            "type": "scatter3d"
           }
          ],
          "scattercarpet": [
           {
            "marker": {
             "colorbar": {
              "outlinewidth": 0,
              "ticks": ""
             }
            },
            "type": "scattercarpet"
           }
          ],
          "scattergeo": [
           {
            "marker": {
             "colorbar": {
              "outlinewidth": 0,
              "ticks": ""
             }
            },
            "type": "scattergeo"
           }
          ],
          "scattergl": [
           {
            "marker": {
             "colorbar": {
              "outlinewidth": 0,
              "ticks": ""
             }
            },
            "type": "scattergl"
           }
          ],
          "scattermapbox": [
           {
            "marker": {
             "colorbar": {
              "outlinewidth": 0,
              "ticks": ""
             }
            },
            "type": "scattermapbox"
           }
          ],
          "scatterpolar": [
           {
            "marker": {
             "colorbar": {
              "outlinewidth": 0,
              "ticks": ""
             }
            },
            "type": "scatterpolar"
           }
          ],
          "scatterpolargl": [
           {
            "marker": {
             "colorbar": {
              "outlinewidth": 0,
              "ticks": ""
             }
            },
            "type": "scatterpolargl"
           }
          ],
          "scatterternary": [
           {
            "marker": {
             "colorbar": {
              "outlinewidth": 0,
              "ticks": ""
             }
            },
            "type": "scatterternary"
           }
          ],
          "surface": [
           {
            "colorbar": {
             "outlinewidth": 0,
             "ticks": ""
            },
            "colorscale": [
             [
              0,
              "#0d0887"
             ],
             [
              0.1111111111111111,
              "#46039f"
             ],
             [
              0.2222222222222222,
              "#7201a8"
             ],
             [
              0.3333333333333333,
              "#9c179e"
             ],
             [
              0.4444444444444444,
              "#bd3786"
             ],
             [
              0.5555555555555556,
              "#d8576b"
             ],
             [
              0.6666666666666666,
              "#ed7953"
             ],
             [
              0.7777777777777778,
              "#fb9f3a"
             ],
             [
              0.8888888888888888,
              "#fdca26"
             ],
             [
              1,
              "#f0f921"
             ]
            ],
            "type": "surface"
           }
          ],
          "table": [
           {
            "cells": {
             "fill": {
              "color": "#EBF0F8"
             },
             "line": {
              "color": "white"
             }
            },
            "header": {
             "fill": {
              "color": "#C8D4E3"
             },
             "line": {
              "color": "white"
             }
            },
            "type": "table"
           }
          ]
         },
         "layout": {
          "annotationdefaults": {
           "arrowcolor": "#2a3f5f",
           "arrowhead": 0,
           "arrowwidth": 1
          },
          "autotypenumbers": "strict",
          "coloraxis": {
           "colorbar": {
            "outlinewidth": 0,
            "ticks": ""
           }
          },
          "colorscale": {
           "diverging": [
            [
             0,
             "#8e0152"
            ],
            [
             0.1,
             "#c51b7d"
            ],
            [
             0.2,
             "#de77ae"
            ],
            [
             0.3,
             "#f1b6da"
            ],
            [
             0.4,
             "#fde0ef"
            ],
            [
             0.5,
             "#f7f7f7"
            ],
            [
             0.6,
             "#e6f5d0"
            ],
            [
             0.7,
             "#b8e186"
            ],
            [
             0.8,
             "#7fbc41"
            ],
            [
             0.9,
             "#4d9221"
            ],
            [
             1,
             "#276419"
            ]
           ],
           "sequential": [
            [
             0,
             "#0d0887"
            ],
            [
             0.1111111111111111,
             "#46039f"
            ],
            [
             0.2222222222222222,
             "#7201a8"
            ],
            [
             0.3333333333333333,
             "#9c179e"
            ],
            [
             0.4444444444444444,
             "#bd3786"
            ],
            [
             0.5555555555555556,
             "#d8576b"
            ],
            [
             0.6666666666666666,
             "#ed7953"
            ],
            [
             0.7777777777777778,
             "#fb9f3a"
            ],
            [
             0.8888888888888888,
             "#fdca26"
            ],
            [
             1,
             "#f0f921"
            ]
           ],
           "sequentialminus": [
            [
             0,
             "#0d0887"
            ],
            [
             0.1111111111111111,
             "#46039f"
            ],
            [
             0.2222222222222222,
             "#7201a8"
            ],
            [
             0.3333333333333333,
             "#9c179e"
            ],
            [
             0.4444444444444444,
             "#bd3786"
            ],
            [
             0.5555555555555556,
             "#d8576b"
            ],
            [
             0.6666666666666666,
             "#ed7953"
            ],
            [
             0.7777777777777778,
             "#fb9f3a"
            ],
            [
             0.8888888888888888,
             "#fdca26"
            ],
            [
             1,
             "#f0f921"
            ]
           ]
          },
          "colorway": [
           "#636efa",
           "#EF553B",
           "#00cc96",
           "#ab63fa",
           "#FFA15A",
           "#19d3f3",
           "#FF6692",
           "#B6E880",
           "#FF97FF",
           "#FECB52"
          ],
          "font": {
           "color": "#2a3f5f"
          },
          "geo": {
           "bgcolor": "white",
           "lakecolor": "white",
           "landcolor": "#E5ECF6",
           "showlakes": true,
           "showland": true,
           "subunitcolor": "white"
          },
          "hoverlabel": {
           "align": "left"
          },
          "hovermode": "closest",
          "mapbox": {
           "style": "light"
          },
          "paper_bgcolor": "white",
          "plot_bgcolor": "#E5ECF6",
          "polar": {
           "angularaxis": {
            "gridcolor": "white",
            "linecolor": "white",
            "ticks": ""
           },
           "bgcolor": "#E5ECF6",
           "radialaxis": {
            "gridcolor": "white",
            "linecolor": "white",
            "ticks": ""
           }
          },
          "scene": {
           "xaxis": {
            "backgroundcolor": "#E5ECF6",
            "gridcolor": "white",
            "gridwidth": 2,
            "linecolor": "white",
            "showbackground": true,
            "ticks": "",
            "zerolinecolor": "white"
           },
           "yaxis": {
            "backgroundcolor": "#E5ECF6",
            "gridcolor": "white",
            "gridwidth": 2,
            "linecolor": "white",
            "showbackground": true,
            "ticks": "",
            "zerolinecolor": "white"
           },
           "zaxis": {
            "backgroundcolor": "#E5ECF6",
            "gridcolor": "white",
            "gridwidth": 2,
            "linecolor": "white",
            "showbackground": true,
            "ticks": "",
            "zerolinecolor": "white"
           }
          },
          "shapedefaults": {
           "line": {
            "color": "#2a3f5f"
           }
          },
          "ternary": {
           "aaxis": {
            "gridcolor": "white",
            "linecolor": "white",
            "ticks": ""
           },
           "baxis": {
            "gridcolor": "white",
            "linecolor": "white",
            "ticks": ""
           },
           "bgcolor": "#E5ECF6",
           "caxis": {
            "gridcolor": "white",
            "linecolor": "white",
            "ticks": ""
           }
          },
          "title": {
           "x": 0.05
          },
          "xaxis": {
           "automargin": true,
           "gridcolor": "white",
           "linecolor": "white",
           "ticks": "",
           "title": {
            "standoff": 15
           },
           "zerolinecolor": "white",
           "zerolinewidth": 2
          },
          "yaxis": {
           "automargin": true,
           "gridcolor": "white",
           "linecolor": "white",
           "ticks": "",
           "title": {
            "standoff": 15
           },
           "zerolinecolor": "white",
           "zerolinewidth": 2
          }
         }
        },
        "title": {
         "text": "Facebook Comments under MOH Posts from Jan 2019 to Sep-04 2021"
        },
        "xaxis": {
         "anchor": "y",
         "domain": [
          0,
          1
         ],
         "title": {
          "text": "Months"
         }
        },
        "yaxis": {
         "anchor": "x",
         "domain": [
          0,
          1
         ],
         "title": {
          "text": "Sentiment Analysis"
         }
        }
       }
      },
      "text/html": [
       "<div>                            <div id=\"f6999025-07e8-4e07-8b97-04a46c4c1abb\" class=\"plotly-graph-div\" style=\"height:525px; width:100%;\"></div>            <script type=\"text/javascript\">                require([\"plotly\"], function(Plotly) {                    window.PLOTLYENV=window.PLOTLYENV || {};                                    if (document.getElementById(\"f6999025-07e8-4e07-8b97-04a46c4c1abb\")) {                    Plotly.newPlot(                        \"f6999025-07e8-4e07-8b97-04a46c4c1abb\",                        [{\"alignmentgroup\": \"True\", \"hovertemplate\": \"monthyear=%{x}<br>counts=%{text}<br>prediction=%{marker.color}<extra></extra>\", \"legendgroup\": \"\", \"marker\": {\"color\": [0, 0, 0, 0, 0, 0, 0, 0, 0, 1, 0, 0, 0, 0, 1, 0, 1, 0, 1, 0, 1, 0, 1, 0, 1, 0, 1, 0, 1, 0, 1, 0, 1, 0, 1, 0, 1, 0, 1, 0, 1, 0, 1, 0, 1, 0, 1, 0, 1, 0, 1, 0, 1, 0, 1], \"coloraxis\": \"coloraxis\"}, \"name\": \"\", \"offsetgroup\": \"\", \"orientation\": \"v\", \"showlegend\": false, \"text\": [10.0, 10.0, 46.0, 10.0, 14.0, 10.0, 26.0, 8.0, 27.0, 1.0, 28.0, 18.0, 9.0, 784.0, 7.0, 1541.0, 15.0, 2160.0, 37.0, 5427.0, 100.0, 4590.0, 80.0, 2965.0, 76.0, 2379.0, 80.0, 2377.0, 63.0, 1541.0, 55.0, 1571.0, 58.0, 1206.0, 43.0, 2166.0, 64.0, 2313.0, 87.0, 821.0, 24.0, 764.0, 25.0, 2050.0, 84.0, 5628.0, 163.0, 3246.0, 43.0, 5267.0, 70.0, 5332.0, 64.0, 701.0, 6.0], \"textposition\": \"auto\", \"type\": \"bar\", \"x\": [\"2019-01\", \"2019-02\", \"2019-03\", \"2019-04\", \"2019-05\", \"2019-06\", \"2019-07\", \"2019-08\", \"2019-09\", \"2019-09\", \"2019-10\", \"2019-11\", \"2019-12\", \"2020-01\", \"2020-01\", \"2020-02\", \"2020-02\", \"2020-03\", \"2020-03\", \"2020-04\", \"2020-04\", \"2020-05\", \"2020-05\", \"2020-06\", \"2020-06\", \"2020-07\", \"2020-07\", \"2020-08\", \"2020-08\", \"2020-09\", \"2020-09\", \"2020-10\", \"2020-10\", \"2020-11\", \"2020-11\", \"2020-12\", \"2020-12\", \"2021-01\", \"2021-01\", \"2021-02\", \"2021-02\", \"2021-03\", \"2021-03\", \"2021-04\", \"2021-04\", \"2021-05\", \"2021-05\", \"2021-06\", \"2021-06\", \"2021-07\", \"2021-07\", \"2021-08\", \"2021-08\", \"2021-09\", \"2021-09\"], \"xaxis\": \"x\", \"y\": [10, 10, 46, 10, 14, 10, 26, 8, 27, 1, 28, 18, 9, 784, 7, 1541, 15, 2160, 37, 5427, 100, 4590, 80, 2965, 76, 2379, 80, 2377, 63, 1541, 55, 1571, 58, 1206, 43, 2166, 64, 2313, 87, 821, 24, 764, 25, 2050, 84, 5628, 163, 3246, 43, 5267, 70, 5332, 64, 701, 6], \"yaxis\": \"y\"}],                        {\"barmode\": \"group\", \"coloraxis\": {\"colorbar\": {\"title\": {\"text\": \"prediction\"}}, \"colorscale\": [[0.0, \"#0d0887\"], [0.1111111111111111, \"#46039f\"], [0.2222222222222222, \"#7201a8\"], [0.3333333333333333, \"#9c179e\"], [0.4444444444444444, \"#bd3786\"], [0.5555555555555556, \"#d8576b\"], [0.6666666666666666, \"#ed7953\"], [0.7777777777777778, \"#fb9f3a\"], [0.8888888888888888, \"#fdca26\"], [1.0, \"#f0f921\"]]}, \"legend\": {\"tracegroupgap\": 0}, \"margin\": {\"t\": 60}, \"template\": {\"data\": {\"bar\": [{\"error_x\": {\"color\": \"#2a3f5f\"}, \"error_y\": {\"color\": \"#2a3f5f\"}, \"marker\": {\"line\": {\"color\": \"#E5ECF6\", \"width\": 0.5}}, \"type\": \"bar\"}], \"barpolar\": [{\"marker\": {\"line\": {\"color\": \"#E5ECF6\", \"width\": 0.5}}, \"type\": \"barpolar\"}], \"carpet\": [{\"aaxis\": {\"endlinecolor\": \"#2a3f5f\", \"gridcolor\": \"white\", \"linecolor\": \"white\", \"minorgridcolor\": \"white\", \"startlinecolor\": \"#2a3f5f\"}, \"baxis\": {\"endlinecolor\": \"#2a3f5f\", \"gridcolor\": \"white\", \"linecolor\": \"white\", \"minorgridcolor\": \"white\", \"startlinecolor\": \"#2a3f5f\"}, \"type\": \"carpet\"}], \"choropleth\": [{\"colorbar\": {\"outlinewidth\": 0, \"ticks\": \"\"}, \"type\": \"choropleth\"}], \"contour\": [{\"colorbar\": {\"outlinewidth\": 0, \"ticks\": \"\"}, \"colorscale\": [[0.0, \"#0d0887\"], [0.1111111111111111, \"#46039f\"], [0.2222222222222222, \"#7201a8\"], [0.3333333333333333, \"#9c179e\"], [0.4444444444444444, \"#bd3786\"], [0.5555555555555556, \"#d8576b\"], [0.6666666666666666, \"#ed7953\"], [0.7777777777777778, \"#fb9f3a\"], [0.8888888888888888, \"#fdca26\"], [1.0, \"#f0f921\"]], \"type\": \"contour\"}], \"contourcarpet\": [{\"colorbar\": {\"outlinewidth\": 0, \"ticks\": \"\"}, \"type\": \"contourcarpet\"}], \"heatmap\": [{\"colorbar\": {\"outlinewidth\": 0, \"ticks\": \"\"}, \"colorscale\": [[0.0, \"#0d0887\"], [0.1111111111111111, \"#46039f\"], [0.2222222222222222, \"#7201a8\"], [0.3333333333333333, \"#9c179e\"], [0.4444444444444444, \"#bd3786\"], [0.5555555555555556, \"#d8576b\"], [0.6666666666666666, \"#ed7953\"], [0.7777777777777778, \"#fb9f3a\"], [0.8888888888888888, \"#fdca26\"], [1.0, \"#f0f921\"]], \"type\": \"heatmap\"}], \"heatmapgl\": [{\"colorbar\": {\"outlinewidth\": 0, \"ticks\": \"\"}, \"colorscale\": [[0.0, \"#0d0887\"], [0.1111111111111111, \"#46039f\"], [0.2222222222222222, \"#7201a8\"], [0.3333333333333333, \"#9c179e\"], [0.4444444444444444, \"#bd3786\"], [0.5555555555555556, \"#d8576b\"], [0.6666666666666666, \"#ed7953\"], [0.7777777777777778, \"#fb9f3a\"], [0.8888888888888888, \"#fdca26\"], [1.0, \"#f0f921\"]], \"type\": \"heatmapgl\"}], \"histogram\": [{\"marker\": {\"colorbar\": {\"outlinewidth\": 0, \"ticks\": \"\"}}, \"type\": \"histogram\"}], \"histogram2d\": [{\"colorbar\": {\"outlinewidth\": 0, \"ticks\": \"\"}, \"colorscale\": [[0.0, \"#0d0887\"], [0.1111111111111111, \"#46039f\"], [0.2222222222222222, \"#7201a8\"], [0.3333333333333333, \"#9c179e\"], [0.4444444444444444, \"#bd3786\"], [0.5555555555555556, \"#d8576b\"], [0.6666666666666666, \"#ed7953\"], [0.7777777777777778, \"#fb9f3a\"], [0.8888888888888888, \"#fdca26\"], [1.0, \"#f0f921\"]], \"type\": \"histogram2d\"}], \"histogram2dcontour\": [{\"colorbar\": {\"outlinewidth\": 0, \"ticks\": \"\"}, \"colorscale\": [[0.0, \"#0d0887\"], [0.1111111111111111, \"#46039f\"], [0.2222222222222222, \"#7201a8\"], [0.3333333333333333, \"#9c179e\"], [0.4444444444444444, \"#bd3786\"], [0.5555555555555556, \"#d8576b\"], [0.6666666666666666, \"#ed7953\"], [0.7777777777777778, \"#fb9f3a\"], [0.8888888888888888, \"#fdca26\"], [1.0, \"#f0f921\"]], \"type\": \"histogram2dcontour\"}], \"mesh3d\": [{\"colorbar\": {\"outlinewidth\": 0, \"ticks\": \"\"}, \"type\": \"mesh3d\"}], \"parcoords\": [{\"line\": {\"colorbar\": {\"outlinewidth\": 0, \"ticks\": \"\"}}, \"type\": \"parcoords\"}], \"pie\": [{\"automargin\": true, \"type\": \"pie\"}], \"scatter\": [{\"marker\": {\"colorbar\": {\"outlinewidth\": 0, \"ticks\": \"\"}}, \"type\": \"scatter\"}], \"scatter3d\": [{\"line\": {\"colorbar\": {\"outlinewidth\": 0, \"ticks\": \"\"}}, \"marker\": {\"colorbar\": {\"outlinewidth\": 0, \"ticks\": \"\"}}, \"type\": \"scatter3d\"}], \"scattercarpet\": [{\"marker\": {\"colorbar\": {\"outlinewidth\": 0, \"ticks\": \"\"}}, \"type\": \"scattercarpet\"}], \"scattergeo\": [{\"marker\": {\"colorbar\": {\"outlinewidth\": 0, \"ticks\": \"\"}}, \"type\": \"scattergeo\"}], \"scattergl\": [{\"marker\": {\"colorbar\": {\"outlinewidth\": 0, \"ticks\": \"\"}}, \"type\": \"scattergl\"}], \"scattermapbox\": [{\"marker\": {\"colorbar\": {\"outlinewidth\": 0, \"ticks\": \"\"}}, \"type\": \"scattermapbox\"}], \"scatterpolar\": [{\"marker\": {\"colorbar\": {\"outlinewidth\": 0, \"ticks\": \"\"}}, \"type\": \"scatterpolar\"}], \"scatterpolargl\": [{\"marker\": {\"colorbar\": {\"outlinewidth\": 0, \"ticks\": \"\"}}, \"type\": \"scatterpolargl\"}], \"scatterternary\": [{\"marker\": {\"colorbar\": {\"outlinewidth\": 0, \"ticks\": \"\"}}, \"type\": \"scatterternary\"}], \"surface\": [{\"colorbar\": {\"outlinewidth\": 0, \"ticks\": \"\"}, \"colorscale\": [[0.0, \"#0d0887\"], [0.1111111111111111, \"#46039f\"], [0.2222222222222222, \"#7201a8\"], [0.3333333333333333, \"#9c179e\"], [0.4444444444444444, \"#bd3786\"], [0.5555555555555556, \"#d8576b\"], [0.6666666666666666, \"#ed7953\"], [0.7777777777777778, \"#fb9f3a\"], [0.8888888888888888, \"#fdca26\"], [1.0, \"#f0f921\"]], \"type\": \"surface\"}], \"table\": [{\"cells\": {\"fill\": {\"color\": \"#EBF0F8\"}, \"line\": {\"color\": \"white\"}}, \"header\": {\"fill\": {\"color\": \"#C8D4E3\"}, \"line\": {\"color\": \"white\"}}, \"type\": \"table\"}]}, \"layout\": {\"annotationdefaults\": {\"arrowcolor\": \"#2a3f5f\", \"arrowhead\": 0, \"arrowwidth\": 1}, \"autotypenumbers\": \"strict\", \"coloraxis\": {\"colorbar\": {\"outlinewidth\": 0, \"ticks\": \"\"}}, \"colorscale\": {\"diverging\": [[0, \"#8e0152\"], [0.1, \"#c51b7d\"], [0.2, \"#de77ae\"], [0.3, \"#f1b6da\"], [0.4, \"#fde0ef\"], [0.5, \"#f7f7f7\"], [0.6, \"#e6f5d0\"], [0.7, \"#b8e186\"], [0.8, \"#7fbc41\"], [0.9, \"#4d9221\"], [1, \"#276419\"]], \"sequential\": [[0.0, \"#0d0887\"], [0.1111111111111111, \"#46039f\"], [0.2222222222222222, \"#7201a8\"], [0.3333333333333333, \"#9c179e\"], [0.4444444444444444, \"#bd3786\"], [0.5555555555555556, \"#d8576b\"], [0.6666666666666666, \"#ed7953\"], [0.7777777777777778, \"#fb9f3a\"], [0.8888888888888888, \"#fdca26\"], [1.0, \"#f0f921\"]], \"sequentialminus\": [[0.0, \"#0d0887\"], [0.1111111111111111, \"#46039f\"], [0.2222222222222222, \"#7201a8\"], [0.3333333333333333, \"#9c179e\"], [0.4444444444444444, \"#bd3786\"], [0.5555555555555556, \"#d8576b\"], [0.6666666666666666, \"#ed7953\"], [0.7777777777777778, \"#fb9f3a\"], [0.8888888888888888, \"#fdca26\"], [1.0, \"#f0f921\"]]}, \"colorway\": [\"#636efa\", \"#EF553B\", \"#00cc96\", \"#ab63fa\", \"#FFA15A\", \"#19d3f3\", \"#FF6692\", \"#B6E880\", \"#FF97FF\", \"#FECB52\"], \"font\": {\"color\": \"#2a3f5f\"}, \"geo\": {\"bgcolor\": \"white\", \"lakecolor\": \"white\", \"landcolor\": \"#E5ECF6\", \"showlakes\": true, \"showland\": true, \"subunitcolor\": \"white\"}, \"hoverlabel\": {\"align\": \"left\"}, \"hovermode\": \"closest\", \"mapbox\": {\"style\": \"light\"}, \"paper_bgcolor\": \"white\", \"plot_bgcolor\": \"#E5ECF6\", \"polar\": {\"angularaxis\": {\"gridcolor\": \"white\", \"linecolor\": \"white\", \"ticks\": \"\"}, \"bgcolor\": \"#E5ECF6\", \"radialaxis\": {\"gridcolor\": \"white\", \"linecolor\": \"white\", \"ticks\": \"\"}}, \"scene\": {\"xaxis\": {\"backgroundcolor\": \"#E5ECF6\", \"gridcolor\": \"white\", \"gridwidth\": 2, \"linecolor\": \"white\", \"showbackground\": true, \"ticks\": \"\", \"zerolinecolor\": \"white\"}, \"yaxis\": {\"backgroundcolor\": \"#E5ECF6\", \"gridcolor\": \"white\", \"gridwidth\": 2, \"linecolor\": \"white\", \"showbackground\": true, \"ticks\": \"\", \"zerolinecolor\": \"white\"}, \"zaxis\": {\"backgroundcolor\": \"#E5ECF6\", \"gridcolor\": \"white\", \"gridwidth\": 2, \"linecolor\": \"white\", \"showbackground\": true, \"ticks\": \"\", \"zerolinecolor\": \"white\"}}, \"shapedefaults\": {\"line\": {\"color\": \"#2a3f5f\"}}, \"ternary\": {\"aaxis\": {\"gridcolor\": \"white\", \"linecolor\": \"white\", \"ticks\": \"\"}, \"baxis\": {\"gridcolor\": \"white\", \"linecolor\": \"white\", \"ticks\": \"\"}, \"bgcolor\": \"#E5ECF6\", \"caxis\": {\"gridcolor\": \"white\", \"linecolor\": \"white\", \"ticks\": \"\"}}, \"title\": {\"x\": 0.05}, \"xaxis\": {\"automargin\": true, \"gridcolor\": \"white\", \"linecolor\": \"white\", \"ticks\": \"\", \"title\": {\"standoff\": 15}, \"zerolinecolor\": \"white\", \"zerolinewidth\": 2}, \"yaxis\": {\"automargin\": true, \"gridcolor\": \"white\", \"linecolor\": \"white\", \"ticks\": \"\", \"title\": {\"standoff\": 15}, \"zerolinecolor\": \"white\", \"zerolinewidth\": 2}}}, \"title\": {\"text\": \"Facebook Comments under MOH Posts from Jan 2019 to Sep-04 2021\"}, \"xaxis\": {\"anchor\": \"y\", \"domain\": [0.0, 1.0], \"title\": {\"text\": \"Months\"}}, \"yaxis\": {\"anchor\": \"x\", \"domain\": [0.0, 1.0], \"title\": {\"text\": \"Sentiment Analysis\"}}},                        {\"responsive\": true}                    ).then(function(){\n",
       "                            \n",
       "var gd = document.getElementById('f6999025-07e8-4e07-8b97-04a46c4c1abb');\n",
       "var x = new MutationObserver(function (mutations, observer) {{\n",
       "        var display = window.getComputedStyle(gd).display;\n",
       "        if (!display || display === 'none') {{\n",
       "            console.log([gd, 'removed!']);\n",
       "            Plotly.purge(gd);\n",
       "            observer.disconnect();\n",
       "        }}\n",
       "}});\n",
       "\n",
       "// Listen for the removal of the full notebook cells\n",
       "var notebookContainer = gd.closest('#notebook-container');\n",
       "if (notebookContainer) {{\n",
       "    x.observe(notebookContainer, {childList: true});\n",
       "}}\n",
       "\n",
       "// Listen for the clearing of the current output cell\n",
       "var outputEl = gd.closest('.output');\n",
       "if (outputEl) {{\n",
       "    x.observe(outputEl, {childList: true});\n",
       "}}\n",
       "\n",
       "                        })                };                });            </script>        </div>"
      ]
     },
     "metadata": {},
     "output_type": "display_data"
    }
   ],
   "source": [
    "import plotly.express as px\n",
    "fig = px.bar(sentiment_mth, x='monthyear', \n",
    "                        y='counts', color = 'prediction', barmode = 'group',\n",
    "                        text=\"counts\")\n",
    "fig.update_layout({\"title\": 'Facebook Comments under MOH Posts from Jan 2019 to Sep-04 2021',\n",
    "                   \"xaxis\": {\"title\":\"Months\"},\n",
    "                   \"yaxis\": {\"title\":\"Sentiment Analysis\"}})\n",
    "fig.update_traces(textposition='auto')\n",
    "\n",
    "fig.show()"
   ]
  },
  {
   "cell_type": "code",
   "execution_count": 59,
   "id": "collectible-continent",
   "metadata": {},
   "outputs": [
    {
     "name": "stderr",
     "output_type": "stream",
     "text": [
      "<ipython-input-59-476815679bdc>:4: SettingWithCopyWarning:\n",
      "\n",
      "\n",
      "A value is trying to be set on a copy of a slice from a DataFrame\n",
      "\n",
      "See the caveats in the documentation: https://pandas.pydata.org/pandas-docs/stable/user_guide/indexing.html#returning-a-view-versus-a-copy\n",
      "\n"
     ]
    }
   ],
   "source": [
    "for i in range(len(sentiment_mth)):\n",
    "    if sentiment_mth['prediction'][i] == 0:\n",
    "        count1 = sentiment_mth['counts'][i]\n",
    "        sentiment_mth['counts'][i] = -count1"
   ]
  },
  {
   "cell_type": "code",
   "execution_count": 60,
   "id": "compressed-charter",
   "metadata": {},
   "outputs": [
    {
     "data": {
      "application/vnd.plotly.v1+json": {
       "config": {
        "plotlyServerURL": "https://plot.ly"
       },
       "data": [
        {
         "alignmentgroup": "True",
         "hovertemplate": "monthyear=%{x}<br>counts=%{text}<br>prediction=%{marker.color}<extra></extra>",
         "legendgroup": "",
         "marker": {
          "color": [
           0,
           0,
           0,
           0,
           0,
           0,
           0,
           0,
           0,
           1,
           0,
           0,
           0,
           0,
           1,
           0,
           1,
           0,
           1,
           0,
           1,
           0,
           1,
           0,
           1,
           0,
           1,
           0,
           1,
           0,
           1,
           0,
           1,
           0,
           1,
           0,
           1,
           0,
           1,
           0,
           1,
           0,
           1,
           0,
           1,
           0,
           1,
           0,
           1,
           0,
           1,
           0,
           1,
           0,
           1
          ],
          "coloraxis": "coloraxis"
         },
         "name": "",
         "offsetgroup": "",
         "orientation": "v",
         "showlegend": false,
         "text": [
          -10,
          -10,
          -46,
          -10,
          -14,
          -10,
          -26,
          -8,
          -27,
          1,
          -28,
          -18,
          -9,
          -784,
          7,
          -1541,
          15,
          -2160,
          37,
          -5427,
          100,
          -4590,
          80,
          -2965,
          76,
          -2379,
          80,
          -2377,
          63,
          -1541,
          55,
          -1571,
          58,
          -1206,
          43,
          -2166,
          64,
          -2313,
          87,
          -821,
          24,
          -764,
          25,
          -2050,
          84,
          -5628,
          163,
          -3246,
          43,
          -5267,
          70,
          -5332,
          64,
          -701,
          6
         ],
         "textposition": "auto",
         "type": "bar",
         "x": [
          "2019-01",
          "2019-02",
          "2019-03",
          "2019-04",
          "2019-05",
          "2019-06",
          "2019-07",
          "2019-08",
          "2019-09",
          "2019-09",
          "2019-10",
          "2019-11",
          "2019-12",
          "2020-01",
          "2020-01",
          "2020-02",
          "2020-02",
          "2020-03",
          "2020-03",
          "2020-04",
          "2020-04",
          "2020-05",
          "2020-05",
          "2020-06",
          "2020-06",
          "2020-07",
          "2020-07",
          "2020-08",
          "2020-08",
          "2020-09",
          "2020-09",
          "2020-10",
          "2020-10",
          "2020-11",
          "2020-11",
          "2020-12",
          "2020-12",
          "2021-01",
          "2021-01",
          "2021-02",
          "2021-02",
          "2021-03",
          "2021-03",
          "2021-04",
          "2021-04",
          "2021-05",
          "2021-05",
          "2021-06",
          "2021-06",
          "2021-07",
          "2021-07",
          "2021-08",
          "2021-08",
          "2021-09",
          "2021-09"
         ],
         "xaxis": "x",
         "y": [
          -10,
          -10,
          -46,
          -10,
          -14,
          -10,
          -26,
          -8,
          -27,
          1,
          -28,
          -18,
          -9,
          -784,
          7,
          -1541,
          15,
          -2160,
          37,
          -5427,
          100,
          -4590,
          80,
          -2965,
          76,
          -2379,
          80,
          -2377,
          63,
          -1541,
          55,
          -1571,
          58,
          -1206,
          43,
          -2166,
          64,
          -2313,
          87,
          -821,
          24,
          -764,
          25,
          -2050,
          84,
          -5628,
          163,
          -3246,
          43,
          -5267,
          70,
          -5332,
          64,
          -701,
          6
         ],
         "yaxis": "y"
        }
       ],
       "layout": {
        "barmode": "relative",
        "coloraxis": {
         "colorbar": {
          "title": {
           "text": "prediction"
          }
         },
         "colorscale": [
          [
           0,
           "#0d0887"
          ],
          [
           0.1111111111111111,
           "#46039f"
          ],
          [
           0.2222222222222222,
           "#7201a8"
          ],
          [
           0.3333333333333333,
           "#9c179e"
          ],
          [
           0.4444444444444444,
           "#bd3786"
          ],
          [
           0.5555555555555556,
           "#d8576b"
          ],
          [
           0.6666666666666666,
           "#ed7953"
          ],
          [
           0.7777777777777778,
           "#fb9f3a"
          ],
          [
           0.8888888888888888,
           "#fdca26"
          ],
          [
           1,
           "#f0f921"
          ]
         ]
        },
        "legend": {
         "tracegroupgap": 0
        },
        "margin": {
         "t": 60
        },
        "template": {
         "data": {
          "bar": [
           {
            "error_x": {
             "color": "#2a3f5f"
            },
            "error_y": {
             "color": "#2a3f5f"
            },
            "marker": {
             "line": {
              "color": "#E5ECF6",
              "width": 0.5
             }
            },
            "type": "bar"
           }
          ],
          "barpolar": [
           {
            "marker": {
             "line": {
              "color": "#E5ECF6",
              "width": 0.5
             }
            },
            "type": "barpolar"
           }
          ],
          "carpet": [
           {
            "aaxis": {
             "endlinecolor": "#2a3f5f",
             "gridcolor": "white",
             "linecolor": "white",
             "minorgridcolor": "white",
             "startlinecolor": "#2a3f5f"
            },
            "baxis": {
             "endlinecolor": "#2a3f5f",
             "gridcolor": "white",
             "linecolor": "white",
             "minorgridcolor": "white",
             "startlinecolor": "#2a3f5f"
            },
            "type": "carpet"
           }
          ],
          "choropleth": [
           {
            "colorbar": {
             "outlinewidth": 0,
             "ticks": ""
            },
            "type": "choropleth"
           }
          ],
          "contour": [
           {
            "colorbar": {
             "outlinewidth": 0,
             "ticks": ""
            },
            "colorscale": [
             [
              0,
              "#0d0887"
             ],
             [
              0.1111111111111111,
              "#46039f"
             ],
             [
              0.2222222222222222,
              "#7201a8"
             ],
             [
              0.3333333333333333,
              "#9c179e"
             ],
             [
              0.4444444444444444,
              "#bd3786"
             ],
             [
              0.5555555555555556,
              "#d8576b"
             ],
             [
              0.6666666666666666,
              "#ed7953"
             ],
             [
              0.7777777777777778,
              "#fb9f3a"
             ],
             [
              0.8888888888888888,
              "#fdca26"
             ],
             [
              1,
              "#f0f921"
             ]
            ],
            "type": "contour"
           }
          ],
          "contourcarpet": [
           {
            "colorbar": {
             "outlinewidth": 0,
             "ticks": ""
            },
            "type": "contourcarpet"
           }
          ],
          "heatmap": [
           {
            "colorbar": {
             "outlinewidth": 0,
             "ticks": ""
            },
            "colorscale": [
             [
              0,
              "#0d0887"
             ],
             [
              0.1111111111111111,
              "#46039f"
             ],
             [
              0.2222222222222222,
              "#7201a8"
             ],
             [
              0.3333333333333333,
              "#9c179e"
             ],
             [
              0.4444444444444444,
              "#bd3786"
             ],
             [
              0.5555555555555556,
              "#d8576b"
             ],
             [
              0.6666666666666666,
              "#ed7953"
             ],
             [
              0.7777777777777778,
              "#fb9f3a"
             ],
             [
              0.8888888888888888,
              "#fdca26"
             ],
             [
              1,
              "#f0f921"
             ]
            ],
            "type": "heatmap"
           }
          ],
          "heatmapgl": [
           {
            "colorbar": {
             "outlinewidth": 0,
             "ticks": ""
            },
            "colorscale": [
             [
              0,
              "#0d0887"
             ],
             [
              0.1111111111111111,
              "#46039f"
             ],
             [
              0.2222222222222222,
              "#7201a8"
             ],
             [
              0.3333333333333333,
              "#9c179e"
             ],
             [
              0.4444444444444444,
              "#bd3786"
             ],
             [
              0.5555555555555556,
              "#d8576b"
             ],
             [
              0.6666666666666666,
              "#ed7953"
             ],
             [
              0.7777777777777778,
              "#fb9f3a"
             ],
             [
              0.8888888888888888,
              "#fdca26"
             ],
             [
              1,
              "#f0f921"
             ]
            ],
            "type": "heatmapgl"
           }
          ],
          "histogram": [
           {
            "marker": {
             "colorbar": {
              "outlinewidth": 0,
              "ticks": ""
             }
            },
            "type": "histogram"
           }
          ],
          "histogram2d": [
           {
            "colorbar": {
             "outlinewidth": 0,
             "ticks": ""
            },
            "colorscale": [
             [
              0,
              "#0d0887"
             ],
             [
              0.1111111111111111,
              "#46039f"
             ],
             [
              0.2222222222222222,
              "#7201a8"
             ],
             [
              0.3333333333333333,
              "#9c179e"
             ],
             [
              0.4444444444444444,
              "#bd3786"
             ],
             [
              0.5555555555555556,
              "#d8576b"
             ],
             [
              0.6666666666666666,
              "#ed7953"
             ],
             [
              0.7777777777777778,
              "#fb9f3a"
             ],
             [
              0.8888888888888888,
              "#fdca26"
             ],
             [
              1,
              "#f0f921"
             ]
            ],
            "type": "histogram2d"
           }
          ],
          "histogram2dcontour": [
           {
            "colorbar": {
             "outlinewidth": 0,
             "ticks": ""
            },
            "colorscale": [
             [
              0,
              "#0d0887"
             ],
             [
              0.1111111111111111,
              "#46039f"
             ],
             [
              0.2222222222222222,
              "#7201a8"
             ],
             [
              0.3333333333333333,
              "#9c179e"
             ],
             [
              0.4444444444444444,
              "#bd3786"
             ],
             [
              0.5555555555555556,
              "#d8576b"
             ],
             [
              0.6666666666666666,
              "#ed7953"
             ],
             [
              0.7777777777777778,
              "#fb9f3a"
             ],
             [
              0.8888888888888888,
              "#fdca26"
             ],
             [
              1,
              "#f0f921"
             ]
            ],
            "type": "histogram2dcontour"
           }
          ],
          "mesh3d": [
           {
            "colorbar": {
             "outlinewidth": 0,
             "ticks": ""
            },
            "type": "mesh3d"
           }
          ],
          "parcoords": [
           {
            "line": {
             "colorbar": {
              "outlinewidth": 0,
              "ticks": ""
             }
            },
            "type": "parcoords"
           }
          ],
          "pie": [
           {
            "automargin": true,
            "type": "pie"
           }
          ],
          "scatter": [
           {
            "marker": {
             "colorbar": {
              "outlinewidth": 0,
              "ticks": ""
             }
            },
            "type": "scatter"
           }
          ],
          "scatter3d": [
           {
            "line": {
             "colorbar": {
              "outlinewidth": 0,
              "ticks": ""
             }
            },
            "marker": {
             "colorbar": {
              "outlinewidth": 0,
              "ticks": ""
             }
            },
            "type": "scatter3d"
           }
          ],
          "scattercarpet": [
           {
            "marker": {
             "colorbar": {
              "outlinewidth": 0,
              "ticks": ""
             }
            },
            "type": "scattercarpet"
           }
          ],
          "scattergeo": [
           {
            "marker": {
             "colorbar": {
              "outlinewidth": 0,
              "ticks": ""
             }
            },
            "type": "scattergeo"
           }
          ],
          "scattergl": [
           {
            "marker": {
             "colorbar": {
              "outlinewidth": 0,
              "ticks": ""
             }
            },
            "type": "scattergl"
           }
          ],
          "scattermapbox": [
           {
            "marker": {
             "colorbar": {
              "outlinewidth": 0,
              "ticks": ""
             }
            },
            "type": "scattermapbox"
           }
          ],
          "scatterpolar": [
           {
            "marker": {
             "colorbar": {
              "outlinewidth": 0,
              "ticks": ""
             }
            },
            "type": "scatterpolar"
           }
          ],
          "scatterpolargl": [
           {
            "marker": {
             "colorbar": {
              "outlinewidth": 0,
              "ticks": ""
             }
            },
            "type": "scatterpolargl"
           }
          ],
          "scatterternary": [
           {
            "marker": {
             "colorbar": {
              "outlinewidth": 0,
              "ticks": ""
             }
            },
            "type": "scatterternary"
           }
          ],
          "surface": [
           {
            "colorbar": {
             "outlinewidth": 0,
             "ticks": ""
            },
            "colorscale": [
             [
              0,
              "#0d0887"
             ],
             [
              0.1111111111111111,
              "#46039f"
             ],
             [
              0.2222222222222222,
              "#7201a8"
             ],
             [
              0.3333333333333333,
              "#9c179e"
             ],
             [
              0.4444444444444444,
              "#bd3786"
             ],
             [
              0.5555555555555556,
              "#d8576b"
             ],
             [
              0.6666666666666666,
              "#ed7953"
             ],
             [
              0.7777777777777778,
              "#fb9f3a"
             ],
             [
              0.8888888888888888,
              "#fdca26"
             ],
             [
              1,
              "#f0f921"
             ]
            ],
            "type": "surface"
           }
          ],
          "table": [
           {
            "cells": {
             "fill": {
              "color": "#EBF0F8"
             },
             "line": {
              "color": "white"
             }
            },
            "header": {
             "fill": {
              "color": "#C8D4E3"
             },
             "line": {
              "color": "white"
             }
            },
            "type": "table"
           }
          ]
         },
         "layout": {
          "annotationdefaults": {
           "arrowcolor": "#2a3f5f",
           "arrowhead": 0,
           "arrowwidth": 1
          },
          "autotypenumbers": "strict",
          "coloraxis": {
           "colorbar": {
            "outlinewidth": 0,
            "ticks": ""
           }
          },
          "colorscale": {
           "diverging": [
            [
             0,
             "#8e0152"
            ],
            [
             0.1,
             "#c51b7d"
            ],
            [
             0.2,
             "#de77ae"
            ],
            [
             0.3,
             "#f1b6da"
            ],
            [
             0.4,
             "#fde0ef"
            ],
            [
             0.5,
             "#f7f7f7"
            ],
            [
             0.6,
             "#e6f5d0"
            ],
            [
             0.7,
             "#b8e186"
            ],
            [
             0.8,
             "#7fbc41"
            ],
            [
             0.9,
             "#4d9221"
            ],
            [
             1,
             "#276419"
            ]
           ],
           "sequential": [
            [
             0,
             "#0d0887"
            ],
            [
             0.1111111111111111,
             "#46039f"
            ],
            [
             0.2222222222222222,
             "#7201a8"
            ],
            [
             0.3333333333333333,
             "#9c179e"
            ],
            [
             0.4444444444444444,
             "#bd3786"
            ],
            [
             0.5555555555555556,
             "#d8576b"
            ],
            [
             0.6666666666666666,
             "#ed7953"
            ],
            [
             0.7777777777777778,
             "#fb9f3a"
            ],
            [
             0.8888888888888888,
             "#fdca26"
            ],
            [
             1,
             "#f0f921"
            ]
           ],
           "sequentialminus": [
            [
             0,
             "#0d0887"
            ],
            [
             0.1111111111111111,
             "#46039f"
            ],
            [
             0.2222222222222222,
             "#7201a8"
            ],
            [
             0.3333333333333333,
             "#9c179e"
            ],
            [
             0.4444444444444444,
             "#bd3786"
            ],
            [
             0.5555555555555556,
             "#d8576b"
            ],
            [
             0.6666666666666666,
             "#ed7953"
            ],
            [
             0.7777777777777778,
             "#fb9f3a"
            ],
            [
             0.8888888888888888,
             "#fdca26"
            ],
            [
             1,
             "#f0f921"
            ]
           ]
          },
          "colorway": [
           "#636efa",
           "#EF553B",
           "#00cc96",
           "#ab63fa",
           "#FFA15A",
           "#19d3f3",
           "#FF6692",
           "#B6E880",
           "#FF97FF",
           "#FECB52"
          ],
          "font": {
           "color": "#2a3f5f"
          },
          "geo": {
           "bgcolor": "white",
           "lakecolor": "white",
           "landcolor": "#E5ECF6",
           "showlakes": true,
           "showland": true,
           "subunitcolor": "white"
          },
          "hoverlabel": {
           "align": "left"
          },
          "hovermode": "closest",
          "mapbox": {
           "style": "light"
          },
          "paper_bgcolor": "white",
          "plot_bgcolor": "#E5ECF6",
          "polar": {
           "angularaxis": {
            "gridcolor": "white",
            "linecolor": "white",
            "ticks": ""
           },
           "bgcolor": "#E5ECF6",
           "radialaxis": {
            "gridcolor": "white",
            "linecolor": "white",
            "ticks": ""
           }
          },
          "scene": {
           "xaxis": {
            "backgroundcolor": "#E5ECF6",
            "gridcolor": "white",
            "gridwidth": 2,
            "linecolor": "white",
            "showbackground": true,
            "ticks": "",
            "zerolinecolor": "white"
           },
           "yaxis": {
            "backgroundcolor": "#E5ECF6",
            "gridcolor": "white",
            "gridwidth": 2,
            "linecolor": "white",
            "showbackground": true,
            "ticks": "",
            "zerolinecolor": "white"
           },
           "zaxis": {
            "backgroundcolor": "#E5ECF6",
            "gridcolor": "white",
            "gridwidth": 2,
            "linecolor": "white",
            "showbackground": true,
            "ticks": "",
            "zerolinecolor": "white"
           }
          },
          "shapedefaults": {
           "line": {
            "color": "#2a3f5f"
           }
          },
          "ternary": {
           "aaxis": {
            "gridcolor": "white",
            "linecolor": "white",
            "ticks": ""
           },
           "baxis": {
            "gridcolor": "white",
            "linecolor": "white",
            "ticks": ""
           },
           "bgcolor": "#E5ECF6",
           "caxis": {
            "gridcolor": "white",
            "linecolor": "white",
            "ticks": ""
           }
          },
          "title": {
           "x": 0.05
          },
          "xaxis": {
           "automargin": true,
           "gridcolor": "white",
           "linecolor": "white",
           "ticks": "",
           "title": {
            "standoff": 15
           },
           "zerolinecolor": "white",
           "zerolinewidth": 2
          },
          "yaxis": {
           "automargin": true,
           "gridcolor": "white",
           "linecolor": "white",
           "ticks": "",
           "title": {
            "standoff": 15
           },
           "zerolinecolor": "white",
           "zerolinewidth": 2
          }
         }
        },
        "title": {
         "text": "Facebook Comments under MOH Posts from Jan 2019 to Sep-04 2021"
        },
        "xaxis": {
         "anchor": "y",
         "domain": [
          0,
          1
         ],
         "title": {
          "text": "Months"
         }
        },
        "yaxis": {
         "anchor": "x",
         "domain": [
          0,
          1
         ],
         "title": {
          "text": "Sentiment Analysis"
         }
        }
       }
      },
      "text/html": [
       "<div>                            <div id=\"efe37de3-c9b1-4e69-9390-a9d097906c26\" class=\"plotly-graph-div\" style=\"height:525px; width:100%;\"></div>            <script type=\"text/javascript\">                require([\"plotly\"], function(Plotly) {                    window.PLOTLYENV=window.PLOTLYENV || {};                                    if (document.getElementById(\"efe37de3-c9b1-4e69-9390-a9d097906c26\")) {                    Plotly.newPlot(                        \"efe37de3-c9b1-4e69-9390-a9d097906c26\",                        [{\"alignmentgroup\": \"True\", \"hovertemplate\": \"monthyear=%{x}<br>counts=%{text}<br>prediction=%{marker.color}<extra></extra>\", \"legendgroup\": \"\", \"marker\": {\"color\": [0, 0, 0, 0, 0, 0, 0, 0, 0, 1, 0, 0, 0, 0, 1, 0, 1, 0, 1, 0, 1, 0, 1, 0, 1, 0, 1, 0, 1, 0, 1, 0, 1, 0, 1, 0, 1, 0, 1, 0, 1, 0, 1, 0, 1, 0, 1, 0, 1, 0, 1, 0, 1, 0, 1], \"coloraxis\": \"coloraxis\"}, \"name\": \"\", \"offsetgroup\": \"\", \"orientation\": \"v\", \"showlegend\": false, \"text\": [-10.0, -10.0, -46.0, -10.0, -14.0, -10.0, -26.0, -8.0, -27.0, 1.0, -28.0, -18.0, -9.0, -784.0, 7.0, -1541.0, 15.0, -2160.0, 37.0, -5427.0, 100.0, -4590.0, 80.0, -2965.0, 76.0, -2379.0, 80.0, -2377.0, 63.0, -1541.0, 55.0, -1571.0, 58.0, -1206.0, 43.0, -2166.0, 64.0, -2313.0, 87.0, -821.0, 24.0, -764.0, 25.0, -2050.0, 84.0, -5628.0, 163.0, -3246.0, 43.0, -5267.0, 70.0, -5332.0, 64.0, -701.0, 6.0], \"textposition\": \"auto\", \"type\": \"bar\", \"x\": [\"2019-01\", \"2019-02\", \"2019-03\", \"2019-04\", \"2019-05\", \"2019-06\", \"2019-07\", \"2019-08\", \"2019-09\", \"2019-09\", \"2019-10\", \"2019-11\", \"2019-12\", \"2020-01\", \"2020-01\", \"2020-02\", \"2020-02\", \"2020-03\", \"2020-03\", \"2020-04\", \"2020-04\", \"2020-05\", \"2020-05\", \"2020-06\", \"2020-06\", \"2020-07\", \"2020-07\", \"2020-08\", \"2020-08\", \"2020-09\", \"2020-09\", \"2020-10\", \"2020-10\", \"2020-11\", \"2020-11\", \"2020-12\", \"2020-12\", \"2021-01\", \"2021-01\", \"2021-02\", \"2021-02\", \"2021-03\", \"2021-03\", \"2021-04\", \"2021-04\", \"2021-05\", \"2021-05\", \"2021-06\", \"2021-06\", \"2021-07\", \"2021-07\", \"2021-08\", \"2021-08\", \"2021-09\", \"2021-09\"], \"xaxis\": \"x\", \"y\": [-10, -10, -46, -10, -14, -10, -26, -8, -27, 1, -28, -18, -9, -784, 7, -1541, 15, -2160, 37, -5427, 100, -4590, 80, -2965, 76, -2379, 80, -2377, 63, -1541, 55, -1571, 58, -1206, 43, -2166, 64, -2313, 87, -821, 24, -764, 25, -2050, 84, -5628, 163, -3246, 43, -5267, 70, -5332, 64, -701, 6], \"yaxis\": \"y\"}],                        {\"barmode\": \"relative\", \"coloraxis\": {\"colorbar\": {\"title\": {\"text\": \"prediction\"}}, \"colorscale\": [[0.0, \"#0d0887\"], [0.1111111111111111, \"#46039f\"], [0.2222222222222222, \"#7201a8\"], [0.3333333333333333, \"#9c179e\"], [0.4444444444444444, \"#bd3786\"], [0.5555555555555556, \"#d8576b\"], [0.6666666666666666, \"#ed7953\"], [0.7777777777777778, \"#fb9f3a\"], [0.8888888888888888, \"#fdca26\"], [1.0, \"#f0f921\"]]}, \"legend\": {\"tracegroupgap\": 0}, \"margin\": {\"t\": 60}, \"template\": {\"data\": {\"bar\": [{\"error_x\": {\"color\": \"#2a3f5f\"}, \"error_y\": {\"color\": \"#2a3f5f\"}, \"marker\": {\"line\": {\"color\": \"#E5ECF6\", \"width\": 0.5}}, \"type\": \"bar\"}], \"barpolar\": [{\"marker\": {\"line\": {\"color\": \"#E5ECF6\", \"width\": 0.5}}, \"type\": \"barpolar\"}], \"carpet\": [{\"aaxis\": {\"endlinecolor\": \"#2a3f5f\", \"gridcolor\": \"white\", \"linecolor\": \"white\", \"minorgridcolor\": \"white\", \"startlinecolor\": \"#2a3f5f\"}, \"baxis\": {\"endlinecolor\": \"#2a3f5f\", \"gridcolor\": \"white\", \"linecolor\": \"white\", \"minorgridcolor\": \"white\", \"startlinecolor\": \"#2a3f5f\"}, \"type\": \"carpet\"}], \"choropleth\": [{\"colorbar\": {\"outlinewidth\": 0, \"ticks\": \"\"}, \"type\": \"choropleth\"}], \"contour\": [{\"colorbar\": {\"outlinewidth\": 0, \"ticks\": \"\"}, \"colorscale\": [[0.0, \"#0d0887\"], [0.1111111111111111, \"#46039f\"], [0.2222222222222222, \"#7201a8\"], [0.3333333333333333, \"#9c179e\"], [0.4444444444444444, \"#bd3786\"], [0.5555555555555556, \"#d8576b\"], [0.6666666666666666, \"#ed7953\"], [0.7777777777777778, \"#fb9f3a\"], [0.8888888888888888, \"#fdca26\"], [1.0, \"#f0f921\"]], \"type\": \"contour\"}], \"contourcarpet\": [{\"colorbar\": {\"outlinewidth\": 0, \"ticks\": \"\"}, \"type\": \"contourcarpet\"}], \"heatmap\": [{\"colorbar\": {\"outlinewidth\": 0, \"ticks\": \"\"}, \"colorscale\": [[0.0, \"#0d0887\"], [0.1111111111111111, \"#46039f\"], [0.2222222222222222, \"#7201a8\"], [0.3333333333333333, \"#9c179e\"], [0.4444444444444444, \"#bd3786\"], [0.5555555555555556, \"#d8576b\"], [0.6666666666666666, \"#ed7953\"], [0.7777777777777778, \"#fb9f3a\"], [0.8888888888888888, \"#fdca26\"], [1.0, \"#f0f921\"]], \"type\": \"heatmap\"}], \"heatmapgl\": [{\"colorbar\": {\"outlinewidth\": 0, \"ticks\": \"\"}, \"colorscale\": [[0.0, \"#0d0887\"], [0.1111111111111111, \"#46039f\"], [0.2222222222222222, \"#7201a8\"], [0.3333333333333333, \"#9c179e\"], [0.4444444444444444, \"#bd3786\"], [0.5555555555555556, \"#d8576b\"], [0.6666666666666666, \"#ed7953\"], [0.7777777777777778, \"#fb9f3a\"], [0.8888888888888888, \"#fdca26\"], [1.0, \"#f0f921\"]], \"type\": \"heatmapgl\"}], \"histogram\": [{\"marker\": {\"colorbar\": {\"outlinewidth\": 0, \"ticks\": \"\"}}, \"type\": \"histogram\"}], \"histogram2d\": [{\"colorbar\": {\"outlinewidth\": 0, \"ticks\": \"\"}, \"colorscale\": [[0.0, \"#0d0887\"], [0.1111111111111111, \"#46039f\"], [0.2222222222222222, \"#7201a8\"], [0.3333333333333333, \"#9c179e\"], [0.4444444444444444, \"#bd3786\"], [0.5555555555555556, \"#d8576b\"], [0.6666666666666666, \"#ed7953\"], [0.7777777777777778, \"#fb9f3a\"], [0.8888888888888888, \"#fdca26\"], [1.0, \"#f0f921\"]], \"type\": \"histogram2d\"}], \"histogram2dcontour\": [{\"colorbar\": {\"outlinewidth\": 0, \"ticks\": \"\"}, \"colorscale\": [[0.0, \"#0d0887\"], [0.1111111111111111, \"#46039f\"], [0.2222222222222222, \"#7201a8\"], [0.3333333333333333, \"#9c179e\"], [0.4444444444444444, \"#bd3786\"], [0.5555555555555556, \"#d8576b\"], [0.6666666666666666, \"#ed7953\"], [0.7777777777777778, \"#fb9f3a\"], [0.8888888888888888, \"#fdca26\"], [1.0, \"#f0f921\"]], \"type\": \"histogram2dcontour\"}], \"mesh3d\": [{\"colorbar\": {\"outlinewidth\": 0, \"ticks\": \"\"}, \"type\": \"mesh3d\"}], \"parcoords\": [{\"line\": {\"colorbar\": {\"outlinewidth\": 0, \"ticks\": \"\"}}, \"type\": \"parcoords\"}], \"pie\": [{\"automargin\": true, \"type\": \"pie\"}], \"scatter\": [{\"marker\": {\"colorbar\": {\"outlinewidth\": 0, \"ticks\": \"\"}}, \"type\": \"scatter\"}], \"scatter3d\": [{\"line\": {\"colorbar\": {\"outlinewidth\": 0, \"ticks\": \"\"}}, \"marker\": {\"colorbar\": {\"outlinewidth\": 0, \"ticks\": \"\"}}, \"type\": \"scatter3d\"}], \"scattercarpet\": [{\"marker\": {\"colorbar\": {\"outlinewidth\": 0, \"ticks\": \"\"}}, \"type\": \"scattercarpet\"}], \"scattergeo\": [{\"marker\": {\"colorbar\": {\"outlinewidth\": 0, \"ticks\": \"\"}}, \"type\": \"scattergeo\"}], \"scattergl\": [{\"marker\": {\"colorbar\": {\"outlinewidth\": 0, \"ticks\": \"\"}}, \"type\": \"scattergl\"}], \"scattermapbox\": [{\"marker\": {\"colorbar\": {\"outlinewidth\": 0, \"ticks\": \"\"}}, \"type\": \"scattermapbox\"}], \"scatterpolar\": [{\"marker\": {\"colorbar\": {\"outlinewidth\": 0, \"ticks\": \"\"}}, \"type\": \"scatterpolar\"}], \"scatterpolargl\": [{\"marker\": {\"colorbar\": {\"outlinewidth\": 0, \"ticks\": \"\"}}, \"type\": \"scatterpolargl\"}], \"scatterternary\": [{\"marker\": {\"colorbar\": {\"outlinewidth\": 0, \"ticks\": \"\"}}, \"type\": \"scatterternary\"}], \"surface\": [{\"colorbar\": {\"outlinewidth\": 0, \"ticks\": \"\"}, \"colorscale\": [[0.0, \"#0d0887\"], [0.1111111111111111, \"#46039f\"], [0.2222222222222222, \"#7201a8\"], [0.3333333333333333, \"#9c179e\"], [0.4444444444444444, \"#bd3786\"], [0.5555555555555556, \"#d8576b\"], [0.6666666666666666, \"#ed7953\"], [0.7777777777777778, \"#fb9f3a\"], [0.8888888888888888, \"#fdca26\"], [1.0, \"#f0f921\"]], \"type\": \"surface\"}], \"table\": [{\"cells\": {\"fill\": {\"color\": \"#EBF0F8\"}, \"line\": {\"color\": \"white\"}}, \"header\": {\"fill\": {\"color\": \"#C8D4E3\"}, \"line\": {\"color\": \"white\"}}, \"type\": \"table\"}]}, \"layout\": {\"annotationdefaults\": {\"arrowcolor\": \"#2a3f5f\", \"arrowhead\": 0, \"arrowwidth\": 1}, \"autotypenumbers\": \"strict\", \"coloraxis\": {\"colorbar\": {\"outlinewidth\": 0, \"ticks\": \"\"}}, \"colorscale\": {\"diverging\": [[0, \"#8e0152\"], [0.1, \"#c51b7d\"], [0.2, \"#de77ae\"], [0.3, \"#f1b6da\"], [0.4, \"#fde0ef\"], [0.5, \"#f7f7f7\"], [0.6, \"#e6f5d0\"], [0.7, \"#b8e186\"], [0.8, \"#7fbc41\"], [0.9, \"#4d9221\"], [1, \"#276419\"]], \"sequential\": [[0.0, \"#0d0887\"], [0.1111111111111111, \"#46039f\"], [0.2222222222222222, \"#7201a8\"], [0.3333333333333333, \"#9c179e\"], [0.4444444444444444, \"#bd3786\"], [0.5555555555555556, \"#d8576b\"], [0.6666666666666666, \"#ed7953\"], [0.7777777777777778, \"#fb9f3a\"], [0.8888888888888888, \"#fdca26\"], [1.0, \"#f0f921\"]], \"sequentialminus\": [[0.0, \"#0d0887\"], [0.1111111111111111, \"#46039f\"], [0.2222222222222222, \"#7201a8\"], [0.3333333333333333, \"#9c179e\"], [0.4444444444444444, \"#bd3786\"], [0.5555555555555556, \"#d8576b\"], [0.6666666666666666, \"#ed7953\"], [0.7777777777777778, \"#fb9f3a\"], [0.8888888888888888, \"#fdca26\"], [1.0, \"#f0f921\"]]}, \"colorway\": [\"#636efa\", \"#EF553B\", \"#00cc96\", \"#ab63fa\", \"#FFA15A\", \"#19d3f3\", \"#FF6692\", \"#B6E880\", \"#FF97FF\", \"#FECB52\"], \"font\": {\"color\": \"#2a3f5f\"}, \"geo\": {\"bgcolor\": \"white\", \"lakecolor\": \"white\", \"landcolor\": \"#E5ECF6\", \"showlakes\": true, \"showland\": true, \"subunitcolor\": \"white\"}, \"hoverlabel\": {\"align\": \"left\"}, \"hovermode\": \"closest\", \"mapbox\": {\"style\": \"light\"}, \"paper_bgcolor\": \"white\", \"plot_bgcolor\": \"#E5ECF6\", \"polar\": {\"angularaxis\": {\"gridcolor\": \"white\", \"linecolor\": \"white\", \"ticks\": \"\"}, \"bgcolor\": \"#E5ECF6\", \"radialaxis\": {\"gridcolor\": \"white\", \"linecolor\": \"white\", \"ticks\": \"\"}}, \"scene\": {\"xaxis\": {\"backgroundcolor\": \"#E5ECF6\", \"gridcolor\": \"white\", \"gridwidth\": 2, \"linecolor\": \"white\", \"showbackground\": true, \"ticks\": \"\", \"zerolinecolor\": \"white\"}, \"yaxis\": {\"backgroundcolor\": \"#E5ECF6\", \"gridcolor\": \"white\", \"gridwidth\": 2, \"linecolor\": \"white\", \"showbackground\": true, \"ticks\": \"\", \"zerolinecolor\": \"white\"}, \"zaxis\": {\"backgroundcolor\": \"#E5ECF6\", \"gridcolor\": \"white\", \"gridwidth\": 2, \"linecolor\": \"white\", \"showbackground\": true, \"ticks\": \"\", \"zerolinecolor\": \"white\"}}, \"shapedefaults\": {\"line\": {\"color\": \"#2a3f5f\"}}, \"ternary\": {\"aaxis\": {\"gridcolor\": \"white\", \"linecolor\": \"white\", \"ticks\": \"\"}, \"baxis\": {\"gridcolor\": \"white\", \"linecolor\": \"white\", \"ticks\": \"\"}, \"bgcolor\": \"#E5ECF6\", \"caxis\": {\"gridcolor\": \"white\", \"linecolor\": \"white\", \"ticks\": \"\"}}, \"title\": {\"x\": 0.05}, \"xaxis\": {\"automargin\": true, \"gridcolor\": \"white\", \"linecolor\": \"white\", \"ticks\": \"\", \"title\": {\"standoff\": 15}, \"zerolinecolor\": \"white\", \"zerolinewidth\": 2}, \"yaxis\": {\"automargin\": true, \"gridcolor\": \"white\", \"linecolor\": \"white\", \"ticks\": \"\", \"title\": {\"standoff\": 15}, \"zerolinecolor\": \"white\", \"zerolinewidth\": 2}}}, \"title\": {\"text\": \"Facebook Comments under MOH Posts from Jan 2019 to Sep-04 2021\"}, \"xaxis\": {\"anchor\": \"y\", \"domain\": [0.0, 1.0], \"title\": {\"text\": \"Months\"}}, \"yaxis\": {\"anchor\": \"x\", \"domain\": [0.0, 1.0], \"title\": {\"text\": \"Sentiment Analysis\"}}},                        {\"responsive\": true}                    ).then(function(){\n",
       "                            \n",
       "var gd = document.getElementById('efe37de3-c9b1-4e69-9390-a9d097906c26');\n",
       "var x = new MutationObserver(function (mutations, observer) {{\n",
       "        var display = window.getComputedStyle(gd).display;\n",
       "        if (!display || display === 'none') {{\n",
       "            console.log([gd, 'removed!']);\n",
       "            Plotly.purge(gd);\n",
       "            observer.disconnect();\n",
       "        }}\n",
       "}});\n",
       "\n",
       "// Listen for the removal of the full notebook cells\n",
       "var notebookContainer = gd.closest('#notebook-container');\n",
       "if (notebookContainer) {{\n",
       "    x.observe(notebookContainer, {childList: true});\n",
       "}}\n",
       "\n",
       "// Listen for the clearing of the current output cell\n",
       "var outputEl = gd.closest('.output');\n",
       "if (outputEl) {{\n",
       "    x.observe(outputEl, {childList: true});\n",
       "}}\n",
       "\n",
       "                        })                };                });            </script>        </div>"
      ]
     },
     "metadata": {},
     "output_type": "display_data"
    }
   ],
   "source": [
    "fig = px.bar(sentiment_mth, x='monthyear', \n",
    "                        y='counts', color='prediction', barmode = 'relative',\n",
    "                        text=\"counts\")\n",
    "fig.update_layout({\"title\": 'Facebook Comments under MOH Posts from Jan 2019 to Sep-04 2021',\n",
    "                   \"xaxis\": {\"title\":\"Months\"},\n",
    "                   \"yaxis\": {\"title\":\"Sentiment Analysis\"}})\n",
    "fig.update_traces(textposition='auto')\n",
    "\n",
    "fig.show()"
   ]
  },
  {
   "cell_type": "code",
   "execution_count": null,
   "id": "resident-island",
   "metadata": {},
   "outputs": [],
   "source": []
  }
 ],
 "metadata": {
  "kernelspec": {
   "display_name": "Python 3",
   "language": "python",
   "name": "python3"
  },
  "language_info": {
   "codemirror_mode": {
    "name": "ipython",
    "version": 3
   },
   "file_extension": ".py",
   "mimetype": "text/x-python",
   "name": "python",
   "nbconvert_exporter": "python",
   "pygments_lexer": "ipython3",
   "version": "3.8.5"
  }
 },
 "nbformat": 4,
 "nbformat_minor": 5
}
